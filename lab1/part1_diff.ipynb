{
  "nbformat": 4,
  "nbformat_minor": 0,
  "metadata": {
    "kernelspec": {
      "display_name": "mipt",
      "language": "python",
      "name": "mipt"
    },
    "language_info": {
      "codemirror_mode": {
        "name": "ipython",
        "version": 3
      },
      "file_extension": ".py",
      "mimetype": "text/x-python",
      "name": "python",
      "nbconvert_exporter": "python",
      "pygments_lexer": "ipython3",
      "version": "3.9.5"
    },
    "colab": {
      "name": "Lab1_diff.ipynb",
      "provenance": [],
      "collapsed_sections": [],
      "toc_visible": true
    }
  },
  "cells": [
    {
      "cell_type": "markdown",
      "metadata": {
        "id": "-P6f2Ifv49uZ"
      },
      "source": [
        "*Credits: materials from this notebook belong to YSDA [Practical DL](https://github.com/yandexdataschool/Practical_DL) course. Special thanks for making them available online.*"
      ]
    },
    {
      "cell_type": "markdown",
      "metadata": {
        "id": "0Zx_vMhX49uc"
      },
      "source": [
        "# Lab assignment №1, part 1\n",
        "\n",
        "This lab assignment consists of several parts. You are supposed to make some transformations, train some models, estimate the quality of the models and explain your results.\n",
        "\n",
        "Several comments:\n",
        "* Don't hesitate to ask questions, it's a good practice.\n",
        "* No private/public sharing, please. The copied assignments will be graded with 0 points.\n",
        "* Blocks of this lab will be graded separately."
      ]
    },
    {
      "cell_type": "markdown",
      "metadata": {
        "id": "yPV-BP_I49ud"
      },
      "source": [
        "## Part 1. Matrix differentiation"
      ]
    },
    {
      "cell_type": "markdown",
      "metadata": {
        "id": "kmvvb_tj49ud"
      },
      "source": [
        "Since it easy to google every task please please please try to undestand what's going on. The \"just answer\" thing will be not counted, make sure to present derivation of your solution. It is absolutely OK if you found an answer on web then just exercise in $\\LaTeX$ copying it into here."
      ]
    },
    {
      "cell_type": "code",
      "metadata": {
        "id": "upHK9Dmj49ue",
        "colab": {
          "base_uri": "https://localhost:8080/"
        },
        "outputId": "05bd3741-96d1-4651-d852-7ad00434506e"
      },
      "source": [
        "# If on colab, uncomment the following lines\n",
        "\n",
        "#! wget https://raw.githubusercontent.com/girafe-ai/ml-mipt/basic_f21/homeworks_basic/Lab1_ML_pipeline_and_SVM/grad.png\n",
        "! wget https://raw.githubusercontent.com/girafe-ai/ml-mipt/master/homeworks_basic/Lab1_ML_pipeline_and_SVM/grad.png"
      ],
      "execution_count": 2,
      "outputs": [
        {
          "output_type": "stream",
          "name": "stdout",
          "text": [
            "--2021-10-24 10:45:00--  https://raw.githubusercontent.com/girafe-ai/ml-mipt/master/homeworks_basic/Lab1_ML_pipeline_and_SVM/grad.png\n",
            "Resolving raw.githubusercontent.com (raw.githubusercontent.com)... 185.199.108.133, 185.199.109.133, 185.199.110.133, ...\n",
            "Connecting to raw.githubusercontent.com (raw.githubusercontent.com)|185.199.108.133|:443... connected.\n",
            "HTTP request sent, awaiting response... 200 OK\n",
            "Length: 194173 (190K) [image/png]\n",
            "Saving to: ‘grad.png’\n",
            "\n",
            "\rgrad.png              0%[                    ]       0  --.-KB/s               \rgrad.png            100%[===================>] 189.62K  --.-KB/s    in 0.002s  \n",
            "\n",
            "2021-10-24 10:45:00 (82.1 MB/s) - ‘grad.png’ saved [194173/194173]\n",
            "\n"
          ]
        }
      ]
    },
    {
      "cell_type": "markdown",
      "metadata": {
        "id": "6RXt7oOP49uf"
      },
      "source": [
        "Useful links: \n",
        "[1](http://www.machinelearning.ru/wiki/images/2/2a/Matrix-Gauss.pdf)\n",
        "[2](http://www.atmos.washington.edu/~dennis/MatrixCalculus.pdf)\n",
        "[3](http://research.microsoft.com/en-us/um/people/cmbishop/prml/index.htm)"
      ]
    },
    {
      "cell_type": "markdown",
      "metadata": {
        "id": "6udJM3dZ49uf"
      },
      "source": [
        "## ex. 1"
      ]
    },
    {
      "cell_type": "markdown",
      "metadata": {
        "id": "XDw3GkCk49uf"
      },
      "source": [
        "$$  \n",
        "y = x^Tx,  \\quad x \\in \\mathbb{R}^N \n",
        "$$"
      ]
    },
    {
      "cell_type": "markdown",
      "metadata": {
        "id": "dqF7aYAU1Fa8"
      },
      "source": [
        "###Answer:"
      ]
    },
    {
      "cell_type": "markdown",
      "metadata": {
        "id": "orRfzmSf49ug"
      },
      "source": [
        "$$\n",
        "\\frac{dy}{dx} = \\frac{d(x^Tx)}{dx} = x + (x^T)^T = 2x\n",
        "$$ "
      ]
    },
    {
      "cell_type": "markdown",
      "metadata": {
        "id": "2iTtWvfc49ug"
      },
      "source": [
        "## ex. 2"
      ]
    },
    {
      "cell_type": "markdown",
      "metadata": {
        "id": "cBsQH9sB49uh"
      },
      "source": [
        "$$ y = tr(AB) \\quad A,B \\in \\mathbb{R}^{N \\times N} $$ "
      ]
    },
    {
      "cell_type": "markdown",
      "metadata": {
        "id": "oBNyNvEQ1Ats"
      },
      "source": [
        "###Answer:"
      ]
    },
    {
      "cell_type": "markdown",
      "metadata": {
        "id": "3soFQkbM49uh"
      },
      "source": [
        "$$\n",
        "\\frac{dy}{dA} = \\frac{dy}{dA} = \\frac{d\\Bigr( \\sum\\limits_{i,j=1}^N a_{ij} b_{ji}\\Bigl) }{dA} = \\begin{pmatrix}\n",
        "  b_{11} & b_{21} & .. &b_{N1}\\\\\n",
        "  ..\\\\ \\\\\n",
        "  b_{1N}& & & b_{NN}\n",
        "\\end{pmatrix} = B^T\n",
        "$$"
      ]
    },
    {
      "cell_type": "markdown",
      "metadata": {
        "id": "g_wi1uay49uh"
      },
      "source": [
        "## ex. 3"
      ]
    },
    {
      "cell_type": "markdown",
      "metadata": {
        "id": "rxC7U5g549ui"
      },
      "source": [
        "$$  \n",
        "y = x^TAc , \\quad A\\in \\mathbb{R}^{N \\times N}, x\\in \\mathbb{R}^{N}, c\\in \\mathbb{R}^{N} \n",
        "$$"
      ]
    },
    {
      "cell_type": "markdown",
      "metadata": {
        "id": "1b6DqJ2F0qqZ"
      },
      "source": [
        "### Answer:"
      ]
    },
    {
      "cell_type": "markdown",
      "metadata": {
        "id": "j_WHz-Qt49ui"
      },
      "source": [
        "$$\n",
        "\\frac{dy}{dx} = \\frac{d(x^T (Ac))}{dx} = Ac\n",
        "$$"
      ]
    },
    {
      "cell_type": "markdown",
      "metadata": {
        "id": "maweQZvkF58H"
      },
      "source": [
        "because "
      ]
    },
    {
      "cell_type": "markdown",
      "metadata": {
        "id": "NAmleg1eGKcc"
      },
      "source": [
        "$$\n",
        "(x^T A)c = x^T(Ac) = \\sum\\limits_{i = 1}^N \\sum\\limits_{j = 1}^N A_{ij}x_ic_j\n",
        "$$\n",
        "and Ac does not depend on x"
      ]
    },
    {
      "cell_type": "markdown",
      "metadata": {
        "id": "T9R3f4cN00c3"
      },
      "source": [
        "###Answer:"
      ]
    },
    {
      "cell_type": "markdown",
      "metadata": {
        "id": "E6TuMSys49ui"
      },
      "source": [
        "$$\n",
        "\\frac{dy}{dA} = \\frac{d}{dA} \\Bigr(c_1 \\sum \\limits_{j=1}^Nx_jA_{j1} + ...+c_{N}\\sum \\limits_{j=1}^Nx_jA_{jN}\\Bigr) = \\frac{d}{dA}tr(cx^TA)=(cx^T)^T=xc^T\n",
        "$$ "
      ]
    },
    {
      "cell_type": "markdown",
      "metadata": {
        "id": "qnoObOKu49ui"
      },
      "source": [
        "Hint for the latter (one of the ways): use *ex. 2* result and the fact \n",
        "$$\n",
        "tr(ABC) = tr (CAB)\n",
        "$$"
      ]
    },
    {
      "cell_type": "markdown",
      "metadata": {
        "id": "_MtXxpq149ui"
      },
      "source": [
        "## ex. 4"
      ]
    },
    {
      "cell_type": "markdown",
      "metadata": {
        "id": "32mNI3pb49uj"
      },
      "source": [
        "Classic matrix factorization example. Given matrix $X$ you need to find $A$, $S$ to approximate $X$. This can be done by simple gradient descent iteratively alternating $A$ and $S$ updates.\n",
        "$$\n",
        "J = || X - AS ||_F^2  , \\quad A\\in \\mathbb{R}^{N \\times R} , \\quad S\\in \\mathbb{R}^{R \\times M}\n",
        "$$\n",
        "$$\n",
        "\\frac{dJ}{dS} = ? \n",
        "$$\n",
        "\n",
        "You may use one of the following approaches:"
      ]
    },
    {
      "cell_type": "markdown",
      "metadata": {
        "id": "RsT-O4pz49uj"
      },
      "source": [
        "#### First approach\n",
        "Using ex.2 and the fact:\n",
        "$$\n",
        "|| X ||_F^2 = tr(XX^T) \n",
        "$$ \n",
        "it is easy to derive gradients (you can find it in one of the refs). "
      ]
    },
    {
      "cell_type": "markdown",
      "metadata": {
        "id": "NcuRX43n49uj"
      },
      "source": [
        "#### Second approach\n",
        "You can use *slightly different techniques* if they suits you. Take a look at this derivation:\n",
        "<img src=\"https://github.com/girafe-ai/ml-mipt/blob/21f_basic/homeworks_basic/Lab1_ML_pipeline_and_SVM/grad.png?raw=1\">\n",
        "(excerpt from [Handbook of blind source separation, Jutten, page 517](https://books.google.ru/books?id=PTbj03bYH6kC&printsec=frontcover&dq=Handbook+of+Blind+Source+Separation&hl=en&sa=X&ved=0ahUKEwi-q_apiJDLAhULvXIKHVXJDWcQ6AEIHDAA#v=onepage&q=Handbook%20of%20Blind%20Source%20Separation&f=false), open for better picture)."
      ]
    },
    {
      "cell_type": "markdown",
      "metadata": {
        "id": "ED7vvplD49uj"
      },
      "source": [
        "#### Third approach\n",
        "And finally we can use chain rule! \n",
        "let $ F = AS $ \n",
        "\n",
        "**Find**\n",
        "$$\n",
        "\\frac{dJ}{dF} =  \n",
        "$$ \n",
        "and \n",
        "$$\n",
        "\\frac{dF}{dS} =  \n",
        "$$ \n",
        "(the shape should be $ NM \\times RM )$.\n",
        "\n",
        "Now it is easy do get desired gradients:\n",
        "$$\n",
        "\\frac{dJ}{dS} =  \n",
        "$$ "
      ]
    },
    {
      "cell_type": "markdown",
      "metadata": {
        "id": "EryI2-WzLvIv"
      },
      "source": [
        ""
      ]
    },
    {
      "cell_type": "markdown",
      "metadata": {
        "id": "hdoOBwJpL0WN"
      },
      "source": [
        "### Answer"
      ]
    },
    {
      "cell_type": "markdown",
      "metadata": {
        "id": "XMcd7k5fMBLg"
      },
      "source": [
        "I will use the first approach"
      ]
    },
    {
      "cell_type": "markdown",
      "metadata": {
        "id": "Lcw_NR-RMN8L"
      },
      "source": [
        "$$\n",
        "|| X ||_F^2 = \\sum\\limits_{i, j = 1}^{N}x_{ij}^2 = tr(XX^T) \n",
        "$$ "
      ]
    },
    {
      "cell_type": "markdown",
      "metadata": {
        "id": "qTVClPW-M-mc"
      },
      "source": [
        "$$\n",
        "\\frac{dJ}{dS} = \\frac{dtr\\left[(X - AS)(X - AS)^T\\right]}{dS} = \\frac{dtr\\left[(X - AS)(X^T - S^TA^T)\\right]}{dS} = \\frac{dtr\\left[ XX^T -XS^TA^T - ASX^T + ASS^TA^T \\right]}{dS}  = \\frac{dtr(XX^T)}{dS} - \\frac{dtr(XS^TA^T)}{dS} - \\frac{dtr(ASX^T)}{dS} + \\frac{dtr(ASS^TA^T)}{dS} = - \\frac{dtr(S^TA^TX)}{dS} - \\frac{dtr(SX^TA)}{dS} + \\frac{dtr(SS^TA^TA)}{dS} + \\frac{dtr(A^TASS^T)}{dS} = -2\\frac{dtr(S(X^TA))}{dS} + ((AS)^TA)^T + A^TAS = 2A^TAS - 2A^TX = 2A^T(AS - X)\n",
        "$$ "
      ]
    }
  ]
}