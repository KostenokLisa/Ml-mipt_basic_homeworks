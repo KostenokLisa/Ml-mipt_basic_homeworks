{
  "cells": [
    {
      "cell_type": "markdown",
      "metadata": {
        "id": "NFmOh482SyEF"
      },
      "source": [
        "## Lab 2\n",
        "### Part 2: Dealing with overfitting"
      ]
    },
    {
      "cell_type": "markdown",
      "metadata": {
        "id": "AjzAuO3oSvsI"
      },
      "source": [
        "Today we work with [Fashion-MNIST dataset](https://github.com/zalandoresearch/fashion-mnist) (*hint: it is available in `torchvision`*).\n",
        "\n",
        "Your goal for today:\n",
        "1. Train a FC (fully-connected) network that achieves >= 0.885 test accuracy.\n",
        "2. Cause considerable overfitting by modifying the network (e.g. increasing the number of network parameters and/or layers) and demonstrate in in the appropriate way (e.g. plot loss and accurasy on train and validation set w.r.t. network complexity).\n",
        "3. Try to deal with overfitting (at least partially) by using regularization techniques (Dropout/Batchnorm/...) and demonstrate the results.\n",
        "\n",
        "__Please, write a small report describing your ideas, tries and achieved results in the end of this file.__\n",
        "\n",
        "*Note*: Tasks 2 and 3 are interrelated, in task 3 your goal is to make the network from task 2 less prone to overfitting. Task 1 is independent from 2 and 3.\n",
        "\n",
        "*Note 2*: We recomment to use Google Colab or other machine with GPU acceleration."
      ]
    },
    {
      "cell_type": "code",
      "execution_count": 1,
      "metadata": {
        "id": "_KBld6VOSwhW"
      },
      "outputs": [],
      "source": [
        "import torch\n",
        "import torch.nn as nn\n",
        "import torchvision\n",
        "import torchvision.transforms as transforms\n",
        "import torchsummary\n",
        "from IPython.display import clear_output\n",
        "from matplotlib import pyplot as plt\n",
        "from matplotlib.pyplot import figure\n",
        "import numpy as np\n",
        "import os\n",
        "\n",
        "\n",
        "device = 'cuda:0' if torch.cuda.is_available() else 'cpu'"
      ]
    },
    {
      "cell_type": "code",
      "source": [
        "print(torch.cuda.is_available())"
      ],
      "metadata": {
        "colab": {
          "base_uri": "https://localhost:8080/"
        },
        "id": "smX7ZJa7LDnS",
        "outputId": "056cd8f1-3be4-4e46-a84e-b14796a8d364"
      },
      "execution_count": 2,
      "outputs": [
        {
          "output_type": "stream",
          "name": "stdout",
          "text": [
            "True\n"
          ]
        }
      ]
    },
    {
      "cell_type": "code",
      "execution_count": 3,
      "metadata": {
        "id": "EdLOG0XqS_g5",
        "colab": {
          "base_uri": "https://localhost:8080/"
        },
        "outputId": "97be96a4-ded4-4c8b-ff0e-290d127085b5"
      },
      "outputs": [
        {
          "output_type": "stream",
          "name": "stdout",
          "text": [
            "Directory fmnist is created!\n"
          ]
        }
      ],
      "source": [
        "# Technical function\n",
        "def mkdir(path):\n",
        "    if not os.path.exists(root_path):\n",
        "        os.mkdir(root_path)\n",
        "        print('Directory', path, 'is created!')\n",
        "    else:\n",
        "        print('Directory', path, 'already exists!')\n",
        "        \n",
        "root_path = 'fmnist'\n",
        "mkdir(root_path)"
      ]
    },
    {
      "cell_type": "code",
      "execution_count": 4,
      "metadata": {
        "id": "qt6LE7XaTDT9",
        "colab": {
          "base_uri": "https://localhost:8080/",
          "height": 450,
          "referenced_widgets": [
            "0c81a06001b641ff872c7cb4a5136e0e",
            "5e3b18c8679d4009941da35c1f36ddde",
            "5b8b26f833de40cbacb2ac3907da3ae9",
            "1f1089f945374dc99395a3c45c3b6587",
            "3ab4b3b31e574c6ba4a6a59b6f699d56",
            "bc1972a262bf47408534cc1a905fcba2",
            "b1dc52fefc554ef892ebfc54828e5b81",
            "07f2d118b38045e9bfdb1b85531cd7a5",
            "3cb08aa2675743f88484b352ad7f97d8",
            "c49154af2f77486d96aa29674b1e4904",
            "e2101b93b6c44475b098ba229ab0d3ca",
            "3d325a70952e4800855ae43de16fc187",
            "c6b97f07448a4403bba54d2e8136a41a",
            "06396d27b7cd49c88b11d85be331cffe",
            "dcf0573018a04f56a89472e994a5165c",
            "bcfd12251c8a41a9bb55b0348ed727d6",
            "7426a6195f76498bba23dee90d663418",
            "e4cb112f44574bc8a9f38ca722cb7dc7",
            "a8100758eba9447ba0c7aa581c9ee9f5",
            "e72cbcfc85294113ab9c5029fc8feb03",
            "488778d7a96a444dbddc6518b508f5b8",
            "5e387e01a83e4fc99a96529eae563ef5",
            "3ad1a8937df94088bd41465a06757e06",
            "00db3d4cd5b94487a8728b706b4fdd6b",
            "1293271bf1af47fd9a9beff59f01fd32",
            "201a74e4930f4999bb2ccd29390e0328",
            "bef6e4cef0124dc6b7080d1dee30e50a",
            "9ad725eea9d542b19d9fd0fe89cf7b61",
            "7bc11c630e944a018680fc44a5df5316",
            "8acee5318a074b1990b8e1b6a0b2040e",
            "2e05bb354cd34f10832d45927fbb4350",
            "23da795c33274274b7b2ae7fa9da5168",
            "1c1c3d71aaa34836a4096a7d2c5e029a",
            "86838c6acf4645f7b94651ba4c573788",
            "dbe7c6b6353d46c9bc9fb4f269fdcaf4",
            "96ec2b508f62436793f95c7274c3447d",
            "87d1c0f4dd8b4523b0ed42bfc253b973",
            "1646107cc210483da304f814edc6f295",
            "800c5d6d2eab4ed5bf412afc85fdac0b",
            "5181f1e57e5342f89a24ea7467ba3559",
            "36955e0e92ba412bbff44a073752a993",
            "ac0dab12939c4567a03f3dcfb881a960",
            "0b18594c53f64dcbbc3229516f7f5f7d",
            "246c633d199d4a0c952e379302a2d701"
          ]
        },
        "outputId": "d76278d4-d176-4ee2-fb8b-690f6547af69"
      },
      "outputs": [
        {
          "output_type": "stream",
          "name": "stdout",
          "text": [
            "Downloading http://fashion-mnist.s3-website.eu-central-1.amazonaws.com/train-images-idx3-ubyte.gz\n",
            "Downloading http://fashion-mnist.s3-website.eu-central-1.amazonaws.com/train-images-idx3-ubyte.gz to fmnist/FashionMNIST/raw/train-images-idx3-ubyte.gz\n"
          ]
        },
        {
          "output_type": "display_data",
          "data": {
            "application/vnd.jupyter.widget-view+json": {
              "model_id": "0c81a06001b641ff872c7cb4a5136e0e",
              "version_minor": 0,
              "version_major": 2
            },
            "text/plain": [
              "  0%|          | 0/26421880 [00:00<?, ?it/s]"
            ]
          },
          "metadata": {}
        },
        {
          "output_type": "stream",
          "name": "stdout",
          "text": [
            "Extracting fmnist/FashionMNIST/raw/train-images-idx3-ubyte.gz to fmnist/FashionMNIST/raw\n",
            "\n",
            "Downloading http://fashion-mnist.s3-website.eu-central-1.amazonaws.com/train-labels-idx1-ubyte.gz\n",
            "Downloading http://fashion-mnist.s3-website.eu-central-1.amazonaws.com/train-labels-idx1-ubyte.gz to fmnist/FashionMNIST/raw/train-labels-idx1-ubyte.gz\n"
          ]
        },
        {
          "output_type": "display_data",
          "data": {
            "application/vnd.jupyter.widget-view+json": {
              "model_id": "3d325a70952e4800855ae43de16fc187",
              "version_minor": 0,
              "version_major": 2
            },
            "text/plain": [
              "  0%|          | 0/29515 [00:00<?, ?it/s]"
            ]
          },
          "metadata": {}
        },
        {
          "output_type": "stream",
          "name": "stdout",
          "text": [
            "Extracting fmnist/FashionMNIST/raw/train-labels-idx1-ubyte.gz to fmnist/FashionMNIST/raw\n",
            "\n",
            "Downloading http://fashion-mnist.s3-website.eu-central-1.amazonaws.com/t10k-images-idx3-ubyte.gz\n",
            "Downloading http://fashion-mnist.s3-website.eu-central-1.amazonaws.com/t10k-images-idx3-ubyte.gz to fmnist/FashionMNIST/raw/t10k-images-idx3-ubyte.gz\n"
          ]
        },
        {
          "output_type": "display_data",
          "data": {
            "application/vnd.jupyter.widget-view+json": {
              "model_id": "3ad1a8937df94088bd41465a06757e06",
              "version_minor": 0,
              "version_major": 2
            },
            "text/plain": [
              "  0%|          | 0/4422102 [00:00<?, ?it/s]"
            ]
          },
          "metadata": {}
        },
        {
          "output_type": "stream",
          "name": "stdout",
          "text": [
            "Extracting fmnist/FashionMNIST/raw/t10k-images-idx3-ubyte.gz to fmnist/FashionMNIST/raw\n",
            "\n",
            "Downloading http://fashion-mnist.s3-website.eu-central-1.amazonaws.com/t10k-labels-idx1-ubyte.gz\n",
            "Downloading http://fashion-mnist.s3-website.eu-central-1.amazonaws.com/t10k-labels-idx1-ubyte.gz to fmnist/FashionMNIST/raw/t10k-labels-idx1-ubyte.gz\n"
          ]
        },
        {
          "output_type": "display_data",
          "data": {
            "application/vnd.jupyter.widget-view+json": {
              "model_id": "86838c6acf4645f7b94651ba4c573788",
              "version_minor": 0,
              "version_major": 2
            },
            "text/plain": [
              "  0%|          | 0/5148 [00:00<?, ?it/s]"
            ]
          },
          "metadata": {}
        },
        {
          "output_type": "stream",
          "name": "stdout",
          "text": [
            "Extracting fmnist/FashionMNIST/raw/t10k-labels-idx1-ubyte.gz to fmnist/FashionMNIST/raw\n",
            "\n"
          ]
        }
      ],
      "source": [
        "download = True\n",
        "train_transform = transforms.ToTensor()\n",
        "test_transform = transforms.ToTensor()\n",
        "transforms.Compose((transforms.ToTensor()))\n",
        "\n",
        "\n",
        "fmnist_dataset_train = torchvision.datasets.FashionMNIST(root_path, \n",
        "                                                        train=True, \n",
        "                                                        transform=train_transform,\n",
        "                                                        target_transform=None,\n",
        "                                                        download=download)\n",
        "fmnist_dataset_test = torchvision.datasets.FashionMNIST(root_path, \n",
        "                                                       train=False, \n",
        "                                                       transform=test_transform,\n",
        "                                                       target_transform=None,\n",
        "                                                       download=download)"
      ]
    },
    {
      "cell_type": "code",
      "execution_count": 38,
      "metadata": {
        "id": "71YP0SPwTIxD"
      },
      "outputs": [],
      "source": [
        "train_loader = torch.utils.data.DataLoader(fmnist_dataset_train, \n",
        "                                           batch_size=256,\n",
        "                                           shuffle=True,\n",
        "                                           num_workers=2)\n",
        "test_loader = torch.utils.data.DataLoader(fmnist_dataset_test,\n",
        "                                          batch_size=256,\n",
        "                                          shuffle=False,\n",
        "                                          num_workers=2)"
      ]
    },
    {
      "cell_type": "code",
      "source": [
        "len(fmnist_dataset_train)"
      ],
      "metadata": {
        "colab": {
          "base_uri": "https://localhost:8080/"
        },
        "id": "MyAeEYvtbT4g",
        "outputId": "73a5b56a-50da-459d-a805-7745f5e8e170"
      },
      "execution_count": 6,
      "outputs": [
        {
          "output_type": "execute_result",
          "data": {
            "text/plain": [
              "60000"
            ]
          },
          "metadata": {},
          "execution_count": 6
        }
      ]
    },
    {
      "cell_type": "code",
      "execution_count": 7,
      "metadata": {
        "id": "v_YFmF7NTWrQ",
        "colab": {
          "base_uri": "https://localhost:8080/"
        },
        "outputId": "702049ba-5c27-4946-cde4-2e371d108350"
      },
      "outputs": [
        {
          "output_type": "execute_result",
          "data": {
            "text/plain": [
              "10000"
            ]
          },
          "metadata": {},
          "execution_count": 7
        }
      ],
      "source": [
        "len(fmnist_dataset_test)"
      ]
    },
    {
      "cell_type": "code",
      "execution_count": 8,
      "metadata": {
        "id": "aHca15bOTY4B",
        "colab": {
          "base_uri": "https://localhost:8080/"
        },
        "outputId": "205e8631-6723-466a-dffa-83f8b8d8401b"
      },
      "outputs": [
        {
          "output_type": "stream",
          "name": "stdout",
          "text": [
            "torch.Size([256, 1, 28, 28])\n",
            "torch.Size([256])\n",
            "256\n"
          ]
        }
      ],
      "source": [
        "for img, label in train_loader:\n",
        "    print(img.shape)\n",
        "#     print(img)\n",
        "    print(label.shape)\n",
        "    print(label.size(0))\n",
        "    break"
      ]
    },
    {
      "cell_type": "markdown",
      "metadata": {
        "id": "b6OOOffHTfX5"
      },
      "source": [
        "### Task 1\n",
        "Train a network that achieves $\\geq 0.885$ test accuracy. It's fine to use only Linear (`nn.Linear`) layers and activations/dropout/batchnorm. Convolutional layers might be a great use, but we will meet them a bit later."
      ]
    },
    {
      "cell_type": "code",
      "execution_count": null,
      "metadata": {
        "id": "ftpkTjxlTcFx"
      },
      "outputs": [],
      "source": [
        "class TinyNeuralNetwork(nn.Module):\n",
        "    def __init__(self, input_shape=28*28, num_classes=10, input_channels=1):\n",
        "        super(self.__class__, self).__init__()\n",
        "        self.model = nn.Sequential(\n",
        "            nn.Flatten(), # This layer converts image into a vector to use Linear layers afterwards\n",
        "            # Your network structure comes here\n",
        "            nn.Linear(input_shape, input_shape // 2),\n",
        "            nn.ReLU(),\n",
        "            nn.Linear(input_shape // 2, input_shape // 4),\n",
        "            nn.ReLU(),\n",
        "            nn.Linear(input_shape // 4, input_shape // 8),\n",
        "            nn.ReLU(),\n",
        "            nn.Linear(input_shape // 8, num_classes)\n",
        "        )\n",
        "        \n",
        "    def forward(self, inp):       \n",
        "        out = self.model(inp)\n",
        "        return out"
      ]
    },
    {
      "cell_type": "code",
      "source": [
        ""
      ],
      "metadata": {
        "id": "haoxqeMD5jW4"
      },
      "execution_count": null,
      "outputs": []
    },
    {
      "cell_type": "code",
      "execution_count": null,
      "metadata": {
        "id": "_PKPrqftgkh3",
        "colab": {
          "base_uri": "https://localhost:8080/"
        },
        "outputId": "7f967a0d-9c87-4639-ba98-38515a054545"
      },
      "outputs": [
        {
          "output_type": "stream",
          "name": "stdout",
          "text": [
            "----------------------------------------------------------------\n",
            "        Layer (type)               Output Shape         Param #\n",
            "================================================================\n",
            "           Flatten-1                  [-1, 784]               0\n",
            "            Linear-2                  [-1, 392]         307,720\n",
            "              ReLU-3                  [-1, 392]               0\n",
            "            Linear-4                  [-1, 196]          77,028\n",
            "              ReLU-5                  [-1, 196]               0\n",
            "            Linear-6                   [-1, 98]          19,306\n",
            "              ReLU-7                   [-1, 98]               0\n",
            "            Linear-8                   [-1, 10]             990\n",
            "================================================================\n",
            "Total params: 405,044\n",
            "Trainable params: 405,044\n",
            "Non-trainable params: 0\n",
            "----------------------------------------------------------------\n",
            "Input size (MB): 0.00\n",
            "Forward/backward pass size (MB): 0.02\n",
            "Params size (MB): 1.55\n",
            "Estimated Total Size (MB): 1.56\n",
            "----------------------------------------------------------------\n"
          ]
        }
      ],
      "source": [
        "torchsummary.summary(TinyNeuralNetwork().to(device), (28*28,))"
      ]
    },
    {
      "cell_type": "markdown",
      "metadata": {
        "id": "544PGKEnjPr5"
      },
      "source": [
        "Your experiments come here:"
      ]
    },
    {
      "cell_type": "code",
      "source": [
        ""
      ],
      "metadata": {
        "id": "72eg_ldspiQ3"
      },
      "execution_count": null,
      "outputs": []
    },
    {
      "cell_type": "code",
      "source": [
        "def fit(model, train_loader, val_loader, loss_fn, opt, n_epochs: int):\n",
        "    train_loss = []\n",
        "    train_accuracy = []\n",
        "    val_loss = []\n",
        "    val_accuracy = []\n",
        "\n",
        "    \n",
        "    for epoch in range(n_epochs):\n",
        "        ep_train_loss = []\n",
        "        ep_train_accuracy = []\n",
        "        ep_val_loss = []\n",
        "        ep_val_accuracy = []\n",
        "\n",
        "\n",
        "        model.train(True) \n",
        "        for X_batch, y_batch in train_loader:\n",
        "            X_batch = X_batch.to(device)\n",
        "            y_batch = y_batch.to(device)\n",
        "            opt.zero_grad()\n",
        "            preds = model(X_batch)\n",
        "            y_pred = torch.argmax(preds, axis=1)\n",
        "            ep_train_accuracy.append(torch.sum(y_pred==y_batch).item() / len(y_batch))\n",
        "            loss = loss_fn(preds, y_batch)\n",
        "            loss.backward()\n",
        "            opt.step()\n",
        "            ep_train_loss.append(loss.item())\n",
        "\n",
        "        model.train(False) \n",
        "        with torch.no_grad():\n",
        "            for X_batch, y_batch in val_loader:\n",
        "                X_batch = X_batch.to(device)\n",
        "                y_batch = y_batch.to(device)\n",
        "                preds = model(X_batch)\n",
        "                loss = loss_fn(preds, y_batch)\n",
        "                ep_val_loss.append(loss.item())\n",
        "                y_pred = torch.argmax(preds, axis=1)\n",
        "                ep_val_accuracy.append(torch.sum(y_pred==y_batch).item() / len(y_batch))\n",
        "\n",
        "        # print the results for this epoch:\n",
        "\n",
        "        train_loss.append(np.mean(ep_train_loss))\n",
        "        train_accuracy.append(np.mean(ep_train_accuracy))\n",
        "        val_loss.append(np.mean(ep_val_loss))\n",
        "        val_accuracy.append(np.mean(ep_val_accuracy))\n",
        "        \n",
        "        print(f\"\\t  training loss: {train_loss[-1]:.6f}\")\n",
        "        print(f\"\\t  training accuracy: {train_accuracy[-1]:.3f}\")\n",
        "        print(f\"\\t  validation loss: {val_loss[-1]:.6f}\")\n",
        "        print(f\"\\t  validation accuracy: {val_accuracy[-1]:.3f}\")\n",
        "\n",
        "    return train_loss, val_loss, train_accuracy, val_accuracy"
      ],
      "metadata": {
        "id": "nRJsxae-rdSe"
      },
      "execution_count": 9,
      "outputs": []
    },
    {
      "cell_type": "code",
      "execution_count": null,
      "metadata": {
        "id": "i3POFj90Ti-6"
      },
      "outputs": [],
      "source": [
        "model = TinyNeuralNetwork().to(device)\n",
        "\n",
        "n_epochs = 20\n",
        "opt = torch.optim.Adam(model.parameters(), lr=1e-3)# YOUR CODE HERE\n",
        "loss_func = nn.CrossEntropyLoss()# YOUR CODE HERE\n",
        "\n",
        "# Your experiments, training and validation loops here"
      ]
    },
    {
      "cell_type": "code",
      "source": [
        "train_loss, val_loss, train_accuracy, val_accuracy = fit(model, train_loader, test_loader, loss_func, opt, n_epochs)"
      ],
      "metadata": {
        "colab": {
          "base_uri": "https://localhost:8080/"
        },
        "id": "6z8VD1pF3X1P",
        "outputId": "1800ea93-8b1e-4335-87d3-60577577885d"
      },
      "execution_count": null,
      "outputs": [
        {
          "output_type": "stream",
          "name": "stdout",
          "text": [
            "\t  training loss: 0.650119\n",
            "\t  training accuracy: 0.766\n",
            "\t  validation loss: 0.496746\n",
            "\t  validation accuracy: 0.822\n",
            "\t  training loss: 0.414242\n",
            "\t  training accuracy: 0.852\n",
            "\t  validation loss: 0.408861\n",
            "\t  validation accuracy: 0.852\n",
            "\t  training loss: 0.364123\n",
            "\t  training accuracy: 0.867\n",
            "\t  validation loss: 0.388179\n",
            "\t  validation accuracy: 0.859\n",
            "\t  training loss: 0.329829\n",
            "\t  training accuracy: 0.878\n",
            "\t  validation loss: 0.377412\n",
            "\t  validation accuracy: 0.865\n",
            "\t  training loss: 0.308636\n",
            "\t  training accuracy: 0.887\n",
            "\t  validation loss: 0.361035\n",
            "\t  validation accuracy: 0.871\n",
            "\t  training loss: 0.289880\n",
            "\t  training accuracy: 0.892\n",
            "\t  validation loss: 0.358893\n",
            "\t  validation accuracy: 0.871\n",
            "\t  training loss: 0.279694\n",
            "\t  training accuracy: 0.896\n",
            "\t  validation loss: 0.356465\n",
            "\t  validation accuracy: 0.877\n",
            "\t  training loss: 0.265354\n",
            "\t  training accuracy: 0.901\n",
            "\t  validation loss: 0.326743\n",
            "\t  validation accuracy: 0.884\n",
            "\t  training loss: 0.253068\n",
            "\t  training accuracy: 0.906\n",
            "\t  validation loss: 0.325191\n",
            "\t  validation accuracy: 0.882\n",
            "\t  training loss: 0.246063\n",
            "\t  training accuracy: 0.908\n",
            "\t  validation loss: 0.319944\n",
            "\t  validation accuracy: 0.887\n",
            "\t  training loss: 0.231753\n",
            "\t  training accuracy: 0.914\n",
            "\t  validation loss: 0.337320\n",
            "\t  validation accuracy: 0.880\n",
            "\t  training loss: 0.225010\n",
            "\t  training accuracy: 0.916\n",
            "\t  validation loss: 0.317074\n",
            "\t  validation accuracy: 0.887\n",
            "\t  training loss: 0.219840\n",
            "\t  training accuracy: 0.918\n",
            "\t  validation loss: 0.317371\n",
            "\t  validation accuracy: 0.891\n",
            "\t  training loss: 0.210499\n",
            "\t  training accuracy: 0.921\n",
            "\t  validation loss: 0.324546\n",
            "\t  validation accuracy: 0.888\n",
            "\t  training loss: 0.200895\n",
            "\t  training accuracy: 0.924\n",
            "\t  validation loss: 0.334701\n",
            "\t  validation accuracy: 0.887\n",
            "\t  training loss: 0.196824\n",
            "\t  training accuracy: 0.926\n",
            "\t  validation loss: 0.343390\n",
            "\t  validation accuracy: 0.888\n",
            "\t  training loss: 0.191066\n",
            "\t  training accuracy: 0.928\n",
            "\t  validation loss: 0.320321\n",
            "\t  validation accuracy: 0.897\n",
            "\t  training loss: 0.182426\n",
            "\t  training accuracy: 0.932\n",
            "\t  validation loss: 0.361373\n",
            "\t  validation accuracy: 0.886\n",
            "\t  training loss: 0.176726\n",
            "\t  training accuracy: 0.934\n",
            "\t  validation loss: 0.334487\n",
            "\t  validation accuracy: 0.893\n",
            "\t  training loss: 0.165570\n",
            "\t  training accuracy: 0.937\n",
            "\t  validation loss: 0.343761\n",
            "\t  validation accuracy: 0.891\n"
          ]
        }
      ]
    },
    {
      "cell_type": "code",
      "source": [
        "fig, axes = plt.subplots(1, 2, figsize=(15, 5))\n",
        "\n",
        "axes[0].set_title('Loss')\n",
        "axes[0].plot(train_loss, label='train')\n",
        "axes[0].plot(val_loss, label='validation')\n",
        "axes[0].set_xlabel('epoch')\n",
        "axes[0].legend()\n",
        "\n",
        "axes[1].set_title('Accuracy')\n",
        "axes[1].plot(train_accuracy, label='train')\n",
        "axes[1].plot(val_accuracy, label='validation')\n",
        "axes[1].set_xlabel('epoch')\n",
        "axes[1].legend()"
      ],
      "metadata": {
        "colab": {
          "base_uri": "https://localhost:8080/",
          "height": 274
        },
        "id": "ainhPohzQ9Aj",
        "outputId": "31ec9851-d8a0-4e98-a3ce-5a778797a9f4"
      },
      "execution_count": null,
      "outputs": [
        {
          "output_type": "execute_result",
          "data": {
            "text/plain": [
              "<matplotlib.legend.Legend at 0x7f7814969490>"
            ]
          },
          "metadata": {},
          "execution_count": 62
        },
        {
          "output_type": "display_data",
          "data": {
            "image/png": "[encoded data removed]",
            "text/plain": [
              "<Figure size 1080x360 with 2 Axes>"
            ]
          },
          "metadata": {
            "needs_background": "light"
          }
        }
      ]
    },
    {
      "cell_type": "code",
      "source": [
        "def test(model, test_loader):\n",
        "    accuracy = []\n",
        "    model.train(False) \n",
        "    with torch.no_grad():\n",
        "        for X_batch, y_batch in test_loader:\n",
        "            X_batch = X_batch.to(device)\n",
        "            y_batch = y_batch.to(device)\n",
        "            predictions = model(X_batch)\n",
        "            y_pred = torch.argmax(predictions, axis=1)\n",
        "            accuracy.append(torch.sum(y_pred==y_batch).item() / len(y_batch))\n",
        "    return np.mean(accuracy)"
      ],
      "metadata": {
        "id": "GrNy7yyrSG_o"
      },
      "execution_count": 10,
      "outputs": []
    },
    {
      "cell_type": "code",
      "source": [
        "print(\"Test_accuracy = \", test(model, test_loader))"
      ],
      "metadata": {
        "colab": {
          "base_uri": "https://localhost:8080/"
        },
        "id": "a2cFakRhXPSY",
        "outputId": "5c5dd3d2-a81b-4a8d-9991-e239e6701df4"
      },
      "execution_count": null,
      "outputs": [
        {
          "output_type": "stream",
          "name": "stdout",
          "text": [
            "Test_accuracy =  0.8912109375\n"
          ]
        }
      ]
    },
    {
      "cell_type": "markdown",
      "metadata": {
        "id": "L7ISqkjmCPB1"
      },
      "source": [
        "### Task 2: Overfit it.\n",
        "Build a network that will overfit to this dataset. Demonstrate the overfitting in the appropriate way (e.g. plot loss and accurasy on train and test set w.r.t. network complexity).\n",
        "\n",
        "*Note:* you also might decrease the size of `train` dataset to enforce the overfitting and speed up the computations."
      ]
    },
    {
      "cell_type": "code",
      "source": [
        "indices = np.arange(20000)\n",
        "train_dataset_decreased = torch.utils.data.Subset(fmnist_dataset_train, indices)\n",
        "train_loader = torch.utils.data.DataLoader(train_dataset_decreased, \n",
        "                                           batch_size=256,\n",
        "                                           shuffle=True,\n",
        "                                           num_workers=2)"
      ],
      "metadata": {
        "id": "yZOBM9A5a4Lx"
      },
      "execution_count": 11,
      "outputs": []
    },
    {
      "cell_type": "code",
      "source": [
        "class OverfittingNeuralNetwork(nn.Module):\n",
        "    def __init__(self, input_shape=28*28, num_classes=10, input_channels=1):\n",
        "        super(self.__class__, self).__init__()\n",
        "        self.model = nn.Sequential(\n",
        "            nn.Flatten(), # This layer converts image into a vector to use Linear layers afterwards\n",
        "            # Your network structure comes here\n",
        "            nn.Linear(input_shape, input_shape * 4),\n",
        "            nn.ReLU(),\n",
        "            nn.Linear(input_shape * 4, input_shape * 2),\n",
        "            nn.ReLU(),\n",
        "            nn.Linear(input_shape * 2, input_shape // 2),\n",
        "            nn.ReLU(),\n",
        "            nn.Linear(input_shape // 2, input_shape // 8),\n",
        "            nn.ReLU(),\n",
        "            nn.Linear(input_shape // 8, input_shape // 16),\n",
        "            nn.ReLU(),\n",
        "            nn.Linear(input_shape // 16, num_classes)\n",
        "        )\n",
        "        \n",
        "    def forward(self, inp):       \n",
        "        out = self.model(inp)\n",
        "        return out"
      ],
      "metadata": {
        "id": "5vsF6DH_lZLS"
      },
      "execution_count": null,
      "outputs": []
    },
    {
      "cell_type": "code",
      "execution_count": null,
      "metadata": {
        "id": "H12uAWiGBwJx"
      },
      "outputs": [],
      "source": [
        "class OverfittingNeuralNetwork1(nn.Module):\n",
        "    def __init__(self, input_shape=28*28, num_classes=10, input_channels=1):\n",
        "        super(self.__class__, self).__init__()\n",
        "        self.model = nn.Sequential(\n",
        "            nn.Flatten(), # This layer converts image into a vector to use Linear layers afterwards\n",
        "            # Your network structure comes here\n",
        "            nn.Linear(input_shape, input_shape * 2),\n",
        "            nn.ReLU(),\n",
        "            nn.Linear(input_shape * 2, input_shape // 2),\n",
        "            nn.ReLU(),\n",
        "            nn.Linear(input_shape // 2, input_shape // 8),\n",
        "            nn.ReLU(),\n",
        "            nn.Linear(input_shape // 8, input_shape // 16),\n",
        "            nn.ReLU(),\n",
        "            nn.Linear(input_shape // 16, num_classes)\n",
        "        )\n",
        "        \n",
        "    def forward(self, inp):       \n",
        "        out = self.model(inp)\n",
        "        return out"
      ]
    },
    {
      "cell_type": "code",
      "source": [
        "class OverfittingNeuralNetwork2(nn.Module):\n",
        "    def __init__(self, input_shape=28*28, num_classes=10, input_channels=1):\n",
        "        super(self.__class__, self).__init__()\n",
        "        self.model = nn.Sequential(\n",
        "            nn.Flatten(), # This layer converts image into a vector to use Linear layers afterwards\n",
        "            # Your network structure comes here\n",
        "            nn.Linear(input_shape, input_shape // 2),\n",
        "            nn.ReLU(),\n",
        "            nn.Linear(input_shape // 2, input_shape // 4),\n",
        "            nn.ReLU(),\n",
        "            nn.Linear(input_shape // 4, input_shape // 8),\n",
        "            nn.ReLU(),\n",
        "            nn.Linear(input_shape // 8, num_classes)\n",
        "        )\n",
        "        \n",
        "    def forward(self, inp):       \n",
        "        out = self.model(inp)\n",
        "        return out"
      ],
      "metadata": {
        "id": "CInFXNigocKw"
      },
      "execution_count": null,
      "outputs": []
    },
    {
      "cell_type": "code",
      "execution_count": null,
      "metadata": {
        "id": "JgXAKCpvCwqH",
        "colab": {
          "base_uri": "https://localhost:8080/"
        },
        "outputId": "7ba5070b-b526-4721-b748-cb45021ea600"
      },
      "outputs": [
        {
          "output_type": "stream",
          "name": "stdout",
          "text": [
            "----------------------------------------------------------------\n",
            "        Layer (type)               Output Shape         Param #\n",
            "================================================================\n",
            "           Flatten-1                  [-1, 784]               0\n",
            "            Linear-2                 [-1, 3136]       2,461,760\n",
            "              ReLU-3                 [-1, 3136]               0\n",
            "            Linear-4                 [-1, 1568]       4,918,816\n",
            "              ReLU-5                 [-1, 1568]               0\n",
            "            Linear-6                  [-1, 392]         615,048\n",
            "              ReLU-7                  [-1, 392]               0\n",
            "            Linear-8                   [-1, 98]          38,514\n",
            "              ReLU-9                   [-1, 98]               0\n",
            "           Linear-10                   [-1, 49]           4,851\n",
            "             ReLU-11                   [-1, 49]               0\n",
            "           Linear-12                   [-1, 10]             500\n",
            "================================================================\n",
            "Total params: 8,039,489\n",
            "Trainable params: 8,039,489\n",
            "Non-trainable params: 0\n",
            "----------------------------------------------------------------\n",
            "Input size (MB): 0.00\n",
            "Forward/backward pass size (MB): 0.09\n",
            "Params size (MB): 30.67\n",
            "Estimated Total Size (MB): 30.76\n",
            "----------------------------------------------------------------\n"
          ]
        }
      ],
      "source": [
        "torchsummary.summary(OverfittingNeuralNetwork().to(device), (28*28,))"
      ]
    },
    {
      "cell_type": "code",
      "source": [
        "torchsummary.summary(OverfittingNeuralNetwork1().to(device), (28*28,))"
      ],
      "metadata": {
        "colab": {
          "base_uri": "https://localhost:8080/"
        },
        "id": "YRAPhNrhmQ84",
        "outputId": "921e2e1c-d420-4d45-cf48-c06f83afc412"
      },
      "execution_count": null,
      "outputs": [
        {
          "output_type": "stream",
          "name": "stdout",
          "text": [
            "----------------------------------------------------------------\n",
            "        Layer (type)               Output Shape         Param #\n",
            "================================================================\n",
            "           Flatten-1                  [-1, 784]               0\n",
            "            Linear-2                 [-1, 1568]       1,230,880\n",
            "              ReLU-3                 [-1, 1568]               0\n",
            "            Linear-4                  [-1, 392]         615,048\n",
            "              ReLU-5                  [-1, 392]               0\n",
            "            Linear-6                   [-1, 98]          38,514\n",
            "              ReLU-7                   [-1, 98]               0\n",
            "            Linear-8                   [-1, 49]           4,851\n",
            "              ReLU-9                   [-1, 49]               0\n",
            "           Linear-10                   [-1, 10]             500\n",
            "================================================================\n",
            "Total params: 1,889,793\n",
            "Trainable params: 1,889,793\n",
            "Non-trainable params: 0\n",
            "----------------------------------------------------------------\n",
            "Input size (MB): 0.00\n",
            "Forward/backward pass size (MB): 0.04\n",
            "Params size (MB): 7.21\n",
            "Estimated Total Size (MB): 7.25\n",
            "----------------------------------------------------------------\n"
          ]
        }
      ]
    },
    {
      "cell_type": "code",
      "source": [
        "torchsummary.summary(OverfittingNeuralNetwork2().to(device), (28*28,))"
      ],
      "metadata": {
        "colab": {
          "base_uri": "https://localhost:8080/"
        },
        "id": "Zop4UrpxrTc_",
        "outputId": "a15d51da-32c9-48f1-b01c-75e6a01fb3ca"
      },
      "execution_count": null,
      "outputs": [
        {
          "output_type": "stream",
          "name": "stdout",
          "text": [
            "----------------------------------------------------------------\n",
            "        Layer (type)               Output Shape         Param #\n",
            "================================================================\n",
            "           Flatten-1                  [-1, 784]               0\n",
            "            Linear-2                  [-1, 392]         307,720\n",
            "              ReLU-3                  [-1, 392]               0\n",
            "            Linear-4                  [-1, 196]          77,028\n",
            "              ReLU-5                  [-1, 196]               0\n",
            "            Linear-6                   [-1, 98]          19,306\n",
            "              ReLU-7                   [-1, 98]               0\n",
            "            Linear-8                   [-1, 10]             990\n",
            "================================================================\n",
            "Total params: 405,044\n",
            "Trainable params: 405,044\n",
            "Non-trainable params: 0\n",
            "----------------------------------------------------------------\n",
            "Input size (MB): 0.00\n",
            "Forward/backward pass size (MB): 0.02\n",
            "Params size (MB): 1.55\n",
            "Estimated Total Size (MB): 1.56\n",
            "----------------------------------------------------------------\n"
          ]
        }
      ]
    },
    {
      "cell_type": "code",
      "execution_count": null,
      "metadata": {
        "id": "DRTPmwY5gkh5"
      },
      "outputs": [],
      "source": [
        "model = OverfittingNeuralNetwork().to(device)\n",
        "n_epochs = 50\n",
        "opt = torch.optim.Adam(model.parameters(), lr=1e-3)# YOUR CODE HERE\n",
        "loss_func = nn.CrossEntropyLoss()# YOUR CODE HERE"
      ]
    },
    {
      "cell_type": "code",
      "source": [
        "train_loss, val_loss, train_accuracy, val_accuracy = fit(model, train_loader, test_loader, loss_func, opt, n_epochs)"
      ],
      "metadata": {
        "colab": {
          "base_uri": "https://localhost:8080/"
        },
        "id": "57avMy4SfWf0",
        "outputId": "2a4fd9f3-0cda-4f24-8d02-9fc8fecead63"
      },
      "execution_count": null,
      "outputs": [
        {
          "output_type": "stream",
          "name": "stdout",
          "text": [
            "\t  training loss: 1.001745\n",
            "\t  training accuracy: 0.610\n",
            "\t  validation loss: 0.721925\n",
            "\t  validation accuracy: 0.737\n",
            "\t  training loss: 0.533322\n",
            "\t  training accuracy: 0.800\n",
            "\t  validation loss: 0.545067\n",
            "\t  validation accuracy: 0.794\n",
            "\t  training loss: 0.450711\n",
            "\t  training accuracy: 0.834\n",
            "\t  validation loss: 0.473693\n",
            "\t  validation accuracy: 0.833\n",
            "\t  training loss: 0.401624\n",
            "\t  training accuracy: 0.855\n",
            "\t  validation loss: 0.445174\n",
            "\t  validation accuracy: 0.839\n",
            "\t  training loss: 0.384331\n",
            "\t  training accuracy: 0.857\n",
            "\t  validation loss: 0.460353\n",
            "\t  validation accuracy: 0.832\n",
            "\t  training loss: 0.348831\n",
            "\t  training accuracy: 0.870\n",
            "\t  validation loss: 0.417098\n",
            "\t  validation accuracy: 0.855\n",
            "\t  training loss: 0.329965\n",
            "\t  training accuracy: 0.878\n",
            "\t  validation loss: 0.513131\n",
            "\t  validation accuracy: 0.823\n",
            "\t  training loss: 0.313252\n",
            "\t  training accuracy: 0.883\n",
            "\t  validation loss: 0.396486\n",
            "\t  validation accuracy: 0.862\n",
            "\t  training loss: 0.311334\n",
            "\t  training accuracy: 0.885\n",
            "\t  validation loss: 0.437304\n",
            "\t  validation accuracy: 0.853\n",
            "\t  training loss: 0.284455\n",
            "\t  training accuracy: 0.892\n",
            "\t  validation loss: 0.401612\n",
            "\t  validation accuracy: 0.864\n",
            "\t  training loss: 0.267747\n",
            "\t  training accuracy: 0.898\n",
            "\t  validation loss: 0.385147\n",
            "\t  validation accuracy: 0.865\n",
            "\t  training loss: 0.266678\n",
            "\t  training accuracy: 0.898\n",
            "\t  validation loss: 0.372881\n",
            "\t  validation accuracy: 0.868\n",
            "\t  training loss: 0.249936\n",
            "\t  training accuracy: 0.906\n",
            "\t  validation loss: 0.472912\n",
            "\t  validation accuracy: 0.842\n",
            "\t  training loss: 0.244237\n",
            "\t  training accuracy: 0.908\n",
            "\t  validation loss: 0.435808\n",
            "\t  validation accuracy: 0.857\n",
            "\t  training loss: 0.234510\n",
            "\t  training accuracy: 0.911\n",
            "\t  validation loss: 0.482424\n",
            "\t  validation accuracy: 0.841\n",
            "\t  training loss: 0.237553\n",
            "\t  training accuracy: 0.909\n",
            "\t  validation loss: 0.402083\n",
            "\t  validation accuracy: 0.867\n",
            "\t  training loss: 0.216884\n",
            "\t  training accuracy: 0.917\n",
            "\t  validation loss: 0.456689\n",
            "\t  validation accuracy: 0.850\n",
            "\t  training loss: 0.213665\n",
            "\t  training accuracy: 0.919\n",
            "\t  validation loss: 0.426251\n",
            "\t  validation accuracy: 0.863\n",
            "\t  training loss: 0.196799\n",
            "\t  training accuracy: 0.925\n",
            "\t  validation loss: 0.459594\n",
            "\t  validation accuracy: 0.861\n",
            "\t  training loss: 0.190567\n",
            "\t  training accuracy: 0.928\n",
            "\t  validation loss: 0.432441\n",
            "\t  validation accuracy: 0.867\n",
            "\t  training loss: 0.193754\n",
            "\t  training accuracy: 0.928\n",
            "\t  validation loss: 0.442862\n",
            "\t  validation accuracy: 0.867\n",
            "\t  training loss: 0.180083\n",
            "\t  training accuracy: 0.931\n",
            "\t  validation loss: 0.476520\n",
            "\t  validation accuracy: 0.862\n",
            "\t  training loss: 0.181028\n",
            "\t  training accuracy: 0.932\n",
            "\t  validation loss: 0.436173\n",
            "\t  validation accuracy: 0.872\n",
            "\t  training loss: 0.158343\n",
            "\t  training accuracy: 0.941\n",
            "\t  validation loss: 0.488076\n",
            "\t  validation accuracy: 0.866\n",
            "\t  training loss: 0.163997\n",
            "\t  training accuracy: 0.938\n",
            "\t  validation loss: 0.466192\n",
            "\t  validation accuracy: 0.871\n",
            "\t  training loss: 0.147896\n",
            "\t  training accuracy: 0.944\n",
            "\t  validation loss: 0.460859\n",
            "\t  validation accuracy: 0.874\n",
            "\t  training loss: 0.148747\n",
            "\t  training accuracy: 0.943\n",
            "\t  validation loss: 0.466300\n",
            "\t  validation accuracy: 0.877\n",
            "\t  training loss: 0.153794\n",
            "\t  training accuracy: 0.942\n",
            "\t  validation loss: 0.435920\n",
            "\t  validation accuracy: 0.878\n",
            "\t  training loss: 0.139317\n",
            "\t  training accuracy: 0.948\n",
            "\t  validation loss: 0.467631\n",
            "\t  validation accuracy: 0.872\n",
            "\t  training loss: 0.129010\n",
            "\t  training accuracy: 0.951\n",
            "\t  validation loss: 0.510517\n",
            "\t  validation accuracy: 0.868\n",
            "\t  training loss: 0.121932\n",
            "\t  training accuracy: 0.955\n",
            "\t  validation loss: 0.483366\n",
            "\t  validation accuracy: 0.877\n",
            "\t  training loss: 0.117095\n",
            "\t  training accuracy: 0.955\n",
            "\t  validation loss: 0.555016\n",
            "\t  validation accuracy: 0.873\n",
            "\t  training loss: 0.118610\n",
            "\t  training accuracy: 0.955\n",
            "\t  validation loss: 0.510683\n",
            "\t  validation accuracy: 0.879\n",
            "\t  training loss: 0.117185\n",
            "\t  training accuracy: 0.954\n",
            "\t  validation loss: 0.484754\n",
            "\t  validation accuracy: 0.878\n",
            "\t  training loss: 0.107266\n",
            "\t  training accuracy: 0.961\n",
            "\t  validation loss: 0.576742\n",
            "\t  validation accuracy: 0.876\n",
            "\t  training loss: 0.097774\n",
            "\t  training accuracy: 0.963\n",
            "\t  validation loss: 0.582941\n",
            "\t  validation accuracy: 0.875\n",
            "\t  training loss: 0.105547\n",
            "\t  training accuracy: 0.960\n",
            "\t  validation loss: 0.540981\n",
            "\t  validation accuracy: 0.874\n",
            "\t  training loss: 0.104838\n",
            "\t  training accuracy: 0.960\n",
            "\t  validation loss: 0.571728\n",
            "\t  validation accuracy: 0.875\n",
            "\t  training loss: 0.096431\n",
            "\t  training accuracy: 0.963\n",
            "\t  validation loss: 0.563296\n",
            "\t  validation accuracy: 0.878\n",
            "\t  training loss: 0.093585\n",
            "\t  training accuracy: 0.964\n",
            "\t  validation loss: 0.618766\n",
            "\t  validation accuracy: 0.863\n",
            "\t  training loss: 0.091439\n",
            "\t  training accuracy: 0.965\n",
            "\t  validation loss: 0.613810\n",
            "\t  validation accuracy: 0.878\n",
            "\t  training loss: 0.084550\n",
            "\t  training accuracy: 0.968\n",
            "\t  validation loss: 0.625666\n",
            "\t  validation accuracy: 0.875\n",
            "\t  training loss: 0.084307\n",
            "\t  training accuracy: 0.968\n",
            "\t  validation loss: 0.593190\n",
            "\t  validation accuracy: 0.881\n",
            "\t  training loss: 0.079114\n",
            "\t  training accuracy: 0.969\n",
            "\t  validation loss: 0.718729\n",
            "\t  validation accuracy: 0.870\n",
            "\t  training loss: 0.076166\n",
            "\t  training accuracy: 0.971\n",
            "\t  validation loss: 0.594939\n",
            "\t  validation accuracy: 0.884\n",
            "\t  training loss: 0.069599\n",
            "\t  training accuracy: 0.973\n",
            "\t  validation loss: 0.677155\n",
            "\t  validation accuracy: 0.881\n",
            "\t  training loss: 0.071651\n",
            "\t  training accuracy: 0.973\n",
            "\t  validation loss: 0.665389\n",
            "\t  validation accuracy: 0.882\n",
            "\t  training loss: 0.077822\n",
            "\t  training accuracy: 0.971\n",
            "\t  validation loss: 0.735666\n",
            "\t  validation accuracy: 0.873\n",
            "\t  training loss: 0.075525\n",
            "\t  training accuracy: 0.972\n",
            "\t  validation loss: 0.740237\n",
            "\t  validation accuracy: 0.871\n",
            "\t  training loss: 0.078940\n",
            "\t  training accuracy: 0.971\n",
            "\t  validation loss: 0.663605\n",
            "\t  validation accuracy: 0.881\n"
          ]
        }
      ]
    },
    {
      "cell_type": "code",
      "source": [
        "model = OverfittingNeuralNetwork1().to(device)\n",
        "n_epochs = 50\n",
        "opt = torch.optim.Adam(model.parameters(), lr=1e-3)# YOUR CODE HERE\n",
        "loss_func = nn.CrossEntropyLoss()# YOUR CODE HERE"
      ],
      "metadata": {
        "id": "xMwCQDD7mt3g"
      },
      "execution_count": null,
      "outputs": []
    },
    {
      "cell_type": "code",
      "source": [
        "train_loss, val_loss, train_accuracy, val_accuracy = fit(model, train_loader, test_loader, loss_func, opt, n_epochs)"
      ],
      "metadata": {
        "colab": {
          "base_uri": "https://localhost:8080/"
        },
        "id": "KMCCzFWGmzWY",
        "outputId": "cdf7c6fa-7ed4-4c5c-96d6-8966ccb0b96a"
      },
      "execution_count": null,
      "outputs": [
        {
          "output_type": "stream",
          "name": "stdout",
          "text": [
            "\t  training loss: 0.984522\n",
            "\t  training accuracy: 0.644\n",
            "\t  validation loss: 0.633412\n",
            "\t  validation accuracy: 0.771\n",
            "\t  training loss: 0.519439\n",
            "\t  training accuracy: 0.813\n",
            "\t  validation loss: 0.528011\n",
            "\t  validation accuracy: 0.814\n",
            "\t  training loss: 0.459694\n",
            "\t  training accuracy: 0.831\n",
            "\t  validation loss: 0.469494\n",
            "\t  validation accuracy: 0.829\n",
            "\t  training loss: 0.400317\n",
            "\t  training accuracy: 0.855\n",
            "\t  validation loss: 0.433708\n",
            "\t  validation accuracy: 0.844\n",
            "\t  training loss: 0.359940\n",
            "\t  training accuracy: 0.866\n",
            "\t  validation loss: 0.504125\n",
            "\t  validation accuracy: 0.828\n",
            "\t  training loss: 0.348864\n",
            "\t  training accuracy: 0.871\n",
            "\t  validation loss: 0.391658\n",
            "\t  validation accuracy: 0.862\n",
            "\t  training loss: 0.320998\n",
            "\t  training accuracy: 0.879\n",
            "\t  validation loss: 0.418674\n",
            "\t  validation accuracy: 0.849\n",
            "\t  training loss: 0.306149\n",
            "\t  training accuracy: 0.886\n",
            "\t  validation loss: 0.391181\n",
            "\t  validation accuracy: 0.860\n",
            "\t  training loss: 0.296074\n",
            "\t  training accuracy: 0.889\n",
            "\t  validation loss: 0.481265\n",
            "\t  validation accuracy: 0.838\n",
            "\t  training loss: 0.288022\n",
            "\t  training accuracy: 0.892\n",
            "\t  validation loss: 0.404159\n",
            "\t  validation accuracy: 0.862\n",
            "\t  training loss: 0.279575\n",
            "\t  training accuracy: 0.897\n",
            "\t  validation loss: 0.404612\n",
            "\t  validation accuracy: 0.858\n",
            "\t  training loss: 0.250785\n",
            "\t  training accuracy: 0.907\n",
            "\t  validation loss: 0.385422\n",
            "\t  validation accuracy: 0.869\n",
            "\t  training loss: 0.247280\n",
            "\t  training accuracy: 0.908\n",
            "\t  validation loss: 0.409899\n",
            "\t  validation accuracy: 0.865\n",
            "\t  training loss: 0.242668\n",
            "\t  training accuracy: 0.908\n",
            "\t  validation loss: 0.388216\n",
            "\t  validation accuracy: 0.872\n",
            "\t  training loss: 0.225649\n",
            "\t  training accuracy: 0.916\n",
            "\t  validation loss: 0.395506\n",
            "\t  validation accuracy: 0.867\n",
            "\t  training loss: 0.211948\n",
            "\t  training accuracy: 0.919\n",
            "\t  validation loss: 0.415451\n",
            "\t  validation accuracy: 0.863\n",
            "\t  training loss: 0.209161\n",
            "\t  training accuracy: 0.922\n",
            "\t  validation loss: 0.460006\n",
            "\t  validation accuracy: 0.858\n",
            "\t  training loss: 0.198492\n",
            "\t  training accuracy: 0.923\n",
            "\t  validation loss: 0.428944\n",
            "\t  validation accuracy: 0.867\n",
            "\t  training loss: 0.192982\n",
            "\t  training accuracy: 0.926\n",
            "\t  validation loss: 0.401344\n",
            "\t  validation accuracy: 0.874\n",
            "\t  training loss: 0.183383\n",
            "\t  training accuracy: 0.931\n",
            "\t  validation loss: 0.476225\n",
            "\t  validation accuracy: 0.843\n",
            "\t  training loss: 0.196536\n",
            "\t  training accuracy: 0.926\n",
            "\t  validation loss: 0.411080\n",
            "\t  validation accuracy: 0.874\n",
            "\t  training loss: 0.176945\n",
            "\t  training accuracy: 0.932\n",
            "\t  validation loss: 0.441354\n",
            "\t  validation accuracy: 0.867\n",
            "\t  training loss: 0.163691\n",
            "\t  training accuracy: 0.937\n",
            "\t  validation loss: 0.506578\n",
            "\t  validation accuracy: 0.862\n",
            "\t  training loss: 0.176928\n",
            "\t  training accuracy: 0.933\n",
            "\t  validation loss: 0.437660\n",
            "\t  validation accuracy: 0.868\n",
            "\t  training loss: 0.155765\n",
            "\t  training accuracy: 0.940\n",
            "\t  validation loss: 0.441574\n",
            "\t  validation accuracy: 0.868\n",
            "\t  training loss: 0.146434\n",
            "\t  training accuracy: 0.945\n",
            "\t  validation loss: 0.443168\n",
            "\t  validation accuracy: 0.876\n",
            "\t  training loss: 0.147182\n",
            "\t  training accuracy: 0.943\n",
            "\t  validation loss: 0.459573\n",
            "\t  validation accuracy: 0.871\n",
            "\t  training loss: 0.136995\n",
            "\t  training accuracy: 0.948\n",
            "\t  validation loss: 0.461992\n",
            "\t  validation accuracy: 0.871\n",
            "\t  training loss: 0.131825\n",
            "\t  training accuracy: 0.950\n",
            "\t  validation loss: 0.470971\n",
            "\t  validation accuracy: 0.875\n",
            "\t  training loss: 0.139482\n",
            "\t  training accuracy: 0.946\n",
            "\t  validation loss: 0.486217\n",
            "\t  validation accuracy: 0.867\n",
            "\t  training loss: 0.125844\n",
            "\t  training accuracy: 0.953\n",
            "\t  validation loss: 0.463944\n",
            "\t  validation accuracy: 0.878\n",
            "\t  training loss: 0.117021\n",
            "\t  training accuracy: 0.956\n",
            "\t  validation loss: 0.492831\n",
            "\t  validation accuracy: 0.874\n",
            "\t  training loss: 0.104932\n",
            "\t  training accuracy: 0.960\n",
            "\t  validation loss: 0.536787\n",
            "\t  validation accuracy: 0.871\n",
            "\t  training loss: 0.114056\n",
            "\t  training accuracy: 0.957\n",
            "\t  validation loss: 0.498245\n",
            "\t  validation accuracy: 0.869\n",
            "\t  training loss: 0.116578\n",
            "\t  training accuracy: 0.954\n",
            "\t  validation loss: 0.575131\n",
            "\t  validation accuracy: 0.864\n",
            "\t  training loss: 0.114818\n",
            "\t  training accuracy: 0.957\n",
            "\t  validation loss: 0.523952\n",
            "\t  validation accuracy: 0.877\n",
            "\t  training loss: 0.097819\n",
            "\t  training accuracy: 0.965\n",
            "\t  validation loss: 0.549644\n",
            "\t  validation accuracy: 0.875\n",
            "\t  training loss: 0.099650\n",
            "\t  training accuracy: 0.963\n",
            "\t  validation loss: 0.548595\n",
            "\t  validation accuracy: 0.874\n",
            "\t  training loss: 0.084980\n",
            "\t  training accuracy: 0.967\n",
            "\t  validation loss: 0.589929\n",
            "\t  validation accuracy: 0.865\n",
            "\t  training loss: 0.111581\n",
            "\t  training accuracy: 0.963\n",
            "\t  validation loss: 0.671115\n",
            "\t  validation accuracy: 0.849\n",
            "\t  training loss: 0.112707\n",
            "\t  training accuracy: 0.960\n",
            "\t  validation loss: 0.551143\n",
            "\t  validation accuracy: 0.870\n",
            "\t  training loss: 0.086545\n",
            "\t  training accuracy: 0.966\n",
            "\t  validation loss: 0.567252\n",
            "\t  validation accuracy: 0.869\n",
            "\t  training loss: 0.075124\n",
            "\t  training accuracy: 0.972\n",
            "\t  validation loss: 0.576288\n",
            "\t  validation accuracy: 0.874\n",
            "\t  training loss: 0.087018\n",
            "\t  training accuracy: 0.967\n",
            "\t  validation loss: 0.563044\n",
            "\t  validation accuracy: 0.873\n",
            "\t  training loss: 0.077694\n",
            "\t  training accuracy: 0.970\n",
            "\t  validation loss: 0.590338\n",
            "\t  validation accuracy: 0.874\n",
            "\t  training loss: 0.061814\n",
            "\t  training accuracy: 0.978\n",
            "\t  validation loss: 0.602446\n",
            "\t  validation accuracy: 0.873\n",
            "\t  training loss: 0.069316\n",
            "\t  training accuracy: 0.974\n",
            "\t  validation loss: 0.628222\n",
            "\t  validation accuracy: 0.871\n",
            "\t  training loss: 0.079365\n",
            "\t  training accuracy: 0.970\n",
            "\t  validation loss: 0.648092\n",
            "\t  validation accuracy: 0.870\n",
            "\t  training loss: 0.069501\n",
            "\t  training accuracy: 0.973\n",
            "\t  validation loss: 0.626325\n",
            "\t  validation accuracy: 0.874\n",
            "\t  training loss: 0.065787\n",
            "\t  training accuracy: 0.975\n",
            "\t  validation loss: 0.685336\n",
            "\t  validation accuracy: 0.868\n"
          ]
        }
      ]
    },
    {
      "cell_type": "code",
      "source": [
        "model = OverfittingNeuralNetwork2().to(device)\n",
        "n_epochs = 50\n",
        "opt = torch.optim.Adam(model.parameters(), lr=1e-3)# YOUR CODE HERE\n",
        "loss_func = nn.CrossEntropyLoss()# YOUR CODE HERE"
      ],
      "metadata": {
        "id": "jGf5Fb4Erb3l"
      },
      "execution_count": null,
      "outputs": []
    },
    {
      "cell_type": "code",
      "source": [
        "train_loss, val_loss, train_accuracy, val_accuracy = fit(model, train_loader, test_loader, loss_func, opt, n_epochs)"
      ],
      "metadata": {
        "colab": {
          "base_uri": "https://localhost:8080/"
        },
        "id": "lSjFqV9CreVO",
        "outputId": "2af10a69-0fd5-4e35-e882-ecca54fdc166"
      },
      "execution_count": null,
      "outputs": [
        {
          "output_type": "stream",
          "name": "stdout",
          "text": [
            "\t  training loss: 0.945249\n",
            "\t  training accuracy: 0.665\n",
            "\t  validation loss: 0.646437\n",
            "\t  validation accuracy: 0.754\n",
            "\t  training loss: 0.536782\n",
            "\t  training accuracy: 0.805\n",
            "\t  validation loss: 0.531554\n",
            "\t  validation accuracy: 0.802\n",
            "\t  training loss: 0.454716\n",
            "\t  training accuracy: 0.839\n",
            "\t  validation loss: 0.502344\n",
            "\t  validation accuracy: 0.818\n",
            "\t  training loss: 0.424334\n",
            "\t  training accuracy: 0.849\n",
            "\t  validation loss: 0.437151\n",
            "\t  validation accuracy: 0.843\n",
            "\t  training loss: 0.387547\n",
            "\t  training accuracy: 0.860\n",
            "\t  validation loss: 0.423434\n",
            "\t  validation accuracy: 0.850\n",
            "\t  training loss: 0.360800\n",
            "\t  training accuracy: 0.869\n",
            "\t  validation loss: 0.466506\n",
            "\t  validation accuracy: 0.834\n",
            "\t  training loss: 0.343814\n",
            "\t  training accuracy: 0.876\n",
            "\t  validation loss: 0.413273\n",
            "\t  validation accuracy: 0.852\n",
            "\t  training loss: 0.321175\n",
            "\t  training accuracy: 0.882\n",
            "\t  validation loss: 0.414230\n",
            "\t  validation accuracy: 0.850\n",
            "\t  training loss: 0.310211\n",
            "\t  training accuracy: 0.883\n",
            "\t  validation loss: 0.385072\n",
            "\t  validation accuracy: 0.862\n",
            "\t  training loss: 0.299739\n",
            "\t  training accuracy: 0.889\n",
            "\t  validation loss: 0.390007\n",
            "\t  validation accuracy: 0.856\n",
            "\t  training loss: 0.285717\n",
            "\t  training accuracy: 0.892\n",
            "\t  validation loss: 0.401909\n",
            "\t  validation accuracy: 0.858\n",
            "\t  training loss: 0.285428\n",
            "\t  training accuracy: 0.893\n",
            "\t  validation loss: 0.376532\n",
            "\t  validation accuracy: 0.865\n",
            "\t  training loss: 0.272895\n",
            "\t  training accuracy: 0.899\n",
            "\t  validation loss: 0.419829\n",
            "\t  validation accuracy: 0.861\n",
            "\t  training loss: 0.262380\n",
            "\t  training accuracy: 0.898\n",
            "\t  validation loss: 0.397820\n",
            "\t  validation accuracy: 0.862\n",
            "\t  training loss: 0.239954\n",
            "\t  training accuracy: 0.909\n",
            "\t  validation loss: 0.418632\n",
            "\t  validation accuracy: 0.860\n",
            "\t  training loss: 0.236492\n",
            "\t  training accuracy: 0.912\n",
            "\t  validation loss: 0.394724\n",
            "\t  validation accuracy: 0.867\n",
            "\t  training loss: 0.225606\n",
            "\t  training accuracy: 0.914\n",
            "\t  validation loss: 0.400557\n",
            "\t  validation accuracy: 0.864\n",
            "\t  training loss: 0.218784\n",
            "\t  training accuracy: 0.917\n",
            "\t  validation loss: 0.381695\n",
            "\t  validation accuracy: 0.866\n",
            "\t  training loss: 0.210269\n",
            "\t  training accuracy: 0.920\n",
            "\t  validation loss: 0.408440\n",
            "\t  validation accuracy: 0.867\n",
            "\t  training loss: 0.210848\n",
            "\t  training accuracy: 0.922\n",
            "\t  validation loss: 0.417356\n",
            "\t  validation accuracy: 0.861\n",
            "\t  training loss: 0.196921\n",
            "\t  training accuracy: 0.925\n",
            "\t  validation loss: 0.412820\n",
            "\t  validation accuracy: 0.864\n",
            "\t  training loss: 0.191831\n",
            "\t  training accuracy: 0.927\n",
            "\t  validation loss: 0.391478\n",
            "\t  validation accuracy: 0.872\n",
            "\t  training loss: 0.176774\n",
            "\t  training accuracy: 0.934\n",
            "\t  validation loss: 0.432478\n",
            "\t  validation accuracy: 0.863\n",
            "\t  training loss: 0.178458\n",
            "\t  training accuracy: 0.933\n",
            "\t  validation loss: 0.410519\n",
            "\t  validation accuracy: 0.868\n",
            "\t  training loss: 0.167625\n",
            "\t  training accuracy: 0.937\n",
            "\t  validation loss: 0.434590\n",
            "\t  validation accuracy: 0.866\n",
            "\t  training loss: 0.165065\n",
            "\t  training accuracy: 0.936\n",
            "\t  validation loss: 0.440157\n",
            "\t  validation accuracy: 0.865\n",
            "\t  training loss: 0.157897\n",
            "\t  training accuracy: 0.940\n",
            "\t  validation loss: 0.462006\n",
            "\t  validation accuracy: 0.873\n",
            "\t  training loss: 0.150163\n",
            "\t  training accuracy: 0.944\n",
            "\t  validation loss: 0.416065\n",
            "\t  validation accuracy: 0.875\n",
            "\t  training loss: 0.164927\n",
            "\t  training accuracy: 0.938\n",
            "\t  validation loss: 0.431530\n",
            "\t  validation accuracy: 0.872\n",
            "\t  training loss: 0.142198\n",
            "\t  training accuracy: 0.946\n",
            "\t  validation loss: 0.442648\n",
            "\t  validation accuracy: 0.873\n",
            "\t  training loss: 0.140754\n",
            "\t  training accuracy: 0.947\n",
            "\t  validation loss: 0.468449\n",
            "\t  validation accuracy: 0.871\n",
            "\t  training loss: 0.136628\n",
            "\t  training accuracy: 0.948\n",
            "\t  validation loss: 0.464874\n",
            "\t  validation accuracy: 0.869\n",
            "\t  training loss: 0.121016\n",
            "\t  training accuracy: 0.955\n",
            "\t  validation loss: 0.518575\n",
            "\t  validation accuracy: 0.870\n",
            "\t  training loss: 0.131905\n",
            "\t  training accuracy: 0.951\n",
            "\t  validation loss: 0.459219\n",
            "\t  validation accuracy: 0.879\n",
            "\t  training loss: 0.116935\n",
            "\t  training accuracy: 0.957\n",
            "\t  validation loss: 0.482041\n",
            "\t  validation accuracy: 0.872\n",
            "\t  training loss: 0.118216\n",
            "\t  training accuracy: 0.956\n",
            "\t  validation loss: 0.463933\n",
            "\t  validation accuracy: 0.873\n",
            "\t  training loss: 0.104036\n",
            "\t  training accuracy: 0.961\n",
            "\t  validation loss: 0.520167\n",
            "\t  validation accuracy: 0.870\n",
            "\t  training loss: 0.107371\n",
            "\t  training accuracy: 0.960\n",
            "\t  validation loss: 0.521179\n",
            "\t  validation accuracy: 0.871\n",
            "\t  training loss: 0.100775\n",
            "\t  training accuracy: 0.961\n",
            "\t  validation loss: 0.519224\n",
            "\t  validation accuracy: 0.872\n",
            "\t  training loss: 0.097938\n",
            "\t  training accuracy: 0.964\n",
            "\t  validation loss: 0.566635\n",
            "\t  validation accuracy: 0.862\n",
            "\t  training loss: 0.100051\n",
            "\t  training accuracy: 0.963\n",
            "\t  validation loss: 0.542864\n",
            "\t  validation accuracy: 0.876\n",
            "\t  training loss: 0.097023\n",
            "\t  training accuracy: 0.964\n",
            "\t  validation loss: 0.535328\n",
            "\t  validation accuracy: 0.872\n",
            "\t  training loss: 0.085035\n",
            "\t  training accuracy: 0.967\n",
            "\t  validation loss: 0.543727\n",
            "\t  validation accuracy: 0.868\n",
            "\t  training loss: 0.103482\n",
            "\t  training accuracy: 0.961\n",
            "\t  validation loss: 0.528639\n",
            "\t  validation accuracy: 0.874\n",
            "\t  training loss: 0.073679\n",
            "\t  training accuracy: 0.973\n",
            "\t  validation loss: 0.623130\n",
            "\t  validation accuracy: 0.868\n",
            "\t  training loss: 0.079012\n",
            "\t  training accuracy: 0.971\n",
            "\t  validation loss: 0.636368\n",
            "\t  validation accuracy: 0.870\n",
            "\t  training loss: 0.087223\n",
            "\t  training accuracy: 0.968\n",
            "\t  validation loss: 0.577143\n",
            "\t  validation accuracy: 0.871\n",
            "\t  training loss: 0.071862\n",
            "\t  training accuracy: 0.973\n",
            "\t  validation loss: 0.595244\n",
            "\t  validation accuracy: 0.877\n",
            "\t  training loss: 0.063886\n",
            "\t  training accuracy: 0.977\n",
            "\t  validation loss: 0.626264\n",
            "\t  validation accuracy: 0.872\n",
            "\t  training loss: 0.065131\n",
            "\t  training accuracy: 0.976\n",
            "\t  validation loss: 0.674655\n",
            "\t  validation accuracy: 0.874\n"
          ]
        }
      ]
    },
    {
      "cell_type": "code",
      "source": [
        "def plot_loss_acc(train_loss, val_loss, train_accuracy, val_accuracy):\n",
        "    fig, axes = plt.subplots(1, 2, figsize=(15, 5))\n",
        "    \n",
        "    axes[0].set_title('Loss')\n",
        "    axes[0].plot(train_loss, label='train')\n",
        "    axes[0].plot(val_loss, label='validation')\n",
        "    axes[0].set_xlabel('epoch')\n",
        "    axes[0].legend()\n",
        "\n",
        "    axes[1].set_title('Accuracy')\n",
        "    axes[1].plot(train_accuracy, label='train')\n",
        "    axes[1].plot(val_accuracy, label='validation')\n",
        "    axes[1].set_xlabel('epoch')\n",
        "    axes[1].legend()\n",
        "    plt.show()"
      ],
      "metadata": {
        "id": "cLjGgsXwfW8F"
      },
      "execution_count": 16,
      "outputs": []
    },
    {
      "cell_type": "markdown",
      "source": [
        "Model with 8 layers, 405044 trainable parameters"
      ],
      "metadata": {
        "id": "JGUsC4ecrk2H"
      }
    },
    {
      "cell_type": "code",
      "source": [
        "plot_loss_acc(train_loss, val_loss, train_accuracy, val_accuracy)"
      ],
      "metadata": {
        "colab": {
          "base_uri": "https://localhost:8080/",
          "height": 256
        },
        "id": "UE96l4uvr2Mj",
        "outputId": "e1483c09-9cf8-45fd-c234-2a8b880e03b5"
      },
      "execution_count": null,
      "outputs": [
        {
          "output_type": "display_data",
          "data": {
            "image/png": "[encoded data removed]",
            "text/plain": [
              "<Figure size 1080x360 with 2 Axes>"
            ]
          },
          "metadata": {
            "needs_background": "light"
          }
        }
      ]
    },
    {
      "cell_type": "markdown",
      "source": [
        "Model with 10 layers, 1889793 trainable parameters"
      ],
      "metadata": {
        "id": "OqKx9gjXmh2-"
      }
    },
    {
      "cell_type": "code",
      "source": [
        "plot_loss_acc(train_loss, val_loss, train_accuracy, val_accuracy)"
      ],
      "metadata": {
        "colab": {
          "base_uri": "https://localhost:8080/",
          "height": 256
        },
        "id": "qafCD70umgif",
        "outputId": "0d4281f8-c95d-4e59-e636-8401f1d13efb"
      },
      "execution_count": null,
      "outputs": [
        {
          "output_type": "display_data",
          "data": {
            "image/png": "[encoded data removed]",
            "text/plain": [
              "<Figure size 1080x360 with 2 Axes>"
            ]
          },
          "metadata": {
            "needs_background": "light"
          }
        }
      ]
    },
    {
      "cell_type": "markdown",
      "source": [
        "Model with 12 layers, 8039489 trainable parameters"
      ],
      "metadata": {
        "id": "RgDDVdpNljYw"
      }
    },
    {
      "cell_type": "code",
      "source": [
        "plot_loss_acc(train_loss, val_loss, train_accuracy, val_accuracy)"
      ],
      "metadata": {
        "colab": {
          "base_uri": "https://localhost:8080/",
          "height": 256
        },
        "id": "Wo--eBEfgN6S",
        "outputId": "5365d8b7-5019-4278-d91a-351c7123a2d4"
      },
      "execution_count": null,
      "outputs": [
        {
          "output_type": "display_data",
          "data": {
            "image/png": "[encoded data removed]",
            "text/plain": [
              "<Figure size 1080x360 with 2 Axes>"
            ]
          },
          "metadata": {
            "needs_background": "light"
          }
        }
      ]
    },
    {
      "cell_type": "markdown",
      "metadata": {
        "id": "fqEJVbjUgkh5"
      },
      "source": [
        "### Task 3: Fix it.\n",
        "Fix the overfitted network from the previous step (at least partially) by using regularization techniques (Dropout/Batchnorm/...) and demonstrate the results. "
      ]
    },
    {
      "cell_type": "code",
      "execution_count": 39,
      "metadata": {
        "id": "-YQH5H6Ggkh5"
      },
      "outputs": [],
      "source": [
        "class FixedNeuralNetwork(nn.Module):\n",
        "    def __init__(self, input_shape=28*28, num_classes=10, input_channels=1):\n",
        "        super(self.__class__, self).__init__()\n",
        "        self.model = nn.Sequential(\n",
        "            nn.Flatten(), # This layer converts image into a vector to use Linear layers afterwards\n",
        "            # Your network structure comes here\n",
        "            nn.Linear(input_shape, input_shape * 2),\n",
        "            nn.Dropout(p = 0.4),\n",
        "            nn.ReLU(),\n",
        "            nn.Linear(input_shape * 2, input_shape // 2),\n",
        "            nn.Dropout(p = 0.4),\n",
        "            nn.ReLU(),\n",
        "            nn.Linear(input_shape // 2, input_shape // 8),\n",
        "            nn.Dropout(p = 0.4),\n",
        "            nn.ReLU(),\n",
        "            nn.Linear(input_shape // 8, input_shape // 16),\n",
        "            nn.Dropout(p = 0.4),\n",
        "            nn.ReLU(),\n",
        "            nn.Linear(input_shape // 16, num_classes)\n",
        "        )\n",
        "        \n",
        "    def forward(self, inp):       \n",
        "        out = self.model(inp)\n",
        "        return out"
      ]
    },
    {
      "cell_type": "code",
      "source": [
        "class FixedNeuralNetwork_bn(nn.Module):\n",
        "    def __init__(self, input_shape=28*28, num_classes=10, input_channels=1):\n",
        "        super(self.__class__, self).__init__()\n",
        "        self.model = nn.Sequential(\n",
        "            nn.Flatten(), # This layer converts image into a vector to use Linear layers afterwards\n",
        "            # Your network structure comes here\n",
        "            nn.Linear(input_shape, input_shape * 2),\n",
        "            nn.BatchNorm1d(input_shape * 2),\n",
        "            nn.ReLU(),\n",
        "            nn.Linear(input_shape * 2, input_shape // 2),\n",
        "            nn.BatchNorm1d(input_shape // 2),\n",
        "            nn.ReLU(),\n",
        "            nn.Linear(input_shape // 2, input_shape // 8),\n",
        "            nn.BatchNorm1d(input_shape // 8),\n",
        "            nn.ReLU(),\n",
        "            nn.Linear(input_shape // 8, input_shape // 16),\n",
        "            nn.ReLU(),\n",
        "            nn.Linear(input_shape // 16, num_classes)\n",
        "        )\n",
        "        \n",
        "    def forward(self, inp):       \n",
        "        out = self.model(inp)\n",
        "        return out"
      ],
      "metadata": {
        "id": "H0aT-00n21to"
      },
      "execution_count": 29,
      "outputs": []
    },
    {
      "cell_type": "code",
      "execution_count": 40,
      "metadata": {
        "id": "TfeXZKTegkh5",
        "colab": {
          "base_uri": "https://localhost:8080/"
        },
        "outputId": "3d3e8df8-2b02-4431-c564-3a16cb004a6a"
      },
      "outputs": [
        {
          "output_type": "stream",
          "name": "stdout",
          "text": [
            "----------------------------------------------------------------\n",
            "        Layer (type)               Output Shape         Param #\n",
            "================================================================\n",
            "           Flatten-1                  [-1, 784]               0\n",
            "            Linear-2                 [-1, 1568]       1,230,880\n",
            "           Dropout-3                 [-1, 1568]               0\n",
            "              ReLU-4                 [-1, 1568]               0\n",
            "            Linear-5                  [-1, 392]         615,048\n",
            "           Dropout-6                  [-1, 392]               0\n",
            "              ReLU-7                  [-1, 392]               0\n",
            "            Linear-8                   [-1, 98]          38,514\n",
            "           Dropout-9                   [-1, 98]               0\n",
            "             ReLU-10                   [-1, 98]               0\n",
            "           Linear-11                   [-1, 49]           4,851\n",
            "          Dropout-12                   [-1, 49]               0\n",
            "             ReLU-13                   [-1, 49]               0\n",
            "           Linear-14                   [-1, 10]             500\n",
            "================================================================\n",
            "Total params: 1,889,793\n",
            "Trainable params: 1,889,793\n",
            "Non-trainable params: 0\n",
            "----------------------------------------------------------------\n",
            "Input size (MB): 0.00\n",
            "Forward/backward pass size (MB): 0.05\n",
            "Params size (MB): 7.21\n",
            "Estimated Total Size (MB): 7.27\n",
            "----------------------------------------------------------------\n"
          ]
        }
      ],
      "source": [
        "torchsummary.summary(FixedNeuralNetwork().to(device), (28*28,))"
      ]
    },
    {
      "cell_type": "code",
      "source": [
        "torchsummary.summary(FixedNeuralNetwork_bn().to(device), (28*28,))"
      ],
      "metadata": {
        "colab": {
          "base_uri": "https://localhost:8080/"
        },
        "id": "kmc_-uEHy_21",
        "outputId": "29f9426b-d5f8-4c4e-82e6-6a6e0ef81a45"
      },
      "execution_count": 30,
      "outputs": [
        {
          "output_type": "stream",
          "name": "stdout",
          "text": [
            "----------------------------------------------------------------\n",
            "        Layer (type)               Output Shape         Param #\n",
            "================================================================\n",
            "           Flatten-1                  [-1, 784]               0\n",
            "            Linear-2                 [-1, 1568]       1,230,880\n",
            "       BatchNorm1d-3                 [-1, 1568]           3,136\n",
            "              ReLU-4                 [-1, 1568]               0\n",
            "            Linear-5                  [-1, 392]         615,048\n",
            "       BatchNorm1d-6                  [-1, 392]             784\n",
            "              ReLU-7                  [-1, 392]               0\n",
            "            Linear-8                   [-1, 98]          38,514\n",
            "       BatchNorm1d-9                   [-1, 98]             196\n",
            "             ReLU-10                   [-1, 98]               0\n",
            "           Linear-11                   [-1, 49]           4,851\n",
            "             ReLU-12                   [-1, 49]               0\n",
            "           Linear-13                   [-1, 10]             500\n",
            "================================================================\n",
            "Total params: 1,893,909\n",
            "Trainable params: 1,893,909\n",
            "Non-trainable params: 0\n",
            "----------------------------------------------------------------\n",
            "Input size (MB): 0.00\n",
            "Forward/backward pass size (MB): 0.05\n",
            "Params size (MB): 7.22\n",
            "Estimated Total Size (MB): 7.28\n",
            "----------------------------------------------------------------\n"
          ]
        }
      ]
    },
    {
      "cell_type": "code",
      "execution_count": 41,
      "metadata": {
        "id": "iMFbTt2Ugkh6"
      },
      "outputs": [],
      "source": [
        "model = FixedNeuralNetwork().to(device)\n",
        "n_epochs = 80\n",
        "#scheduler = ExponentialLR(optimizer, gamma=0.9)\n",
        "opt = torch.optim.Adam(model.parameters(), lr=1e-3)# YOUR CODE HERE\n",
        "loss_func = nn.CrossEntropyLoss()"
      ]
    },
    {
      "cell_type": "code",
      "source": [
        "train_loss, val_loss, train_accuracy, val_accuracy = fit(model, train_loader, test_loader, loss_func, opt, n_epochs)"
      ],
      "metadata": {
        "colab": {
          "base_uri": "https://localhost:8080/"
        },
        "id": "pXMRj65kTCyK",
        "outputId": "121ff19e-08f5-4f5d-e64f-86b8493ad90d"
      },
      "execution_count": 26,
      "outputs": [
        {
          "output_type": "stream",
          "name": "stdout",
          "text": [
            "\t  training loss: 1.302588\n",
            "\t  training accuracy: 0.509\n",
            "\t  validation loss: 0.710576\n",
            "\t  validation accuracy: 0.748\n",
            "\t  training loss: 0.747722\n",
            "\t  training accuracy: 0.728\n",
            "\t  validation loss: 0.539724\n",
            "\t  validation accuracy: 0.800\n",
            "\t  training loss: 0.608767\n",
            "\t  training accuracy: 0.784\n",
            "\t  validation loss: 0.544591\n",
            "\t  validation accuracy: 0.798\n",
            "\t  training loss: 0.548816\n",
            "\t  training accuracy: 0.806\n",
            "\t  validation loss: 0.481994\n",
            "\t  validation accuracy: 0.834\n",
            "\t  training loss: 0.514858\n",
            "\t  training accuracy: 0.822\n",
            "\t  validation loss: 0.469606\n",
            "\t  validation accuracy: 0.832\n",
            "\t  training loss: 0.486663\n",
            "\t  training accuracy: 0.834\n",
            "\t  validation loss: 0.441689\n",
            "\t  validation accuracy: 0.843\n",
            "\t  training loss: 0.466193\n",
            "\t  training accuracy: 0.839\n",
            "\t  validation loss: 0.451741\n",
            "\t  validation accuracy: 0.843\n",
            "\t  training loss: 0.446099\n",
            "\t  training accuracy: 0.849\n",
            "\t  validation loss: 0.415984\n",
            "\t  validation accuracy: 0.850\n",
            "\t  training loss: 0.424248\n",
            "\t  training accuracy: 0.855\n",
            "\t  validation loss: 0.428925\n",
            "\t  validation accuracy: 0.849\n",
            "\t  training loss: 0.412620\n",
            "\t  training accuracy: 0.857\n",
            "\t  validation loss: 0.435036\n",
            "\t  validation accuracy: 0.839\n",
            "\t  training loss: 0.419430\n",
            "\t  training accuracy: 0.856\n",
            "\t  validation loss: 0.413858\n",
            "\t  validation accuracy: 0.857\n",
            "\t  training loss: 0.394315\n",
            "\t  training accuracy: 0.861\n",
            "\t  validation loss: 0.402009\n",
            "\t  validation accuracy: 0.859\n",
            "\t  training loss: 0.384851\n",
            "\t  training accuracy: 0.867\n",
            "\t  validation loss: 0.392558\n",
            "\t  validation accuracy: 0.862\n",
            "\t  training loss: 0.371670\n",
            "\t  training accuracy: 0.870\n",
            "\t  validation loss: 0.405826\n",
            "\t  validation accuracy: 0.862\n",
            "\t  training loss: 0.368112\n",
            "\t  training accuracy: 0.871\n",
            "\t  validation loss: 0.413174\n",
            "\t  validation accuracy: 0.855\n",
            "\t  training loss: 0.360697\n",
            "\t  training accuracy: 0.875\n",
            "\t  validation loss: 0.399879\n",
            "\t  validation accuracy: 0.858\n",
            "\t  training loss: 0.359240\n",
            "\t  training accuracy: 0.874\n",
            "\t  validation loss: 0.412510\n",
            "\t  validation accuracy: 0.864\n",
            "\t  training loss: 0.345301\n",
            "\t  training accuracy: 0.878\n",
            "\t  validation loss: 0.392336\n",
            "\t  validation accuracy: 0.867\n",
            "\t  training loss: 0.336074\n",
            "\t  training accuracy: 0.883\n",
            "\t  validation loss: 0.405245\n",
            "\t  validation accuracy: 0.868\n",
            "\t  training loss: 0.339169\n",
            "\t  training accuracy: 0.881\n",
            "\t  validation loss: 0.421877\n",
            "\t  validation accuracy: 0.861\n",
            "\t  training loss: 0.340278\n",
            "\t  training accuracy: 0.881\n",
            "\t  validation loss: 0.410629\n",
            "\t  validation accuracy: 0.864\n",
            "\t  training loss: 0.329689\n",
            "\t  training accuracy: 0.885\n",
            "\t  validation loss: 0.389320\n",
            "\t  validation accuracy: 0.869\n",
            "\t  training loss: 0.324269\n",
            "\t  training accuracy: 0.887\n",
            "\t  validation loss: 0.388536\n",
            "\t  validation accuracy: 0.869\n",
            "\t  training loss: 0.315952\n",
            "\t  training accuracy: 0.889\n",
            "\t  validation loss: 0.397553\n",
            "\t  validation accuracy: 0.872\n",
            "\t  training loss: 0.311858\n",
            "\t  training accuracy: 0.888\n",
            "\t  validation loss: 0.395250\n",
            "\t  validation accuracy: 0.872\n",
            "\t  training loss: 0.300895\n",
            "\t  training accuracy: 0.893\n",
            "\t  validation loss: 0.385225\n",
            "\t  validation accuracy: 0.873\n",
            "\t  training loss: 0.312582\n",
            "\t  training accuracy: 0.890\n",
            "\t  validation loss: 0.415814\n",
            "\t  validation accuracy: 0.863\n",
            "\t  training loss: 0.299613\n",
            "\t  training accuracy: 0.892\n",
            "\t  validation loss: 0.385321\n",
            "\t  validation accuracy: 0.870\n",
            "\t  training loss: 0.299116\n",
            "\t  training accuracy: 0.895\n",
            "\t  validation loss: 0.407624\n",
            "\t  validation accuracy: 0.871\n",
            "\t  training loss: 0.292885\n",
            "\t  training accuracy: 0.895\n",
            "\t  validation loss: 0.403258\n",
            "\t  validation accuracy: 0.867\n",
            "\t  training loss: 0.287851\n",
            "\t  training accuracy: 0.898\n",
            "\t  validation loss: 0.422855\n",
            "\t  validation accuracy: 0.871\n",
            "\t  training loss: 0.295426\n",
            "\t  training accuracy: 0.897\n",
            "\t  validation loss: 0.383658\n",
            "\t  validation accuracy: 0.875\n",
            "\t  training loss: 0.291804\n",
            "\t  training accuracy: 0.897\n",
            "\t  validation loss: 0.388104\n",
            "\t  validation accuracy: 0.874\n",
            "\t  training loss: 0.279034\n",
            "\t  training accuracy: 0.900\n",
            "\t  validation loss: 0.400658\n",
            "\t  validation accuracy: 0.874\n",
            "\t  training loss: 0.283417\n",
            "\t  training accuracy: 0.898\n",
            "\t  validation loss: 0.389313\n",
            "\t  validation accuracy: 0.875\n",
            "\t  training loss: 0.285596\n",
            "\t  training accuracy: 0.899\n",
            "\t  validation loss: 0.392241\n",
            "\t  validation accuracy: 0.878\n",
            "\t  training loss: 0.278494\n",
            "\t  training accuracy: 0.900\n",
            "\t  validation loss: 0.418885\n",
            "\t  validation accuracy: 0.866\n",
            "\t  training loss: 0.278809\n",
            "\t  training accuracy: 0.901\n",
            "\t  validation loss: 0.403259\n",
            "\t  validation accuracy: 0.874\n",
            "\t  training loss: 0.266960\n",
            "\t  training accuracy: 0.904\n",
            "\t  validation loss: 0.436706\n",
            "\t  validation accuracy: 0.870\n",
            "\t  training loss: 0.265686\n",
            "\t  training accuracy: 0.904\n",
            "\t  validation loss: 0.416578\n",
            "\t  validation accuracy: 0.876\n",
            "\t  training loss: 0.266779\n",
            "\t  training accuracy: 0.905\n",
            "\t  validation loss: 0.399710\n",
            "\t  validation accuracy: 0.874\n",
            "\t  training loss: 0.259663\n",
            "\t  training accuracy: 0.908\n",
            "\t  validation loss: 0.406090\n",
            "\t  validation accuracy: 0.877\n",
            "\t  training loss: 0.256469\n",
            "\t  training accuracy: 0.909\n",
            "\t  validation loss: 0.422775\n",
            "\t  validation accuracy: 0.876\n",
            "\t  training loss: 0.253878\n",
            "\t  training accuracy: 0.910\n",
            "\t  validation loss: 0.418396\n",
            "\t  validation accuracy: 0.875\n",
            "\t  training loss: 0.250222\n",
            "\t  training accuracy: 0.910\n",
            "\t  validation loss: 0.422063\n",
            "\t  validation accuracy: 0.876\n",
            "\t  training loss: 0.257260\n",
            "\t  training accuracy: 0.907\n",
            "\t  validation loss: 0.418378\n",
            "\t  validation accuracy: 0.872\n",
            "\t  training loss: 0.256378\n",
            "\t  training accuracy: 0.907\n",
            "\t  validation loss: 0.416204\n",
            "\t  validation accuracy: 0.873\n",
            "\t  training loss: 0.255621\n",
            "\t  training accuracy: 0.908\n",
            "\t  validation loss: 0.415435\n",
            "\t  validation accuracy: 0.881\n",
            "\t  training loss: 0.245436\n",
            "\t  training accuracy: 0.911\n",
            "\t  validation loss: 0.412076\n",
            "\t  validation accuracy: 0.879\n",
            "\t  training loss: 0.237634\n",
            "\t  training accuracy: 0.913\n",
            "\t  validation loss: 0.409316\n",
            "\t  validation accuracy: 0.881\n"
          ]
        }
      ]
    },
    {
      "cell_type": "markdown",
      "source": [
        "Model with Dropout(p=0.4), 50 epochs, reduced training dataset"
      ],
      "metadata": {
        "id": "HhvBC1WvucI4"
      }
    },
    {
      "cell_type": "code",
      "source": [
        "plot_loss_acc(train_loss, val_loss, train_accuracy[1::], val_accuracy[1::])"
      ],
      "metadata": {
        "colab": {
          "base_uri": "https://localhost:8080/",
          "height": 350
        },
        "id": "tFlwA_TWTGwH",
        "outputId": "cb10fd3e-9b10-4d5d-d4ba-0b583862ff31"
      },
      "execution_count": 28,
      "outputs": [
        {
          "output_type": "display_data",
          "data": {
            "image/png": "[encoded data removed]",
            "text/plain": [
              "<Figure size 1080x360 with 2 Axes>"
            ]
          },
          "metadata": {
            "needs_background": "light"
          }
        }
      ]
    },
    {
      "cell_type": "code",
      "source": [
        "model = FixedNeuralNetwork_bn().to(device)\n",
        "n_epochs = 50\n",
        "opt = torch.optim.SGD(model.parameters(), lr=1e-3, momentum=0.9)# YOUR CODE HERE\n",
        "loss_func = nn.CrossEntropyLoss()"
      ],
      "metadata": {
        "id": "MD3G9Gaj72vx"
      },
      "execution_count": 35,
      "outputs": []
    },
    {
      "cell_type": "code",
      "source": [
        "train_loss, val_loss, train_accuracy, val_accuracy = fit(model, train_loader, test_loader, loss_func, opt, n_epochs) "
      ],
      "metadata": {
        "colab": {
          "base_uri": "https://localhost:8080/"
        },
        "id": "WeoGwtLXtiGT",
        "outputId": "fc8a5bd8-0be8-4d08-adf6-bfb8261c9110"
      },
      "execution_count": 32,
      "outputs": [
        {
          "output_type": "stream",
          "name": "stdout",
          "text": [
            "\t  training loss: 0.790808\n",
            "\t  training accuracy: 0.793\n",
            "\t  validation loss: 0.524839\n",
            "\t  validation accuracy: 0.818\n",
            "\t  training loss: 0.386892\n",
            "\t  training accuracy: 0.861\n",
            "\t  validation loss: 0.539309\n",
            "\t  validation accuracy: 0.801\n",
            "\t  training loss: 0.329533\n",
            "\t  training accuracy: 0.879\n",
            "\t  validation loss: 0.416850\n",
            "\t  validation accuracy: 0.850\n",
            "\t  training loss: 0.288969\n",
            "\t  training accuracy: 0.894\n",
            "\t  validation loss: 0.421104\n",
            "\t  validation accuracy: 0.848\n",
            "\t  training loss: 0.268875\n",
            "\t  training accuracy: 0.901\n",
            "\t  validation loss: 0.409635\n",
            "\t  validation accuracy: 0.866\n",
            "\t  training loss: 0.235964\n",
            "\t  training accuracy: 0.911\n",
            "\t  validation loss: 0.472074\n",
            "\t  validation accuracy: 0.845\n",
            "\t  training loss: 0.219390\n",
            "\t  training accuracy: 0.920\n",
            "\t  validation loss: 0.398977\n",
            "\t  validation accuracy: 0.862\n",
            "\t  training loss: 0.220732\n",
            "\t  training accuracy: 0.919\n",
            "\t  validation loss: 0.434331\n",
            "\t  validation accuracy: 0.854\n",
            "\t  training loss: 0.209087\n",
            "\t  training accuracy: 0.922\n",
            "\t  validation loss: 0.427597\n",
            "\t  validation accuracy: 0.863\n",
            "\t  training loss: 0.182750\n",
            "\t  training accuracy: 0.933\n",
            "\t  validation loss: 0.389682\n",
            "\t  validation accuracy: 0.866\n",
            "\t  training loss: 0.148471\n",
            "\t  training accuracy: 0.945\n",
            "\t  validation loss: 0.604119\n",
            "\t  validation accuracy: 0.829\n",
            "\t  training loss: 0.151639\n",
            "\t  training accuracy: 0.944\n",
            "\t  validation loss: 0.561607\n",
            "\t  validation accuracy: 0.836\n",
            "\t  training loss: 0.140718\n",
            "\t  training accuracy: 0.948\n",
            "\t  validation loss: 0.439684\n",
            "\t  validation accuracy: 0.868\n",
            "\t  training loss: 0.121695\n",
            "\t  training accuracy: 0.956\n",
            "\t  validation loss: 0.477807\n",
            "\t  validation accuracy: 0.859\n",
            "\t  training loss: 0.112157\n",
            "\t  training accuracy: 0.958\n",
            "\t  validation loss: 0.638143\n",
            "\t  validation accuracy: 0.847\n",
            "\t  training loss: 0.108967\n",
            "\t  training accuracy: 0.959\n",
            "\t  validation loss: 0.479223\n",
            "\t  validation accuracy: 0.864\n",
            "\t  training loss: 0.108259\n",
            "\t  training accuracy: 0.959\n",
            "\t  validation loss: 0.578544\n",
            "\t  validation accuracy: 0.843\n",
            "\t  training loss: 0.098320\n",
            "\t  training accuracy: 0.963\n",
            "\t  validation loss: 0.485277\n",
            "\t  validation accuracy: 0.868\n",
            "\t  training loss: 0.091708\n",
            "\t  training accuracy: 0.964\n",
            "\t  validation loss: 0.608404\n",
            "\t  validation accuracy: 0.842\n",
            "\t  training loss: 0.101294\n",
            "\t  training accuracy: 0.962\n",
            "\t  validation loss: 0.554067\n",
            "\t  validation accuracy: 0.856\n",
            "\t  training loss: 0.088528\n",
            "\t  training accuracy: 0.968\n",
            "\t  validation loss: 0.594450\n",
            "\t  validation accuracy: 0.865\n",
            "\t  training loss: 0.111208\n",
            "\t  training accuracy: 0.961\n",
            "\t  validation loss: 0.652636\n",
            "\t  validation accuracy: 0.848\n",
            "\t  training loss: 0.102772\n",
            "\t  training accuracy: 0.964\n",
            "\t  validation loss: 0.611826\n",
            "\t  validation accuracy: 0.849\n",
            "\t  training loss: 0.077605\n",
            "\t  training accuracy: 0.972\n",
            "\t  validation loss: 0.580098\n",
            "\t  validation accuracy: 0.864\n",
            "\t  training loss: 0.076146\n",
            "\t  training accuracy: 0.972\n",
            "\t  validation loss: 0.548019\n",
            "\t  validation accuracy: 0.870\n",
            "\t  training loss: 0.054600\n",
            "\t  training accuracy: 0.981\n",
            "\t  validation loss: 0.577843\n",
            "\t  validation accuracy: 0.866\n",
            "\t  training loss: 0.079736\n",
            "\t  training accuracy: 0.971\n",
            "\t  validation loss: 0.624622\n",
            "\t  validation accuracy: 0.863\n",
            "\t  training loss: 0.105440\n",
            "\t  training accuracy: 0.963\n",
            "\t  validation loss: 0.532652\n",
            "\t  validation accuracy: 0.869\n",
            "\t  training loss: 0.078055\n",
            "\t  training accuracy: 0.973\n",
            "\t  validation loss: 0.661344\n",
            "\t  validation accuracy: 0.855\n",
            "\t  training loss: 0.059754\n",
            "\t  training accuracy: 0.978\n",
            "\t  validation loss: 0.556720\n",
            "\t  validation accuracy: 0.876\n",
            "\t  training loss: 0.048519\n",
            "\t  training accuracy: 0.982\n",
            "\t  validation loss: 0.621587\n",
            "\t  validation accuracy: 0.863\n",
            "\t  training loss: 0.070790\n",
            "\t  training accuracy: 0.975\n",
            "\t  validation loss: 0.644770\n",
            "\t  validation accuracy: 0.867\n",
            "\t  training loss: 0.052069\n",
            "\t  training accuracy: 0.982\n",
            "\t  validation loss: 0.649184\n",
            "\t  validation accuracy: 0.862\n",
            "\t  training loss: 0.039626\n",
            "\t  training accuracy: 0.985\n",
            "\t  validation loss: 0.691593\n",
            "\t  validation accuracy: 0.857\n",
            "\t  training loss: 0.036737\n",
            "\t  training accuracy: 0.986\n",
            "\t  validation loss: 0.669555\n",
            "\t  validation accuracy: 0.871\n",
            "\t  training loss: 0.035499\n",
            "\t  training accuracy: 0.987\n",
            "\t  validation loss: 0.623874\n",
            "\t  validation accuracy: 0.876\n",
            "\t  training loss: 0.031391\n",
            "\t  training accuracy: 0.990\n",
            "\t  validation loss: 0.663295\n",
            "\t  validation accuracy: 0.868\n",
            "\t  training loss: 0.044221\n",
            "\t  training accuracy: 0.987\n",
            "\t  validation loss: 0.725995\n",
            "\t  validation accuracy: 0.865\n",
            "\t  training loss: 0.043861\n",
            "\t  training accuracy: 0.984\n",
            "\t  validation loss: 0.699408\n",
            "\t  validation accuracy: 0.864\n",
            "\t  training loss: 0.035270\n",
            "\t  training accuracy: 0.988\n",
            "\t  validation loss: 0.720080\n",
            "\t  validation accuracy: 0.866\n",
            "\t  training loss: 0.040581\n",
            "\t  training accuracy: 0.986\n",
            "\t  validation loss: 0.621120\n",
            "\t  validation accuracy: 0.880\n",
            "\t  training loss: 0.042588\n",
            "\t  training accuracy: 0.986\n",
            "\t  validation loss: 0.838654\n",
            "\t  validation accuracy: 0.853\n",
            "\t  training loss: 0.058935\n",
            "\t  training accuracy: 0.979\n",
            "\t  validation loss: 0.831658\n",
            "\t  validation accuracy: 0.853\n",
            "\t  training loss: 0.051304\n",
            "\t  training accuracy: 0.983\n",
            "\t  validation loss: 0.664953\n",
            "\t  validation accuracy: 0.869\n",
            "\t  training loss: 0.048142\n",
            "\t  training accuracy: 0.984\n",
            "\t  validation loss: 0.650611\n",
            "\t  validation accuracy: 0.870\n",
            "\t  training loss: 0.022789\n",
            "\t  training accuracy: 0.993\n",
            "\t  validation loss: 0.677685\n",
            "\t  validation accuracy: 0.874\n",
            "\t  training loss: 0.019413\n",
            "\t  training accuracy: 0.994\n",
            "\t  validation loss: 0.680709\n",
            "\t  validation accuracy: 0.878\n",
            "\t  training loss: 0.014794\n",
            "\t  training accuracy: 0.995\n",
            "\t  validation loss: 0.830819\n",
            "\t  validation accuracy: 0.860\n",
            "\t  training loss: 0.025783\n",
            "\t  training accuracy: 0.991\n",
            "\t  validation loss: 0.716589\n",
            "\t  validation accuracy: 0.866\n",
            "\t  training loss: 0.036469\n",
            "\t  training accuracy: 0.988\n",
            "\t  validation loss: 0.712032\n",
            "\t  validation accuracy: 0.868\n"
          ]
        }
      ]
    },
    {
      "cell_type": "code",
      "source": [
        "train_loss, val_loss, train_accuracy, val_accuracy = fit(model, train_loader, test_loader, loss_func, opt, n_epochs) "
      ],
      "metadata": {
        "id": "d_g3xuIXmASm"
      },
      "execution_count": null,
      "outputs": []
    },
    {
      "cell_type": "markdown",
      "source": [
        "Model with BatchNormalization, 50 epochs, reduced training dataset"
      ],
      "metadata": {
        "id": "OUlCMy1Ctwq2"
      }
    },
    {
      "cell_type": "code",
      "source": [
        "plot_loss_acc(train_loss, val_loss, train_accuracy, val_accuracy)"
      ],
      "metadata": {
        "colab": {
          "base_uri": "https://localhost:8080/",
          "height": 350
        },
        "id": "eFKAL9lfmDhf",
        "outputId": "25a8aa59-a346-4307-d00a-ab84531b2a66"
      },
      "execution_count": 37,
      "outputs": [
        {
          "output_type": "display_data",
          "data": {
            "image/png": "[encoded data removed]",
            "text/plain": [
              "<Figure size 1080x360 with 2 Axes>"
            ]
          },
          "metadata": {
            "needs_background": "light"
          }
        }
      ]
    },
    {
      "cell_type": "code",
      "source": [
        "train_loss, val_loss, train_accuracy, val_accuracy = fit(model, train_loader, test_loader, loss_func, opt, n_epochs)"
      ],
      "metadata": {
        "colab": {
          "base_uri": "https://localhost:8080/"
        },
        "id": "VE1_y5XlrOfW",
        "outputId": "98a2bd21-218f-448b-cf2e-335b65e69f99"
      },
      "execution_count": 42,
      "outputs": [
        {
          "output_type": "stream",
          "name": "stdout",
          "text": [
            "\t  training loss: 0.901288\n",
            "\t  training accuracy: 0.657\n",
            "\t  validation loss: 0.507484\n",
            "\t  validation accuracy: 0.802\n",
            "\t  training loss: 0.545084\n",
            "\t  training accuracy: 0.808\n",
            "\t  validation loss: 0.438318\n",
            "\t  validation accuracy: 0.838\n",
            "\t  training loss: 0.474792\n",
            "\t  training accuracy: 0.838\n",
            "\t  validation loss: 0.406555\n",
            "\t  validation accuracy: 0.853\n",
            "\t  training loss: 0.442019\n",
            "\t  training accuracy: 0.850\n",
            "\t  validation loss: 0.389120\n",
            "\t  validation accuracy: 0.860\n",
            "\t  training loss: 0.413352\n",
            "\t  training accuracy: 0.859\n",
            "\t  validation loss: 0.377229\n",
            "\t  validation accuracy: 0.866\n",
            "\t  training loss: 0.395040\n",
            "\t  training accuracy: 0.865\n",
            "\t  validation loss: 0.373231\n",
            "\t  validation accuracy: 0.866\n",
            "\t  training loss: 0.382202\n",
            "\t  training accuracy: 0.869\n",
            "\t  validation loss: 0.356051\n",
            "\t  validation accuracy: 0.873\n",
            "\t  training loss: 0.369284\n",
            "\t  training accuracy: 0.874\n",
            "\t  validation loss: 0.357132\n",
            "\t  validation accuracy: 0.875\n",
            "\t  training loss: 0.361592\n",
            "\t  training accuracy: 0.873\n",
            "\t  validation loss: 0.348348\n",
            "\t  validation accuracy: 0.872\n",
            "\t  training loss: 0.348237\n",
            "\t  training accuracy: 0.879\n",
            "\t  validation loss: 0.343734\n",
            "\t  validation accuracy: 0.875\n",
            "\t  training loss: 0.349344\n",
            "\t  training accuracy: 0.880\n",
            "\t  validation loss: 0.338702\n",
            "\t  validation accuracy: 0.880\n",
            "\t  training loss: 0.337012\n",
            "\t  training accuracy: 0.882\n",
            "\t  validation loss: 0.333745\n",
            "\t  validation accuracy: 0.883\n",
            "\t  training loss: 0.329236\n",
            "\t  training accuracy: 0.884\n",
            "\t  validation loss: 0.343208\n",
            "\t  validation accuracy: 0.880\n",
            "\t  training loss: 0.326528\n",
            "\t  training accuracy: 0.887\n",
            "\t  validation loss: 0.338804\n",
            "\t  validation accuracy: 0.883\n",
            "\t  training loss: 0.318208\n",
            "\t  training accuracy: 0.889\n",
            "\t  validation loss: 0.323571\n",
            "\t  validation accuracy: 0.885\n",
            "\t  training loss: 0.316846\n",
            "\t  training accuracy: 0.890\n",
            "\t  validation loss: 0.327082\n",
            "\t  validation accuracy: 0.886\n",
            "\t  training loss: 0.307306\n",
            "\t  training accuracy: 0.892\n",
            "\t  validation loss: 0.329637\n",
            "\t  validation accuracy: 0.884\n",
            "\t  training loss: 0.303454\n",
            "\t  training accuracy: 0.895\n",
            "\t  validation loss: 0.327521\n",
            "\t  validation accuracy: 0.885\n",
            "\t  training loss: 0.298337\n",
            "\t  training accuracy: 0.895\n",
            "\t  validation loss: 0.329603\n",
            "\t  validation accuracy: 0.887\n",
            "\t  training loss: 0.295134\n",
            "\t  training accuracy: 0.897\n",
            "\t  validation loss: 0.323983\n",
            "\t  validation accuracy: 0.887\n",
            "\t  training loss: 0.295622\n",
            "\t  training accuracy: 0.895\n",
            "\t  validation loss: 0.315464\n",
            "\t  validation accuracy: 0.891\n",
            "\t  training loss: 0.286835\n",
            "\t  training accuracy: 0.898\n",
            "\t  validation loss: 0.316411\n",
            "\t  validation accuracy: 0.889\n",
            "\t  training loss: 0.286919\n",
            "\t  training accuracy: 0.897\n",
            "\t  validation loss: 0.327645\n",
            "\t  validation accuracy: 0.887\n",
            "\t  training loss: 0.282570\n",
            "\t  training accuracy: 0.900\n",
            "\t  validation loss: 0.329025\n",
            "\t  validation accuracy: 0.887\n",
            "\t  training loss: 0.281145\n",
            "\t  training accuracy: 0.901\n",
            "\t  validation loss: 0.321780\n",
            "\t  validation accuracy: 0.887\n",
            "\t  training loss: 0.274348\n",
            "\t  training accuracy: 0.902\n",
            "\t  validation loss: 0.317984\n",
            "\t  validation accuracy: 0.891\n",
            "\t  training loss: 0.276206\n",
            "\t  training accuracy: 0.901\n",
            "\t  validation loss: 0.315809\n",
            "\t  validation accuracy: 0.893\n",
            "\t  training loss: 0.272313\n",
            "\t  training accuracy: 0.904\n",
            "\t  validation loss: 0.326104\n",
            "\t  validation accuracy: 0.887\n",
            "\t  training loss: 0.271611\n",
            "\t  training accuracy: 0.903\n",
            "\t  validation loss: 0.314518\n",
            "\t  validation accuracy: 0.893\n",
            "\t  training loss: 0.266758\n",
            "\t  training accuracy: 0.904\n",
            "\t  validation loss: 0.327939\n",
            "\t  validation accuracy: 0.890\n",
            "\t  training loss: 0.265299\n",
            "\t  training accuracy: 0.905\n",
            "\t  validation loss: 0.317655\n",
            "\t  validation accuracy: 0.892\n",
            "\t  training loss: 0.261735\n",
            "\t  training accuracy: 0.906\n",
            "\t  validation loss: 0.310304\n",
            "\t  validation accuracy: 0.895\n",
            "\t  training loss: 0.260361\n",
            "\t  training accuracy: 0.908\n",
            "\t  validation loss: 0.321872\n",
            "\t  validation accuracy: 0.893\n",
            "\t  training loss: 0.256254\n",
            "\t  training accuracy: 0.908\n",
            "\t  validation loss: 0.320115\n",
            "\t  validation accuracy: 0.891\n",
            "\t  training loss: 0.256700\n",
            "\t  training accuracy: 0.909\n",
            "\t  validation loss: 0.310516\n",
            "\t  validation accuracy: 0.895\n",
            "\t  training loss: 0.250902\n",
            "\t  training accuracy: 0.910\n",
            "\t  validation loss: 0.326561\n",
            "\t  validation accuracy: 0.894\n",
            "\t  training loss: 0.247682\n",
            "\t  training accuracy: 0.911\n",
            "\t  validation loss: 0.319476\n",
            "\t  validation accuracy: 0.893\n",
            "\t  training loss: 0.249834\n",
            "\t  training accuracy: 0.911\n",
            "\t  validation loss: 0.322302\n",
            "\t  validation accuracy: 0.893\n",
            "\t  training loss: 0.249291\n",
            "\t  training accuracy: 0.912\n",
            "\t  validation loss: 0.311978\n",
            "\t  validation accuracy: 0.893\n",
            "\t  training loss: 0.246213\n",
            "\t  training accuracy: 0.910\n",
            "\t  validation loss: 0.308630\n",
            "\t  validation accuracy: 0.898\n",
            "\t  training loss: 0.243487\n",
            "\t  training accuracy: 0.913\n",
            "\t  validation loss: 0.323572\n",
            "\t  validation accuracy: 0.896\n",
            "\t  training loss: 0.244650\n",
            "\t  training accuracy: 0.913\n",
            "\t  validation loss: 0.321272\n",
            "\t  validation accuracy: 0.896\n",
            "\t  training loss: 0.243899\n",
            "\t  training accuracy: 0.914\n",
            "\t  validation loss: 0.305849\n",
            "\t  validation accuracy: 0.894\n",
            "\t  training loss: 0.241088\n",
            "\t  training accuracy: 0.914\n",
            "\t  validation loss: 0.323089\n",
            "\t  validation accuracy: 0.897\n",
            "\t  training loss: 0.239365\n",
            "\t  training accuracy: 0.914\n",
            "\t  validation loss: 0.304544\n",
            "\t  validation accuracy: 0.900\n",
            "\t  training loss: 0.233203\n",
            "\t  training accuracy: 0.918\n",
            "\t  validation loss: 0.313127\n",
            "\t  validation accuracy: 0.900\n",
            "\t  training loss: 0.234306\n",
            "\t  training accuracy: 0.916\n",
            "\t  validation loss: 0.314577\n",
            "\t  validation accuracy: 0.899\n",
            "\t  training loss: 0.232805\n",
            "\t  training accuracy: 0.917\n",
            "\t  validation loss: 0.314797\n",
            "\t  validation accuracy: 0.896\n",
            "\t  training loss: 0.229864\n",
            "\t  training accuracy: 0.918\n",
            "\t  validation loss: 0.324800\n",
            "\t  validation accuracy: 0.897\n",
            "\t  training loss: 0.232270\n",
            "\t  training accuracy: 0.916\n",
            "\t  validation loss: 0.315031\n",
            "\t  validation accuracy: 0.896\n",
            "\t  training loss: 0.230132\n",
            "\t  training accuracy: 0.918\n",
            "\t  validation loss: 0.325667\n",
            "\t  validation accuracy: 0.897\n",
            "\t  training loss: 0.230337\n",
            "\t  training accuracy: 0.918\n",
            "\t  validation loss: 0.322456\n",
            "\t  validation accuracy: 0.898\n",
            "\t  training loss: 0.221945\n",
            "\t  training accuracy: 0.920\n",
            "\t  validation loss: 0.321181\n",
            "\t  validation accuracy: 0.897\n",
            "\t  training loss: 0.226774\n",
            "\t  training accuracy: 0.917\n",
            "\t  validation loss: 0.324723\n",
            "\t  validation accuracy: 0.896\n",
            "\t  training loss: 0.219451\n",
            "\t  training accuracy: 0.921\n",
            "\t  validation loss: 0.317837\n",
            "\t  validation accuracy: 0.898\n",
            "\t  training loss: 0.222690\n",
            "\t  training accuracy: 0.920\n",
            "\t  validation loss: 0.320943\n",
            "\t  validation accuracy: 0.897\n",
            "\t  training loss: 0.224168\n",
            "\t  training accuracy: 0.920\n",
            "\t  validation loss: 0.337388\n",
            "\t  validation accuracy: 0.897\n",
            "\t  training loss: 0.217694\n",
            "\t  training accuracy: 0.922\n",
            "\t  validation loss: 0.331234\n",
            "\t  validation accuracy: 0.895\n",
            "\t  training loss: 0.212805\n",
            "\t  training accuracy: 0.924\n",
            "\t  validation loss: 0.342958\n",
            "\t  validation accuracy: 0.899\n",
            "\t  training loss: 0.213562\n",
            "\t  training accuracy: 0.924\n",
            "\t  validation loss: 0.330172\n",
            "\t  validation accuracy: 0.892\n",
            "\t  training loss: 0.214765\n",
            "\t  training accuracy: 0.923\n",
            "\t  validation loss: 0.340115\n",
            "\t  validation accuracy: 0.899\n",
            "\t  training loss: 0.217430\n",
            "\t  training accuracy: 0.923\n",
            "\t  validation loss: 0.334892\n",
            "\t  validation accuracy: 0.896\n",
            "\t  training loss: 0.214460\n",
            "\t  training accuracy: 0.923\n",
            "\t  validation loss: 0.332891\n",
            "\t  validation accuracy: 0.900\n",
            "\t  training loss: 0.208630\n",
            "\t  training accuracy: 0.924\n",
            "\t  validation loss: 0.337938\n",
            "\t  validation accuracy: 0.894\n",
            "\t  training loss: 0.213432\n",
            "\t  training accuracy: 0.924\n",
            "\t  validation loss: 0.344955\n",
            "\t  validation accuracy: 0.898\n",
            "\t  training loss: 0.207838\n",
            "\t  training accuracy: 0.926\n",
            "\t  validation loss: 0.335494\n",
            "\t  validation accuracy: 0.899\n",
            "\t  training loss: 0.208944\n",
            "\t  training accuracy: 0.924\n",
            "\t  validation loss: 0.333239\n",
            "\t  validation accuracy: 0.899\n",
            "\t  training loss: 0.203927\n",
            "\t  training accuracy: 0.928\n",
            "\t  validation loss: 0.334675\n",
            "\t  validation accuracy: 0.898\n",
            "\t  training loss: 0.210703\n",
            "\t  training accuracy: 0.925\n",
            "\t  validation loss: 0.328583\n",
            "\t  validation accuracy: 0.895\n",
            "\t  training loss: 0.206364\n",
            "\t  training accuracy: 0.926\n",
            "\t  validation loss: 0.344852\n",
            "\t  validation accuracy: 0.897\n",
            "\t  training loss: 0.198722\n",
            "\t  training accuracy: 0.928\n",
            "\t  validation loss: 0.337964\n",
            "\t  validation accuracy: 0.896\n",
            "\t  training loss: 0.205070\n",
            "\t  training accuracy: 0.927\n",
            "\t  validation loss: 0.337470\n",
            "\t  validation accuracy: 0.900\n",
            "\t  training loss: 0.199115\n",
            "\t  training accuracy: 0.928\n",
            "\t  validation loss: 0.347051\n",
            "\t  validation accuracy: 0.900\n",
            "\t  training loss: 0.202093\n",
            "\t  training accuracy: 0.928\n",
            "\t  validation loss: 0.318876\n",
            "\t  validation accuracy: 0.903\n",
            "\t  training loss: 0.196255\n",
            "\t  training accuracy: 0.929\n",
            "\t  validation loss: 0.342078\n",
            "\t  validation accuracy: 0.903\n",
            "\t  training loss: 0.202256\n",
            "\t  training accuracy: 0.928\n",
            "\t  validation loss: 0.329286\n",
            "\t  validation accuracy: 0.902\n",
            "\t  training loss: 0.196412\n",
            "\t  training accuracy: 0.930\n",
            "\t  validation loss: 0.329863\n",
            "\t  validation accuracy: 0.901\n",
            "\t  training loss: 0.195587\n",
            "\t  training accuracy: 0.930\n",
            "\t  validation loss: 0.333230\n",
            "\t  validation accuracy: 0.902\n",
            "\t  training loss: 0.197371\n",
            "\t  training accuracy: 0.929\n",
            "\t  validation loss: 0.333750\n",
            "\t  validation accuracy: 0.903\n",
            "\t  training loss: 0.197239\n",
            "\t  training accuracy: 0.928\n",
            "\t  validation loss: 0.344936\n",
            "\t  validation accuracy: 0.902\n"
          ]
        }
      ]
    },
    {
      "cell_type": "markdown",
      "source": [
        "Model with Dropout, 80 epochs, full training dataset"
      ],
      "metadata": {
        "id": "vKgGxVwjtUjX"
      }
    },
    {
      "cell_type": "code",
      "source": [
        "plot_loss_acc(train_loss, val_loss, train_accuracy[2::], val_accuracy[2::])"
      ],
      "metadata": {
        "colab": {
          "base_uri": "https://localhost:8080/",
          "height": 350
        },
        "id": "ScMSM_BiuNy_",
        "outputId": "8e22be88-bbb3-4f5a-cdce-73bfec1c1ded"
      },
      "execution_count": 46,
      "outputs": [
        {
          "output_type": "display_data",
          "data": {
            "image/png": "[encoded data removed]",
            "text/plain": [
              "<Figure size 1080x360 with 2 Axes>"
            ]
          },
          "metadata": {
            "needs_background": "light"
          }
        }
      ]
    },
    {
      "cell_type": "code",
      "source": [
        "print(\"Test_accuracy = \", test(model, test_loader))"
      ],
      "metadata": {
        "colab": {
          "base_uri": "https://localhost:8080/"
        },
        "id": "-m3CCEgb-7g5",
        "outputId": "f5cc110c-1815-4a01-ac06-68b129ee0e53"
      },
      "execution_count": 44,
      "outputs": [
        {
          "output_type": "stream",
          "name": "stdout",
          "text": [
            "Test_accuracy =  0.9017578125\n"
          ]
        }
      ]
    },
    {
      "cell_type": "markdown",
      "metadata": {
        "id": "dMui_uLJ7G0d"
      },
      "source": [
        "### Conclusions:\n",
        "_Write down small report with your conclusions and your ideas._"
      ]
    },
    {
      "cell_type": "markdown",
      "source": [
        "**Task 1**. Реализовала модель, состоящую только из линейных слоев и активаций, тренировала ее 20 эпох до достижения значения метрики на тестовой выборке 0.89. По графику сравнения лосса на тренировочной и тестовой выборке видно переобучение даже для небольшой архитектуры(8 слоев, около 400000 параметров): примерно на середине обучения лосс на валидационной выборке практически перестает уменьшаться, в то время как лосс на тренировочной выборке продолжает спадать монотонно.\n"
      ],
      "metadata": {
        "id": "dUXW_uQU01wu"
      }
    },
    {
      "cell_type": "markdown",
      "source": [
        "**Task 2**. Уменьшила втрое размер тренировочного датасета. Последовательно увеличивала сложность моделей за счет добавления линейных слоев и и активаций, каждая модель обучалась 50 эпох, затем я сравнила лосс и метрику на тренирочной и тестовой выборках. Получилось 3 модели: OverfittingNeuralNetwork2 из 8 слоев, 405044 параметров; OverfittingNeuralNetwork1 из 10 слоев, 1889793 параметра; OverfittingNeuralNetwork из 12 слоев, 8039489 параметров. Переобучение произошло в каждом эксперименте: примерно с середины обучения наблюдала рост лосса на тестовой выборке и продолжение уменьшения лосса на тренировочной; увеличение accuracy на тренировочной выборке и флуктуацию accuracy около одного значения на тестовой. При этом чем сложнее модель, тем раньше проявлялось переобучение и тем интенсивнее шел рост лосса на валидации -> чем сложнее модель, тем более она склонна к переобучению.\n"
      ],
      "metadata": {
        "id": "EaL04ad72VdR"
      }
    },
    {
      "cell_type": "markdown",
      "source": [
        "**Task 3**. Уже для уменьшенного тренировочного датасета и модели 2(1889793 параметра) применила техники регуляризации: Dropout и BatchNormalization, для Dropout варьировала параметр вероятности зануления нейронов - оптимальным оказалось значение p=0.4. Тренировала получившиеся модели тоже 50 эпох, по графикам видно, что техники борьбы с переобучением дали профит: лосс на валидационной выборке не начинает расти, значение accuracy на ней выше, чем в переобученных сетках и меньше отличается от accuracy на тренировочной. Оказалось, что для такой архитектуры Dropout лучше борется с переобучением, чем BatchNormalization, поэтому сетку с Dropout потом учила на полном тренировочном датасете 80 эпох(последний график) - увеличение объема датасета тоже помогает не сетке переобучаться. Явного переобучения не наблюдается, accuracy на тесте 0.9. Но рост метрики на тесте идет очень медленно, думаю, что для дальнейшего улучшения классификации картинок уже надо применять сверточные слои."
      ],
      "metadata": {
        "id": "vEIBohJls4eA"
      }
    },
    {
      "cell_type": "markdown",
      "source": [
        "**Под тестом и валидацией в работе имею в виду одно и то же, так как задача просто отследить и побороть переобучение, а графики метрики и лосса для теста не использовались для подбора гиперпараметров моделей, кроме p в Dropout."
      ],
      "metadata": {
        "id": "cKywKaGHsH49"
      }
    }
  ],
  "metadata": {
    "accelerator": "GPU",
    "colab": {
      "collapsed_sections": [],
      "name": "lab2_2_Kostenok.ipynb",
      "provenance": []
    },
    "kernelspec": {
      "display_name": "Python 3",
      "language": "python",
      "name": "python3"
    },
    "language_info": {
      "codemirror_mode": {
        "name": "ipython",
        "version": 3
      },
      "file_extension": ".py",
      "mimetype": "text/x-python",
      "name": "python",
      "nbconvert_exporter": "python",
      "pygments_lexer": "ipython3",
      "version": "3.7.7"
    },
    "widgets": {
      "application/vnd.jupyter.widget-state+json": {
        "0c81a06001b641ff872c7cb4a5136e0e": {
          "model_module": "@jupyter-widgets/controls",
          "model_name": "HBoxModel",
          "model_module_version": "1.5.0",
          "state": {
            "_view_name": "HBoxView",
            "_dom_classes": [],
            "_model_name": "HBoxModel",
            "_view_module": "@jupyter-widgets/controls",
            "_model_module_version": "1.5.0",
            "_view_count": null,
            "_view_module_version": "1.5.0",
            "box_style": "",
            "layout": "IPY_MODEL_5e3b18c8679d4009941da35c1f36ddde",
            "_model_module": "@jupyter-widgets/controls",
            "children": [
              "IPY_MODEL_5b8b26f833de40cbacb2ac3907da3ae9",
              "IPY_MODEL_1f1089f945374dc99395a3c45c3b6587",
              "IPY_MODEL_3ab4b3b31e574c6ba4a6a59b6f699d56"
            ]
          }
        },
        "5e3b18c8679d4009941da35c1f36ddde": {
          "model_module": "@jupyter-widgets/base",
          "model_name": "LayoutModel",
          "model_module_version": "1.2.0",
          "state": {
            "_view_name": "LayoutView",
            "grid_template_rows": null,
            "right": null,
            "justify_content": null,
            "_view_module": "@jupyter-widgets/base",
            "overflow": null,
            "_model_module_version": "1.2.0",
            "_view_count": null,
            "flex_flow": null,
            "width": null,
            "min_width": null,
            "border": null,
            "align_items": null,
            "bottom": null,
            "_model_module": "@jupyter-widgets/base",
            "top": null,
            "grid_column": null,
            "overflow_y": null,
            "overflow_x": null,
            "grid_auto_flow": null,
            "grid_area": null,
            "grid_template_columns": null,
            "flex": null,
            "_model_name": "LayoutModel",
            "justify_items": null,
            "grid_row": null,
            "max_height": null,
            "align_content": null,
            "visibility": null,
            "align_self": null,
            "height": null,
            "min_height": null,
            "padding": null,
            "grid_auto_rows": null,
            "grid_gap": null,
            "max_width": null,
            "order": null,
            "_view_module_version": "1.2.0",
            "grid_template_areas": null,
            "object_position": null,
            "object_fit": null,
            "grid_auto_columns": null,
            "margin": null,
            "display": null,
            "left": null
          }
        },
        "5b8b26f833de40cbacb2ac3907da3ae9": {
          "model_module": "@jupyter-widgets/controls",
          "model_name": "HTMLModel",
          "model_module_version": "1.5.0",
          "state": {
            "_view_name": "HTMLView",
            "style": "IPY_MODEL_bc1972a262bf47408534cc1a905fcba2",
            "_dom_classes": [],
            "description": "",
            "_model_name": "HTMLModel",
            "placeholder": "​",
            "_view_module": "@jupyter-widgets/controls",
            "_model_module_version": "1.5.0",
            "value": "",
            "_view_count": null,
            "_view_module_version": "1.5.0",
            "description_tooltip": null,
            "_model_module": "@jupyter-widgets/controls",
            "layout": "IPY_MODEL_b1dc52fefc554ef892ebfc54828e5b81"
          }
        },
        "1f1089f945374dc99395a3c45c3b6587": {
          "model_module": "@jupyter-widgets/controls",
          "model_name": "FloatProgressModel",
          "model_module_version": "1.5.0",
          "state": {
            "_view_name": "ProgressView",
            "style": "IPY_MODEL_07f2d118b38045e9bfdb1b85531cd7a5",
            "_dom_classes": [],
            "description": "",
            "_model_name": "FloatProgressModel",
            "bar_style": "success",
            "max": 26421880,
            "_view_module": "@jupyter-widgets/controls",
            "_model_module_version": "1.5.0",
            "value": 26421880,
            "_view_count": null,
            "_view_module_version": "1.5.0",
            "orientation": "horizontal",
            "min": 0,
            "description_tooltip": null,
            "_model_module": "@jupyter-widgets/controls",
            "layout": "IPY_MODEL_3cb08aa2675743f88484b352ad7f97d8"
          }
        },
        "3ab4b3b31e574c6ba4a6a59b6f699d56": {
          "model_module": "@jupyter-widgets/controls",
          "model_name": "HTMLModel",
          "model_module_version": "1.5.0",
          "state": {
            "_view_name": "HTMLView",
            "style": "IPY_MODEL_c49154af2f77486d96aa29674b1e4904",
            "_dom_classes": [],
            "description": "",
            "_model_name": "HTMLModel",
            "placeholder": "​",
            "_view_module": "@jupyter-widgets/controls",
            "_model_module_version": "1.5.0",
            "value": " 26422272/? [00:01&lt;00:00, 21587864.78it/s]",
            "_view_count": null,
            "_view_module_version": "1.5.0",
            "description_tooltip": null,
            "_model_module": "@jupyter-widgets/controls",
            "layout": "IPY_MODEL_e2101b93b6c44475b098ba229ab0d3ca"
          }
        },
        "bc1972a262bf47408534cc1a905fcba2": {
          "model_module": "@jupyter-widgets/controls",
          "model_name": "DescriptionStyleModel",
          "model_module_version": "1.5.0",
          "state": {
            "_view_name": "StyleView",
            "_model_name": "DescriptionStyleModel",
            "description_width": "",
            "_view_module": "@jupyter-widgets/base",
            "_model_module_version": "1.5.0",
            "_view_count": null,
            "_view_module_version": "1.2.0",
            "_model_module": "@jupyter-widgets/controls"
          }
        },
        "b1dc52fefc554ef892ebfc54828e5b81": {
          "model_module": "@jupyter-widgets/base",
          "model_name": "LayoutModel",
          "model_module_version": "1.2.0",
          "state": {
            "_view_name": "LayoutView",
            "grid_template_rows": null,
            "right": null,
            "justify_content": null,
            "_view_module": "@jupyter-widgets/base",
            "overflow": null,
            "_model_module_version": "1.2.0",
            "_view_count": null,
            "flex_flow": null,
            "width": null,
            "min_width": null,
            "border": null,
            "align_items": null,
            "bottom": null,
            "_model_module": "@jupyter-widgets/base",
            "top": null,
            "grid_column": null,
            "overflow_y": null,
            "overflow_x": null,
            "grid_auto_flow": null,
            "grid_area": null,
            "grid_template_columns": null,
            "flex": null,
            "_model_name": "LayoutModel",
            "justify_items": null,
            "grid_row": null,
            "max_height": null,
            "align_content": null,
            "visibility": null,
            "align_self": null,
            "height": null,
            "min_height": null,
            "padding": null,
            "grid_auto_rows": null,
            "grid_gap": null,
            "max_width": null,
            "order": null,
            "_view_module_version": "1.2.0",
            "grid_template_areas": null,
            "object_position": null,
            "object_fit": null,
            "grid_auto_columns": null,
            "margin": null,
            "display": null,
            "left": null
          }
        },
        "07f2d118b38045e9bfdb1b85531cd7a5": {
          "model_module": "@jupyter-widgets/controls",
          "model_name": "ProgressStyleModel",
          "model_module_version": "1.5.0",
          "state": {
            "_view_name": "StyleView",
            "_model_name": "ProgressStyleModel",
            "description_width": "",
            "_view_module": "@jupyter-widgets/base",
            "_model_module_version": "1.5.0",
            "_view_count": null,
            "_view_module_version": "1.2.0",
            "bar_color": null,
            "_model_module": "@jupyter-widgets/controls"
          }
        },
        "3cb08aa2675743f88484b352ad7f97d8": {
          "model_module": "@jupyter-widgets/base",
          "model_name": "LayoutModel",
          "model_module_version": "1.2.0",
          "state": {
            "_view_name": "LayoutView",
            "grid_template_rows": null,
            "right": null,
            "justify_content": null,
            "_view_module": "@jupyter-widgets/base",
            "overflow": null,
            "_model_module_version": "1.2.0",
            "_view_count": null,
            "flex_flow": null,
            "width": null,
            "min_width": null,
            "border": null,
            "align_items": null,
            "bottom": null,
            "_model_module": "@jupyter-widgets/base",
            "top": null,
            "grid_column": null,
            "overflow_y": null,
            "overflow_x": null,
            "grid_auto_flow": null,
            "grid_area": null,
            "grid_template_columns": null,
            "flex": null,
            "_model_name": "LayoutModel",
            "justify_items": null,
            "grid_row": null,
            "max_height": null,
            "align_content": null,
            "visibility": null,
            "align_self": null,
            "height": null,
            "min_height": null,
            "padding": null,
            "grid_auto_rows": null,
            "grid_gap": null,
            "max_width": null,
            "order": null,
            "_view_module_version": "1.2.0",
            "grid_template_areas": null,
            "object_position": null,
            "object_fit": null,
            "grid_auto_columns": null,
            "margin": null,
            "display": null,
            "left": null
          }
        },
        "c49154af2f77486d96aa29674b1e4904": {
          "model_module": "@jupyter-widgets/controls",
          "model_name": "DescriptionStyleModel",
          "model_module_version": "1.5.0",
          "state": {
            "_view_name": "StyleView",
            "_model_name": "DescriptionStyleModel",
            "description_width": "",
            "_view_module": "@jupyter-widgets/base",
            "_model_module_version": "1.5.0",
            "_view_count": null,
            "_view_module_version": "1.2.0",
            "_model_module": "@jupyter-widgets/controls"
          }
        },
        "e2101b93b6c44475b098ba229ab0d3ca": {
          "model_module": "@jupyter-widgets/base",
          "model_name": "LayoutModel",
          "model_module_version": "1.2.0",
          "state": {
            "_view_name": "LayoutView",
            "grid_template_rows": null,
            "right": null,
            "justify_content": null,
            "_view_module": "@jupyter-widgets/base",
            "overflow": null,
            "_model_module_version": "1.2.0",
            "_view_count": null,
            "flex_flow": null,
            "width": null,
            "min_width": null,
            "border": null,
            "align_items": null,
            "bottom": null,
            "_model_module": "@jupyter-widgets/base",
            "top": null,
            "grid_column": null,
            "overflow_y": null,
            "overflow_x": null,
            "grid_auto_flow": null,
            "grid_area": null,
            "grid_template_columns": null,
            "flex": null,
            "_model_name": "LayoutModel",
            "justify_items": null,
            "grid_row": null,
            "max_height": null,
            "align_content": null,
            "visibility": null,
            "align_self": null,
            "height": null,
            "min_height": null,
            "padding": null,
            "grid_auto_rows": null,
            "grid_gap": null,
            "max_width": null,
            "order": null,
            "_view_module_version": "1.2.0",
            "grid_template_areas": null,
            "object_position": null,
            "object_fit": null,
            "grid_auto_columns": null,
            "margin": null,
            "display": null,
            "left": null
          }
        },
        "3d325a70952e4800855ae43de16fc187": {
          "model_module": "@jupyter-widgets/controls",
          "model_name": "HBoxModel",
          "model_module_version": "1.5.0",
          "state": {
            "_view_name": "HBoxView",
            "_dom_classes": [],
            "_model_name": "HBoxModel",
            "_view_module": "@jupyter-widgets/controls",
            "_model_module_version": "1.5.0",
            "_view_count": null,
            "_view_module_version": "1.5.0",
            "box_style": "",
            "layout": "IPY_MODEL_c6b97f07448a4403bba54d2e8136a41a",
            "_model_module": "@jupyter-widgets/controls",
            "children": [
              "IPY_MODEL_06396d27b7cd49c88b11d85be331cffe",
              "IPY_MODEL_dcf0573018a04f56a89472e994a5165c",
              "IPY_MODEL_bcfd12251c8a41a9bb55b0348ed727d6"
            ]
          }
        },
        "c6b97f07448a4403bba54d2e8136a41a": {
          "model_module": "@jupyter-widgets/base",
          "model_name": "LayoutModel",
          "model_module_version": "1.2.0",
          "state": {
            "_view_name": "LayoutView",
            "grid_template_rows": null,
            "right": null,
            "justify_content": null,
            "_view_module": "@jupyter-widgets/base",
            "overflow": null,
            "_model_module_version": "1.2.0",
            "_view_count": null,
            "flex_flow": null,
            "width": null,
            "min_width": null,
            "border": null,
            "align_items": null,
            "bottom": null,
            "_model_module": "@jupyter-widgets/base",
            "top": null,
            "grid_column": null,
            "overflow_y": null,
            "overflow_x": null,
            "grid_auto_flow": null,
            "grid_area": null,
            "grid_template_columns": null,
            "flex": null,
            "_model_name": "LayoutModel",
            "justify_items": null,
            "grid_row": null,
            "max_height": null,
            "align_content": null,
            "visibility": null,
            "align_self": null,
            "height": null,
            "min_height": null,
            "padding": null,
            "grid_auto_rows": null,
            "grid_gap": null,
            "max_width": null,
            "order": null,
            "_view_module_version": "1.2.0",
            "grid_template_areas": null,
            "object_position": null,
            "object_fit": null,
            "grid_auto_columns": null,
            "margin": null,
            "display": null,
            "left": null
          }
        },
        "06396d27b7cd49c88b11d85be331cffe": {
          "model_module": "@jupyter-widgets/controls",
          "model_name": "HTMLModel",
          "model_module_version": "1.5.0",
          "state": {
            "_view_name": "HTMLView",
            "style": "IPY_MODEL_7426a6195f76498bba23dee90d663418",
            "_dom_classes": [],
            "description": "",
            "_model_name": "HTMLModel",
            "placeholder": "​",
            "_view_module": "@jupyter-widgets/controls",
            "_model_module_version": "1.5.0",
            "value": "",
            "_view_count": null,
            "_view_module_version": "1.5.0",
            "description_tooltip": null,
            "_model_module": "@jupyter-widgets/controls",
            "layout": "IPY_MODEL_e4cb112f44574bc8a9f38ca722cb7dc7"
          }
        },
        "dcf0573018a04f56a89472e994a5165c": {
          "model_module": "@jupyter-widgets/controls",
          "model_name": "FloatProgressModel",
          "model_module_version": "1.5.0",
          "state": {
            "_view_name": "ProgressView",
            "style": "IPY_MODEL_a8100758eba9447ba0c7aa581c9ee9f5",
            "_dom_classes": [],
            "description": "",
            "_model_name": "FloatProgressModel",
            "bar_style": "success",
            "max": 29515,
            "_view_module": "@jupyter-widgets/controls",
            "_model_module_version": "1.5.0",
            "value": 29515,
            "_view_count": null,
            "_view_module_version": "1.5.0",
            "orientation": "horizontal",
            "min": 0,
            "description_tooltip": null,
            "_model_module": "@jupyter-widgets/controls",
            "layout": "IPY_MODEL_e72cbcfc85294113ab9c5029fc8feb03"
          }
        },
        "bcfd12251c8a41a9bb55b0348ed727d6": {
          "model_module": "@jupyter-widgets/controls",
          "model_name": "HTMLModel",
          "model_module_version": "1.5.0",
          "state": {
            "_view_name": "HTMLView",
            "style": "IPY_MODEL_488778d7a96a444dbddc6518b508f5b8",
            "_dom_classes": [],
            "description": "",
            "_model_name": "HTMLModel",
            "placeholder": "​",
            "_view_module": "@jupyter-widgets/controls",
            "_model_module_version": "1.5.0",
            "value": " 29696/? [00:00&lt;00:00, 125033.20it/s]",
            "_view_count": null,
            "_view_module_version": "1.5.0",
            "description_tooltip": null,
            "_model_module": "@jupyter-widgets/controls",
            "layout": "IPY_MODEL_5e387e01a83e4fc99a96529eae563ef5"
          }
        },
        "7426a6195f76498bba23dee90d663418": {
          "model_module": "@jupyter-widgets/controls",
          "model_name": "DescriptionStyleModel",
          "model_module_version": "1.5.0",
          "state": {
            "_view_name": "StyleView",
            "_model_name": "DescriptionStyleModel",
            "description_width": "",
            "_view_module": "@jupyter-widgets/base",
            "_model_module_version": "1.5.0",
            "_view_count": null,
            "_view_module_version": "1.2.0",
            "_model_module": "@jupyter-widgets/controls"
          }
        },
        "e4cb112f44574bc8a9f38ca722cb7dc7": {
          "model_module": "@jupyter-widgets/base",
          "model_name": "LayoutModel",
          "model_module_version": "1.2.0",
          "state": {
            "_view_name": "LayoutView",
            "grid_template_rows": null,
            "right": null,
            "justify_content": null,
            "_view_module": "@jupyter-widgets/base",
            "overflow": null,
            "_model_module_version": "1.2.0",
            "_view_count": null,
            "flex_flow": null,
            "width": null,
            "min_width": null,
            "border": null,
            "align_items": null,
            "bottom": null,
            "_model_module": "@jupyter-widgets/base",
            "top": null,
            "grid_column": null,
            "overflow_y": null,
            "overflow_x": null,
            "grid_auto_flow": null,
            "grid_area": null,
            "grid_template_columns": null,
            "flex": null,
            "_model_name": "LayoutModel",
            "justify_items": null,
            "grid_row": null,
            "max_height": null,
            "align_content": null,
            "visibility": null,
            "align_self": null,
            "height": null,
            "min_height": null,
            "padding": null,
            "grid_auto_rows": null,
            "grid_gap": null,
            "max_width": null,
            "order": null,
            "_view_module_version": "1.2.0",
            "grid_template_areas": null,
            "object_position": null,
            "object_fit": null,
            "grid_auto_columns": null,
            "margin": null,
            "display": null,
            "left": null
          }
        },
        "a8100758eba9447ba0c7aa581c9ee9f5": {
          "model_module": "@jupyter-widgets/controls",
          "model_name": "ProgressStyleModel",
          "model_module_version": "1.5.0",
          "state": {
            "_view_name": "StyleView",
            "_model_name": "ProgressStyleModel",
            "description_width": "",
            "_view_module": "@jupyter-widgets/base",
            "_model_module_version": "1.5.0",
            "_view_count": null,
            "_view_module_version": "1.2.0",
            "bar_color": null,
            "_model_module": "@jupyter-widgets/controls"
          }
        },
        "e72cbcfc85294113ab9c5029fc8feb03": {
          "model_module": "@jupyter-widgets/base",
          "model_name": "LayoutModel",
          "model_module_version": "1.2.0",
          "state": {
            "_view_name": "LayoutView",
            "grid_template_rows": null,
            "right": null,
            "justify_content": null,
            "_view_module": "@jupyter-widgets/base",
            "overflow": null,
            "_model_module_version": "1.2.0",
            "_view_count": null,
            "flex_flow": null,
            "width": null,
            "min_width": null,
            "border": null,
            "align_items": null,
            "bottom": null,
            "_model_module": "@jupyter-widgets/base",
            "top": null,
            "grid_column": null,
            "overflow_y": null,
            "overflow_x": null,
            "grid_auto_flow": null,
            "grid_area": null,
            "grid_template_columns": null,
            "flex": null,
            "_model_name": "LayoutModel",
            "justify_items": null,
            "grid_row": null,
            "max_height": null,
            "align_content": null,
            "visibility": null,
            "align_self": null,
            "height": null,
            "min_height": null,
            "padding": null,
            "grid_auto_rows": null,
            "grid_gap": null,
            "max_width": null,
            "order": null,
            "_view_module_version": "1.2.0",
            "grid_template_areas": null,
            "object_position": null,
            "object_fit": null,
            "grid_auto_columns": null,
            "margin": null,
            "display": null,
            "left": null
          }
        },
        "488778d7a96a444dbddc6518b508f5b8": {
          "model_module": "@jupyter-widgets/controls",
          "model_name": "DescriptionStyleModel",
          "model_module_version": "1.5.0",
          "state": {
            "_view_name": "StyleView",
            "_model_name": "DescriptionStyleModel",
            "description_width": "",
            "_view_module": "@jupyter-widgets/base",
            "_model_module_version": "1.5.0",
            "_view_count": null,
            "_view_module_version": "1.2.0",
            "_model_module": "@jupyter-widgets/controls"
          }
        },
        "5e387e01a83e4fc99a96529eae563ef5": {
          "model_module": "@jupyter-widgets/base",
          "model_name": "LayoutModel",
          "model_module_version": "1.2.0",
          "state": {
            "_view_name": "LayoutView",
            "grid_template_rows": null,
            "right": null,
            "justify_content": null,
            "_view_module": "@jupyter-widgets/base",
            "overflow": null,
            "_model_module_version": "1.2.0",
            "_view_count": null,
            "flex_flow": null,
            "width": null,
            "min_width": null,
            "border": null,
            "align_items": null,
            "bottom": null,
            "_model_module": "@jupyter-widgets/base",
            "top": null,
            "grid_column": null,
            "overflow_y": null,
            "overflow_x": null,
            "grid_auto_flow": null,
            "grid_area": null,
            "grid_template_columns": null,
            "flex": null,
            "_model_name": "LayoutModel",
            "justify_items": null,
            "grid_row": null,
            "max_height": null,
            "align_content": null,
            "visibility": null,
            "align_self": null,
            "height": null,
            "min_height": null,
            "padding": null,
            "grid_auto_rows": null,
            "grid_gap": null,
            "max_width": null,
            "order": null,
            "_view_module_version": "1.2.0",
            "grid_template_areas": null,
            "object_position": null,
            "object_fit": null,
            "grid_auto_columns": null,
            "margin": null,
            "display": null,
            "left": null
          }
        },
        "3ad1a8937df94088bd41465a06757e06": {
          "model_module": "@jupyter-widgets/controls",
          "model_name": "HBoxModel",
          "model_module_version": "1.5.0",
          "state": {
            "_view_name": "HBoxView",
            "_dom_classes": [],
            "_model_name": "HBoxModel",
            "_view_module": "@jupyter-widgets/controls",
            "_model_module_version": "1.5.0",
            "_view_count": null,
            "_view_module_version": "1.5.0",
            "box_style": "",
            "layout": "IPY_MODEL_00db3d4cd5b94487a8728b706b4fdd6b",
            "_model_module": "@jupyter-widgets/controls",
            "children": [
              "IPY_MODEL_1293271bf1af47fd9a9beff59f01fd32",
              "IPY_MODEL_201a74e4930f4999bb2ccd29390e0328",
              "IPY_MODEL_bef6e4cef0124dc6b7080d1dee30e50a"
            ]
          }
        },
        "00db3d4cd5b94487a8728b706b4fdd6b": {
          "model_module": "@jupyter-widgets/base",
          "model_name": "LayoutModel",
          "model_module_version": "1.2.0",
          "state": {
            "_view_name": "LayoutView",
            "grid_template_rows": null,
            "right": null,
            "justify_content": null,
            "_view_module": "@jupyter-widgets/base",
            "overflow": null,
            "_model_module_version": "1.2.0",
            "_view_count": null,
            "flex_flow": null,
            "width": null,
            "min_width": null,
            "border": null,
            "align_items": null,
            "bottom": null,
            "_model_module": "@jupyter-widgets/base",
            "top": null,
            "grid_column": null,
            "overflow_y": null,
            "overflow_x": null,
            "grid_auto_flow": null,
            "grid_area": null,
            "grid_template_columns": null,
            "flex": null,
            "_model_name": "LayoutModel",
            "justify_items": null,
            "grid_row": null,
            "max_height": null,
            "align_content": null,
            "visibility": null,
            "align_self": null,
            "height": null,
            "min_height": null,
            "padding": null,
            "grid_auto_rows": null,
            "grid_gap": null,
            "max_width": null,
            "order": null,
            "_view_module_version": "1.2.0",
            "grid_template_areas": null,
            "object_position": null,
            "object_fit": null,
            "grid_auto_columns": null,
            "margin": null,
            "display": null,
            "left": null
          }
        },
        "1293271bf1af47fd9a9beff59f01fd32": {
          "model_module": "@jupyter-widgets/controls",
          "model_name": "HTMLModel",
          "model_module_version": "1.5.0",
          "state": {
            "_view_name": "HTMLView",
            "style": "IPY_MODEL_9ad725eea9d542b19d9fd0fe89cf7b61",
            "_dom_classes": [],
            "description": "",
            "_model_name": "HTMLModel",
            "placeholder": "​",
            "_view_module": "@jupyter-widgets/controls",
            "_model_module_version": "1.5.0",
            "value": "",
            "_view_count": null,
            "_view_module_version": "1.5.0",
            "description_tooltip": null,
            "_model_module": "@jupyter-widgets/controls",
            "layout": "IPY_MODEL_7bc11c630e944a018680fc44a5df5316"
          }
        },
        "201a74e4930f4999bb2ccd29390e0328": {
          "model_module": "@jupyter-widgets/controls",
          "model_name": "FloatProgressModel",
          "model_module_version": "1.5.0",
          "state": {
            "_view_name": "ProgressView",
            "style": "IPY_MODEL_8acee5318a074b1990b8e1b6a0b2040e",
            "_dom_classes": [],
            "description": "",
            "_model_name": "FloatProgressModel",
            "bar_style": "success",
            "max": 4422102,
            "_view_module": "@jupyter-widgets/controls",
            "_model_module_version": "1.5.0",
            "value": 4422102,
            "_view_count": null,
            "_view_module_version": "1.5.0",
            "orientation": "horizontal",
            "min": 0,
            "description_tooltip": null,
            "_model_module": "@jupyter-widgets/controls",
            "layout": "IPY_MODEL_2e05bb354cd34f10832d45927fbb4350"
          }
        },
        "bef6e4cef0124dc6b7080d1dee30e50a": {
          "model_module": "@jupyter-widgets/controls",
          "model_name": "HTMLModel",
          "model_module_version": "1.5.0",
          "state": {
            "_view_name": "HTMLView",
            "style": "IPY_MODEL_23da795c33274274b7b2ae7fa9da5168",
            "_dom_classes": [],
            "description": "",
            "_model_name": "HTMLModel",
            "placeholder": "​",
            "_view_module": "@jupyter-widgets/controls",
            "_model_module_version": "1.5.0",
            "value": " 4422656/? [00:00&lt;00:00, 7303254.87it/s]",
            "_view_count": null,
            "_view_module_version": "1.5.0",
            "description_tooltip": null,
            "_model_module": "@jupyter-widgets/controls",
            "layout": "IPY_MODEL_1c1c3d71aaa34836a4096a7d2c5e029a"
          }
        },
        "9ad725eea9d542b19d9fd0fe89cf7b61": {
          "model_module": "@jupyter-widgets/controls",
          "model_name": "DescriptionStyleModel",
          "model_module_version": "1.5.0",
          "state": {
            "_view_name": "StyleView",
            "_model_name": "DescriptionStyleModel",
            "description_width": "",
            "_view_module": "@jupyter-widgets/base",
            "_model_module_version": "1.5.0",
            "_view_count": null,
            "_view_module_version": "1.2.0",
            "_model_module": "@jupyter-widgets/controls"
          }
        },
        "7bc11c630e944a018680fc44a5df5316": {
          "model_module": "@jupyter-widgets/base",
          "model_name": "LayoutModel",
          "model_module_version": "1.2.0",
          "state": {
            "_view_name": "LayoutView",
            "grid_template_rows": null,
            "right": null,
            "justify_content": null,
            "_view_module": "@jupyter-widgets/base",
            "overflow": null,
            "_model_module_version": "1.2.0",
            "_view_count": null,
            "flex_flow": null,
            "width": null,
            "min_width": null,
            "border": null,
            "align_items": null,
            "bottom": null,
            "_model_module": "@jupyter-widgets/base",
            "top": null,
            "grid_column": null,
            "overflow_y": null,
            "overflow_x": null,
            "grid_auto_flow": null,
            "grid_area": null,
            "grid_template_columns": null,
            "flex": null,
            "_model_name": "LayoutModel",
            "justify_items": null,
            "grid_row": null,
            "max_height": null,
            "align_content": null,
            "visibility": null,
            "align_self": null,
            "height": null,
            "min_height": null,
            "padding": null,
            "grid_auto_rows": null,
            "grid_gap": null,
            "max_width": null,
            "order": null,
            "_view_module_version": "1.2.0",
            "grid_template_areas": null,
            "object_position": null,
            "object_fit": null,
            "grid_auto_columns": null,
            "margin": null,
            "display": null,
            "left": null
          }
        },
        "8acee5318a074b1990b8e1b6a0b2040e": {
          "model_module": "@jupyter-widgets/controls",
          "model_name": "ProgressStyleModel",
          "model_module_version": "1.5.0",
          "state": {
            "_view_name": "StyleView",
            "_model_name": "ProgressStyleModel",
            "description_width": "",
            "_view_module": "@jupyter-widgets/base",
            "_model_module_version": "1.5.0",
            "_view_count": null,
            "_view_module_version": "1.2.0",
            "bar_color": null,
            "_model_module": "@jupyter-widgets/controls"
          }
        },
        "2e05bb354cd34f10832d45927fbb4350": {
          "model_module": "@jupyter-widgets/base",
          "model_name": "LayoutModel",
          "model_module_version": "1.2.0",
          "state": {
            "_view_name": "LayoutView",
            "grid_template_rows": null,
            "right": null,
            "justify_content": null,
            "_view_module": "@jupyter-widgets/base",
            "overflow": null,
            "_model_module_version": "1.2.0",
            "_view_count": null,
            "flex_flow": null,
            "width": null,
            "min_width": null,
            "border": null,
            "align_items": null,
            "bottom": null,
            "_model_module": "@jupyter-widgets/base",
            "top": null,
            "grid_column": null,
            "overflow_y": null,
            "overflow_x": null,
            "grid_auto_flow": null,
            "grid_area": null,
            "grid_template_columns": null,
            "flex": null,
            "_model_name": "LayoutModel",
            "justify_items": null,
            "grid_row": null,
            "max_height": null,
            "align_content": null,
            "visibility": null,
            "align_self": null,
            "height": null,
            "min_height": null,
            "padding": null,
            "grid_auto_rows": null,
            "grid_gap": null,
            "max_width": null,
            "order": null,
            "_view_module_version": "1.2.0",
            "grid_template_areas": null,
            "object_position": null,
            "object_fit": null,
            "grid_auto_columns": null,
            "margin": null,
            "display": null,
            "left": null
          }
        },
        "23da795c33274274b7b2ae7fa9da5168": {
          "model_module": "@jupyter-widgets/controls",
          "model_name": "DescriptionStyleModel",
          "model_module_version": "1.5.0",
          "state": {
            "_view_name": "StyleView",
            "_model_name": "DescriptionStyleModel",
            "description_width": "",
            "_view_module": "@jupyter-widgets/base",
            "_model_module_version": "1.5.0",
            "_view_count": null,
            "_view_module_version": "1.2.0",
            "_model_module": "@jupyter-widgets/controls"
          }
        },
        "1c1c3d71aaa34836a4096a7d2c5e029a": {
          "model_module": "@jupyter-widgets/base",
          "model_name": "LayoutModel",
          "model_module_version": "1.2.0",
          "state": {
            "_view_name": "LayoutView",
            "grid_template_rows": null,
            "right": null,
            "justify_content": null,
            "_view_module": "@jupyter-widgets/base",
            "overflow": null,
            "_model_module_version": "1.2.0",
            "_view_count": null,
            "flex_flow": null,
            "width": null,
            "min_width": null,
            "border": null,
            "align_items": null,
            "bottom": null,
            "_model_module": "@jupyter-widgets/base",
            "top": null,
            "grid_column": null,
            "overflow_y": null,
            "overflow_x": null,
            "grid_auto_flow": null,
            "grid_area": null,
            "grid_template_columns": null,
            "flex": null,
            "_model_name": "LayoutModel",
            "justify_items": null,
            "grid_row": null,
            "max_height": null,
            "align_content": null,
            "visibility": null,
            "align_self": null,
            "height": null,
            "min_height": null,
            "padding": null,
            "grid_auto_rows": null,
            "grid_gap": null,
            "max_width": null,
            "order": null,
            "_view_module_version": "1.2.0",
            "grid_template_areas": null,
            "object_position": null,
            "object_fit": null,
            "grid_auto_columns": null,
            "margin": null,
            "display": null,
            "left": null
          }
        },
        "86838c6acf4645f7b94651ba4c573788": {
          "model_module": "@jupyter-widgets/controls",
          "model_name": "HBoxModel",
          "model_module_version": "1.5.0",
          "state": {
            "_view_name": "HBoxView",
            "_dom_classes": [],
            "_model_name": "HBoxModel",
            "_view_module": "@jupyter-widgets/controls",
            "_model_module_version": "1.5.0",
            "_view_count": null,
            "_view_module_version": "1.5.0",
            "box_style": "",
            "layout": "IPY_MODEL_dbe7c6b6353d46c9bc9fb4f269fdcaf4",
            "_model_module": "@jupyter-widgets/controls",
            "children": [
              "IPY_MODEL_96ec2b508f62436793f95c7274c3447d",
              "IPY_MODEL_87d1c0f4dd8b4523b0ed42bfc253b973",
              "IPY_MODEL_1646107cc210483da304f814edc6f295"
            ]
          }
        },
        "dbe7c6b6353d46c9bc9fb4f269fdcaf4": {
          "model_module": "@jupyter-widgets/base",
          "model_name": "LayoutModel",
          "model_module_version": "1.2.0",
          "state": {
            "_view_name": "LayoutView",
            "grid_template_rows": null,
            "right": null,
            "justify_content": null,
            "_view_module": "@jupyter-widgets/base",
            "overflow": null,
            "_model_module_version": "1.2.0",
            "_view_count": null,
            "flex_flow": null,
            "width": null,
            "min_width": null,
            "border": null,
            "align_items": null,
            "bottom": null,
            "_model_module": "@jupyter-widgets/base",
            "top": null,
            "grid_column": null,
            "overflow_y": null,
            "overflow_x": null,
            "grid_auto_flow": null,
            "grid_area": null,
            "grid_template_columns": null,
            "flex": null,
            "_model_name": "LayoutModel",
            "justify_items": null,
            "grid_row": null,
            "max_height": null,
            "align_content": null,
            "visibility": null,
            "align_self": null,
            "height": null,
            "min_height": null,
            "padding": null,
            "grid_auto_rows": null,
            "grid_gap": null,
            "max_width": null,
            "order": null,
            "_view_module_version": "1.2.0",
            "grid_template_areas": null,
            "object_position": null,
            "object_fit": null,
            "grid_auto_columns": null,
            "margin": null,
            "display": null,
            "left": null
          }
        },
        "96ec2b508f62436793f95c7274c3447d": {
          "model_module": "@jupyter-widgets/controls",
          "model_name": "HTMLModel",
          "model_module_version": "1.5.0",
          "state": {
            "_view_name": "HTMLView",
            "style": "IPY_MODEL_800c5d6d2eab4ed5bf412afc85fdac0b",
            "_dom_classes": [],
            "description": "",
            "_model_name": "HTMLModel",
            "placeholder": "​",
            "_view_module": "@jupyter-widgets/controls",
            "_model_module_version": "1.5.0",
            "value": "",
            "_view_count": null,
            "_view_module_version": "1.5.0",
            "description_tooltip": null,
            "_model_module": "@jupyter-widgets/controls",
            "layout": "IPY_MODEL_5181f1e57e5342f89a24ea7467ba3559"
          }
        },
        "87d1c0f4dd8b4523b0ed42bfc253b973": {
          "model_module": "@jupyter-widgets/controls",
          "model_name": "FloatProgressModel",
          "model_module_version": "1.5.0",
          "state": {
            "_view_name": "ProgressView",
            "style": "IPY_MODEL_36955e0e92ba412bbff44a073752a993",
            "_dom_classes": [],
            "description": "",
            "_model_name": "FloatProgressModel",
            "bar_style": "success",
            "max": 5148,
            "_view_module": "@jupyter-widgets/controls",
            "_model_module_version": "1.5.0",
            "value": 5148,
            "_view_count": null,
            "_view_module_version": "1.5.0",
            "orientation": "horizontal",
            "min": 0,
            "description_tooltip": null,
            "_model_module": "@jupyter-widgets/controls",
            "layout": "IPY_MODEL_ac0dab12939c4567a03f3dcfb881a960"
          }
        },
        "1646107cc210483da304f814edc6f295": {
          "model_module": "@jupyter-widgets/controls",
          "model_name": "HTMLModel",
          "model_module_version": "1.5.0",
          "state": {
            "_view_name": "HTMLView",
            "style": "IPY_MODEL_0b18594c53f64dcbbc3229516f7f5f7d",
            "_dom_classes": [],
            "description": "",
            "_model_name": "HTMLModel",
            "placeholder": "​",
            "_view_module": "@jupyter-widgets/controls",
            "_model_module_version": "1.5.0",
            "value": " 6144/? [00:00&lt;00:00, 166670.79it/s]",
            "_view_count": null,
            "_view_module_version": "1.5.0",
            "description_tooltip": null,
            "_model_module": "@jupyter-widgets/controls",
            "layout": "IPY_MODEL_246c633d199d4a0c952e379302a2d701"
          }
        },
        "800c5d6d2eab4ed5bf412afc85fdac0b": {
          "model_module": "@jupyter-widgets/controls",
          "model_name": "DescriptionStyleModel",
          "model_module_version": "1.5.0",
          "state": {
            "_view_name": "StyleView",
            "_model_name": "DescriptionStyleModel",
            "description_width": "",
            "_view_module": "@jupyter-widgets/base",
            "_model_module_version": "1.5.0",
            "_view_count": null,
            "_view_module_version": "1.2.0",
            "_model_module": "@jupyter-widgets/controls"
          }
        },
        "5181f1e57e5342f89a24ea7467ba3559": {
          "model_module": "@jupyter-widgets/base",
          "model_name": "LayoutModel",
          "model_module_version": "1.2.0",
          "state": {
            "_view_name": "LayoutView",
            "grid_template_rows": null,
            "right": null,
            "justify_content": null,
            "_view_module": "@jupyter-widgets/base",
            "overflow": null,
            "_model_module_version": "1.2.0",
            "_view_count": null,
            "flex_flow": null,
            "width": null,
            "min_width": null,
            "border": null,
            "align_items": null,
            "bottom": null,
            "_model_module": "@jupyter-widgets/base",
            "top": null,
            "grid_column": null,
            "overflow_y": null,
            "overflow_x": null,
            "grid_auto_flow": null,
            "grid_area": null,
            "grid_template_columns": null,
            "flex": null,
            "_model_name": "LayoutModel",
            "justify_items": null,
            "grid_row": null,
            "max_height": null,
            "align_content": null,
            "visibility": null,
            "align_self": null,
            "height": null,
            "min_height": null,
            "padding": null,
            "grid_auto_rows": null,
            "grid_gap": null,
            "max_width": null,
            "order": null,
            "_view_module_version": "1.2.0",
            "grid_template_areas": null,
            "object_position": null,
            "object_fit": null,
            "grid_auto_columns": null,
            "margin": null,
            "display": null,
            "left": null
          }
        },
        "36955e0e92ba412bbff44a073752a993": {
          "model_module": "@jupyter-widgets/controls",
          "model_name": "ProgressStyleModel",
          "model_module_version": "1.5.0",
          "state": {
            "_view_name": "StyleView",
            "_model_name": "ProgressStyleModel",
            "description_width": "",
            "_view_module": "@jupyter-widgets/base",
            "_model_module_version": "1.5.0",
            "_view_count": null,
            "_view_module_version": "1.2.0",
            "bar_color": null,
            "_model_module": "@jupyter-widgets/controls"
          }
        },
        "ac0dab12939c4567a03f3dcfb881a960": {
          "model_module": "@jupyter-widgets/base",
          "model_name": "LayoutModel",
          "model_module_version": "1.2.0",
          "state": {
            "_view_name": "LayoutView",
            "grid_template_rows": null,
            "right": null,
            "justify_content": null,
            "_view_module": "@jupyter-widgets/base",
            "overflow": null,
            "_model_module_version": "1.2.0",
            "_view_count": null,
            "flex_flow": null,
            "width": null,
            "min_width": null,
            "border": null,
            "align_items": null,
            "bottom": null,
            "_model_module": "@jupyter-widgets/base",
            "top": null,
            "grid_column": null,
            "overflow_y": null,
            "overflow_x": null,
            "grid_auto_flow": null,
            "grid_area": null,
            "grid_template_columns": null,
            "flex": null,
            "_model_name": "LayoutModel",
            "justify_items": null,
            "grid_row": null,
            "max_height": null,
            "align_content": null,
            "visibility": null,
            "align_self": null,
            "height": null,
            "min_height": null,
            "padding": null,
            "grid_auto_rows": null,
            "grid_gap": null,
            "max_width": null,
            "order": null,
            "_view_module_version": "1.2.0",
            "grid_template_areas": null,
            "object_position": null,
            "object_fit": null,
            "grid_auto_columns": null,
            "margin": null,
            "display": null,
            "left": null
          }
        },
        "0b18594c53f64dcbbc3229516f7f5f7d": {
          "model_module": "@jupyter-widgets/controls",
          "model_name": "DescriptionStyleModel",
          "model_module_version": "1.5.0",
          "state": {
            "_view_name": "StyleView",
            "_model_name": "DescriptionStyleModel",
            "description_width": "",
            "_view_module": "@jupyter-widgets/base",
            "_model_module_version": "1.5.0",
            "_view_count": null,
            "_view_module_version": "1.2.0",
            "_model_module": "@jupyter-widgets/controls"
          }
        },
        "246c633d199d4a0c952e379302a2d701": {
          "model_module": "@jupyter-widgets/base",
          "model_name": "LayoutModel",
          "model_module_version": "1.2.0",
          "state": {
            "_view_name": "LayoutView",
            "grid_template_rows": null,
            "right": null,
            "justify_content": null,
            "_view_module": "@jupyter-widgets/base",
            "overflow": null,
            "_model_module_version": "1.2.0",
            "_view_count": null,
            "flex_flow": null,
            "width": null,
            "min_width": null,
            "border": null,
            "align_items": null,
            "bottom": null,
            "_model_module": "@jupyter-widgets/base",
            "top": null,
            "grid_column": null,
            "overflow_y": null,
            "overflow_x": null,
            "grid_auto_flow": null,
            "grid_area": null,
            "grid_template_columns": null,
            "flex": null,
            "_model_name": "LayoutModel",
            "justify_items": null,
            "grid_row": null,
            "max_height": null,
            "align_content": null,
            "visibility": null,
            "align_self": null,
            "height": null,
            "min_height": null,
            "padding": null,
            "grid_auto_rows": null,
            "grid_gap": null,
            "max_width": null,
            "order": null,
            "_view_module_version": "1.2.0",
            "grid_template_areas": null,
            "object_position": null,
            "object_fit": null,
            "grid_auto_columns": null,
            "margin": null,
            "display": null,
            "left": null
          }
        }
      }
    }
  },
  "nbformat": 4,
  "nbformat_minor": 0
}