{
  "cells": [
    {
      "cell_type": "markdown",
      "metadata": {
        "id": "fdlFvgdi3xWi"
      },
      "source": [
        "## Lab 2"
      ]
    },
    {
      "cell_type": "markdown",
      "metadata": {
        "id": "Ds463HOU3xWl"
      },
      "source": [
        "### Part 3. Poetry generation\n",
        "\n",
        "Let's try to generate some poetry using RNNs. \n",
        "\n",
        "You have several choices here: \n",
        "\n",
        "* The Shakespeare sonnets, file `sonnets.txt` available in the notebook directory.\n",
        "\n",
        "* Роман в стихах \"Евгений Онегин\" Александра Сергеевича Пушкина. В предобработанном виде доступен по [ссылке](https://github.com/attatrol/data_sources/blob/master/onegin.txt).\n",
        "\n",
        "* Some other text source, if it will be approved by the course staff.\n",
        "\n",
        "Text generation can be designed in several steps:\n",
        "    \n",
        "1. Data loading.\n",
        "2. Dictionary generation.\n",
        "3. Data preprocessing.\n",
        "4. Model (neural network) training.\n",
        "5. Text generation (model evaluation).\n"
      ]
    },
    {
      "cell_type": "code",
      "execution_count": 1,
      "metadata": {
        "id": "VkfHx48q3xWm"
      },
      "outputs": [],
      "source": [
        "import string\n",
        "import os"
      ]
    },
    {
      "cell_type": "code",
      "source": [
        "import numpy as np\n",
        "import matplotlib.pyplot as plt\n",
        "%matplotlib inline"
      ],
      "metadata": {
        "id": "hV2TJOcf7k70"
      },
      "execution_count": 2,
      "outputs": []
    },
    {
      "cell_type": "markdown",
      "metadata": {
        "id": "TWyXhaaa3xWm"
      },
      "source": [
        "### Data loading: Shakespeare"
      ]
    },
    {
      "cell_type": "markdown",
      "metadata": {
        "id": "xryUNCZx3xWn"
      },
      "source": [
        "Shakespeare sonnets are awailable at this [link](http://www.gutenberg.org/ebooks/1041?msg=welcome_stranger). In addition, they are stored in the same directory as this notebook (`sonnetes.txt`). Simple preprocessing is already done for you in the next cell: all technical info is dropped."
      ]
    },
    {
      "cell_type": "code",
      "execution_count": 24,
      "metadata": {
        "collapsed": true,
        "id": "cTzjiuDl3xWn"
      },
      "outputs": [],
      "source": [
        "if not os.path.exists('sonnets.txt'):\n",
        "    !wget https://raw.githubusercontent.com/girafe-ai/ml-mipt/master/homeworks_basic/Lab2_DL/sonnets.txt\n",
        "\n",
        "with open('sonnets.txt', 'r') as iofile:\n",
        "    text = iofile.readlines()\n",
        "    \n",
        "TEXT_START = 45\n",
        "TEXT_END = -368\n",
        "text = text[TEXT_START : TEXT_END]\n",
        "assert len(text) == 2616"
      ]
    },
    {
      "cell_type": "code",
      "source": [
        "print(text[1])"
      ],
      "metadata": {
        "colab": {
          "base_uri": "https://localhost:8080/"
        },
        "id": "jSs6MvSX48-M",
        "outputId": "50133028-dde2-4210-8bfb-bedbb6654f69"
      },
      "execution_count": 4,
      "outputs": [
        {
          "output_type": "stream",
          "name": "stdout",
          "text": [
            "  That thereby beauty's rose might never die,\n",
            "\n"
          ]
        }
      ]
    },
    {
      "cell_type": "markdown",
      "source": [
        "Preprocessing of lines: lowercase + remove lines with roman numerals and other extra symbols"
      ],
      "metadata": {
        "id": "esr_dVdVPukI"
      }
    },
    {
      "cell_type": "code",
      "source": [
        "lines = text\n",
        "lines = [el.lower() for el in lines]\n",
        "min_len = 20\n",
        "max_len = 60\n",
        "lines = [line for line in lines if len(line) > min_len and len(line) < max_len] #filter lines\n",
        "\n",
        "lines = [line.strip() + '\\n' for line in lines]\n",
        "print(lines[1])"
      ],
      "metadata": {
        "id": "9LSzsV2r5VfR",
        "colab": {
          "base_uri": "https://localhost:8080/"
        },
        "outputId": "20b3764a-b354-461e-831c-9365514ffb16"
      },
      "execution_count": 25,
      "outputs": [
        {
          "output_type": "stream",
          "name": "stdout",
          "text": [
            "that thereby beauty's rose might never die,\n",
            "\n"
          ]
        }
      ]
    },
    {
      "cell_type": "code",
      "source": [
        "MAX_LENGTH = max(map(len, lines))\n",
        "print(\"max length =\", MAX_LENGTH)\n",
        "\n",
        "plt.title('Lines length distribution')\n",
        "plt.hist(list(map(len, lines)),bins=25);"
      ],
      "metadata": {
        "colab": {
          "base_uri": "https://localhost:8080/",
          "height": 299
        },
        "id": "W1Hbfvtb7LwP",
        "outputId": "265c3bff-61f0-40ab-dfb5-50c981a36c22"
      },
      "execution_count": null,
      "outputs": [
        {
          "output_type": "stream",
          "name": "stdout",
          "text": [
            "max length = 56\n"
          ]
        },
        {
          "output_type": "display_data",
          "data": {
            "image/png": "[encoded data removed]",
            "text/plain": [
              "<Figure size 432x288 with 1 Axes>"
            ]
          },
          "metadata": {
            "needs_background": "light"
          }
        }
      ]
    },
    {
      "cell_type": "markdown",
      "metadata": {
        "id": "jnivZBij3xWn"
      },
      "source": [
        "In opposite to the in-class practice, this time we want to predict complex text. Let's reduce the complexity of the task and lowercase all the symbols.\n",
        "\n",
        "Now variable `text` is a list of strings. Join all the strings into one and lowercase it."
      ]
    },
    {
      "cell_type": "code",
      "execution_count": 11,
      "metadata": {
        "colab": {
          "base_uri": "https://localhost:8080/"
        },
        "id": "NzjWcvg43xWo",
        "outputId": "ea2a0b69-5228-410f-e763-ba47a6170e88"
      },
      "outputs": [
        {
          "output_type": "stream",
          "name": "stdout",
          "text": [
            "OK!\n"
          ]
        }
      ],
      "source": [
        "# Join all the strings into one and lowercase it\n",
        "# Put result into variable text.\n",
        "# Your great code here\n",
        "text_as_string = ''.join(text)\n",
        "text = text_as_string.lower()\n",
        "\n",
        "assert len(text) == 100225, 'Are you sure you have concatenated all the strings?'\n",
        "assert not any([x in set(text) for x in string.ascii_uppercase]), 'Uppercase letters are present'\n",
        "print('OK!')"
      ]
    },
    {
      "cell_type": "markdown",
      "metadata": {
        "id": "_tI9h4ZC3xWo"
      },
      "source": [
        "### Data loading: \"Евгений Онегин\"\n"
      ]
    },
    {
      "cell_type": "code",
      "execution_count": null,
      "metadata": {
        "colab": {
          "base_uri": "https://localhost:8080/"
        },
        "id": "cE5Qj-pH3xWp",
        "outputId": "ca3ba031-15e1-4a21-8b9a-c22f586f4480"
      },
      "outputs": [
        {
          "output_type": "stream",
          "name": "stdout",
          "text": [
            "--2021-12-14 21:54:20--  https://raw.githubusercontent.com/attatrol/data_sources/master/onegin.txt\n",
            "Resolving raw.githubusercontent.com (raw.githubusercontent.com)... 185.199.108.133, 185.199.109.133, 185.199.110.133, ...\n",
            "Connecting to raw.githubusercontent.com (raw.githubusercontent.com)|185.199.108.133|:443... connected.\n",
            "HTTP request sent, awaiting response... 200 OK\n",
            "Length: 262521 (256K) [text/plain]\n",
            "Saving to: ‘onegin.txt’\n",
            "\n",
            "onegin.txt          100%[===================>] 256.37K  --.-KB/s    in 0.02s   \n",
            "\n",
            "2021-12-14 21:54:20 (11.7 MB/s) - ‘onegin.txt’ saved [262521/262521]\n",
            "\n"
          ]
        }
      ],
      "source": [
        "!wget https://raw.githubusercontent.com/attatrol/data_sources/master/onegin.txt\n",
        "    \n",
        "with open('onegin.txt', 'r') as iofile:\n",
        "    text = iofile.readlines()\n",
        "    \n",
        "text = [x.replace('\\t\\t', '') for x in text]"
      ]
    },
    {
      "cell_type": "markdown",
      "metadata": {
        "id": "ryIq5Utd3xWp"
      },
      "source": [
        "In opposite to the in-class practice, this time we want to predict complex text. Let's reduce the complexity of the task and lowercase all the symbols.\n",
        "\n",
        "Now variable `text` is a list of strings. Join all the strings into one and lowercase it."
      ]
    },
    {
      "cell_type": "code",
      "execution_count": null,
      "metadata": {
        "id": "_ZAQ8rbz3xWq"
      },
      "outputs": [],
      "source": [
        "# Join all the strings into one and lowercase it\n",
        "# Put result into variable text.\n",
        "\n",
        "# Your great code here\n"
      ]
    },
    {
      "cell_type": "markdown",
      "metadata": {
        "id": "zuZQBuBM3xWq"
      },
      "source": [
        "Put all the characters, that you've seen in the text, into variable `tokens`."
      ]
    },
    {
      "cell_type": "code",
      "execution_count": 12,
      "metadata": {
        "id": "9Hu8fEZO3xWq"
      },
      "outputs": [],
      "source": [
        "tokens = sorted(set(text))\n",
        "num_tokens = len(tokens)"
      ]
    },
    {
      "cell_type": "markdown",
      "metadata": {
        "id": "ROpDM52e3xWr"
      },
      "source": [
        "Create dictionary `token_to_idx = {<char>: <index>}` and dictionary `idx_to_token = {<index>: <char>}`"
      ]
    },
    {
      "cell_type": "code",
      "execution_count": 13,
      "metadata": {
        "collapsed": true,
        "colab": {
          "base_uri": "https://localhost:8080/"
        },
        "id": "7bZ4Gmzq3xWr",
        "outputId": "fe4cc6bb-9407-435c-da8d-fb8d182d10a2"
      },
      "outputs": [
        {
          "output_type": "stream",
          "name": "stdout",
          "text": [
            "{'\\n': 0, ' ': 1, '!': 2, \"'\": 3, '(': 4, ')': 5, ',': 6, '-': 7, '.': 8, ':': 9, ';': 10, '?': 11, 'a': 12, 'b': 13, 'c': 14, 'd': 15, 'e': 16, 'f': 17, 'g': 18, 'h': 19, 'i': 20, 'j': 21, 'k': 22, 'l': 23, 'm': 24, 'n': 25, 'o': 26, 'p': 27, 'q': 28, 'r': 29, 's': 30, 't': 31, 'u': 32, 'v': 33, 'w': 34, 'x': 35, 'y': 36, 'z': 37}\n",
            "{0: '\\n', 1: ' ', 2: '!', 3: \"'\", 4: '(', 5: ')', 6: ',', 7: '-', 8: '.', 9: ':', 10: ';', 11: '?', 12: 'a', 13: 'b', 14: 'c', 15: 'd', 16: 'e', 17: 'f', 18: 'g', 19: 'h', 20: 'i', 21: 'j', 22: 'k', 23: 'l', 24: 'm', 25: 'n', 26: 'o', 27: 'p', 28: 'q', 29: 'r', 30: 's', 31: 't', 32: 'u', 33: 'v', 34: 'w', 35: 'x', 36: 'y', 37: 'z'}\n"
          ]
        }
      ],
      "source": [
        "# dict <index>:<char>\n",
        "# Your great code here\n",
        "indices = np.arange(38)\n",
        "token_to_idx = dict(zip(tokens, indices))\n",
        "print(token_to_idx)\n",
        "# dict <char>:<index>\n",
        "# Your great code here\n",
        "idx_to_token = dict(zip(indices, tokens))\n",
        "print(idx_to_token)"
      ]
    },
    {
      "cell_type": "markdown",
      "metadata": {
        "id": "lmKgDqt03xWr"
      },
      "source": [
        "*Comment: in this task we have only 38 different tokens, so let's use one-hot encoding.*"
      ]
    },
    {
      "cell_type": "code",
      "source": [
        "def to_matrix(lines, max_len=None, pad=token_to_idx[' '], dtype='int64', batch_first = True):\n",
        "    \n",
        "    max_len = (max_len or max(map(len, lines))) + 1\n",
        "    lines_ix = np.zeros([len(lines), max_len], dtype) + pad\n",
        "\n",
        "    for i in range(len(lines)):\n",
        "        line_ix = [token_to_idx[c] for c in lines[i]]\n",
        "        lines_ix[i, :len(line_ix)] = line_ix\n",
        "        \n",
        "    #if not batch_first: # convert [batch, time] into [time, batch]\n",
        "        #names_ix = np.transpose(names_ix)\n",
        "\n",
        "    return lines_ix"
      ],
      "metadata": {
        "id": "XgD8sZgk912z"
      },
      "execution_count": 41,
      "outputs": []
    },
    {
      "cell_type": "code",
      "source": [
        "#for one-hot-encoding version\n",
        "def to_matrix(batch_letters, num_tokens = 38, pad=token_to_idx[' '], dtype='int32', batch_first = True):\n",
        "    \"\"\"Casts a list of chars into rnn-digestable matrix\"\"\"\n",
        "    \n",
        "    batch_len = len(batch_letters)\n",
        "    char_batch = np.zeros([batch_len, num_tokens], dtype) # + pad?\n",
        "\n",
        "    for i in range(batch_len):\n",
        "        line_idx = token_to_idx[batch_letters[i]]\n",
        "\n",
        "        char_batch[i, line_idx] = 1.0\n",
        "        \n",
        "    if not batch_first: # convert [batch, time] into [time, batch]\n",
        "        char_batch = np.transpose(char_batch)\n",
        "\n",
        "    return char_batch"
      ],
      "metadata": {
        "id": "iiUMk9fcCW3U"
      },
      "execution_count": null,
      "outputs": []
    },
    {
      "cell_type": "code",
      "source": [
        "#for one-hot-encoding version\n",
        "print(to_matrix(\"lisa\", batch_first=\"True\"))"
      ],
      "metadata": {
        "colab": {
          "base_uri": "https://localhost:8080/"
        },
        "id": "N66d0GwIKiPd",
        "outputId": "d5154991-e101-4ae6-f975-4e6e32d4b255"
      },
      "execution_count": null,
      "outputs": [
        {
          "output_type": "stream",
          "name": "stdout",
          "text": [
            "[[0 0 0 0 0 0 0 0 0 0 0 0 0 0 0 0 0 0 0 0 0 0 0 1 0 0 0 0 0 0 0 0 0 0 0 0\n",
            "  0 0]\n",
            " [0 0 0 0 0 0 0 0 0 0 0 0 0 0 0 0 0 0 0 0 1 0 0 0 0 0 0 0 0 0 0 0 0 0 0 0\n",
            "  0 0]\n",
            " [0 0 0 0 0 0 0 0 0 0 0 0 0 0 0 0 0 0 0 0 0 0 0 0 0 0 0 0 0 0 1 0 0 0 0 0\n",
            "  0 0]\n",
            " [0 0 0 0 0 0 0 0 0 0 0 0 1 0 0 0 0 0 0 0 0 0 0 0 0 0 0 0 0 0 0 0 0 0 0 0\n",
            "  0 0]]\n"
          ]
        }
      ]
    },
    {
      "cell_type": "markdown",
      "metadata": {
        "id": "bkde87fO3xWr"
      },
      "source": [
        "### Building the model"
      ]
    },
    {
      "cell_type": "markdown",
      "metadata": {
        "id": "xry0hvzr3xWr"
      },
      "source": [
        "Now we want to build and train recurrent neural net which would be able to something similar to Shakespeare's poetry.\n",
        "\n",
        "Let's use vanilla RNN, similar to the one created during the lesson."
      ]
    },
    {
      "cell_type": "markdown",
      "source": [
        "I will use pytorch implementation both for vanilla RNN and LSTM to compare this models fairly "
      ],
      "metadata": {
        "id": "oPxI3VjbXDsL"
      }
    },
    {
      "cell_type": "code",
      "source": [
        "import torch, torch.nn as nn\n",
        "import torch.nn.functional as F"
      ],
      "metadata": {
        "id": "H7s3HYThANrS"
      },
      "execution_count": 15,
      "outputs": []
    },
    {
      "cell_type": "markdown",
      "source": [
        "I tried to replace nn.Embedding by one-hot-representation of symbols but generation became muuuuuch worse so I don't use it in my model"
      ],
      "metadata": {
        "id": "5Cp8aU3iUJwP"
      }
    },
    {
      "cell_type": "code",
      "source": [
        "class CharRNNLoop(nn.Module):\n",
        "    def __init__(self, num_tokens=num_tokens, emb_size=24, rnn_num_units=64):\n",
        "        super(self.__class__, self).__init__()\n",
        "        self.emb = nn.Embedding(num_tokens, emb_size)\n",
        "        self.rnn = nn.RNN(emb_size, rnn_num_units, batch_first=True, num_layers=1)\n",
        "        self.hid_to_logits = nn.Linear(rnn_num_units, num_tokens)\n",
        "        \n",
        "    def forward(self, x, h_state):\n",
        "        #print(x.data)\n",
        "        assert isinstance(x.data, torch.LongTensor)\n",
        "        h_seq, h_state = self.rnn(self.emb(x), h_state)\n",
        "        logits = self.hid_to_logits(h_seq)\n",
        "        next_logp = F.log_softmax(logits, dim=-1)\n",
        "        return next_logp, h_state "
      ],
      "metadata": {
        "id": "w54E0CxOxW2J"
      },
      "execution_count": 42,
      "outputs": []
    },
    {
      "cell_type": "code",
      "source": [
        "model = CharRNNLoop()\n",
        "criterion = nn.NLLLoss()\n",
        "opt = torch.optim.Adam(model.parameters())"
      ],
      "metadata": {
        "id": "0Z5mVIJJ-52I"
      },
      "execution_count": 98,
      "outputs": []
    },
    {
      "cell_type": "code",
      "source": [
        "from random import sample\n",
        "from IPython.display import clear_output"
      ],
      "metadata": {
        "id": "qTNHrLMe_RRA"
      },
      "execution_count": 35,
      "outputs": []
    },
    {
      "cell_type": "markdown",
      "source": [
        "Training loop"
      ],
      "metadata": {
        "id": "CzhGE-TkXuqp"
      }
    },
    {
      "cell_type": "code",
      "source": [
        "def plot_loss(hist):\n",
        "    clear_output(True)\n",
        "    plt.plot(hist, label='loss')\n",
        "    plt.xlabel('loss')\n",
        "    plt.ylabel('iter')\n",
        "    plt.show()"
      ],
      "metadata": {
        "id": "y_5w6P0navCU"
      },
      "execution_count": 44,
      "outputs": []
    },
    {
      "cell_type": "code",
      "source": [
        "hist = []\n",
        "max_len = 56\n",
        "n_iter = 3000\n",
        "batch_len = 30\n",
        "\n",
        "for i in range(n_iter):\n",
        "    batch_ix = to_matrix(sample(lines, batch_len), max_len)\n",
        "    batch_ix = torch.tensor(batch_ix, dtype=torch.int64)\n",
        "\n",
        "    #initial hidden state: zero tensor shape=(1, batch_len, default rnn_num_units)\n",
        "    h_state = torch.zeros(1, batch_len, 64)\n",
        "    logp_seq = model(batch_ix, h_state)[0]\n",
        "    \n",
        "    loss = criterion(logp_seq[:, :-1].contiguous().view(-1, num_tokens),\n",
        "                 batch_ix[:, 1:].contiguous().view(-1))\n",
        "    \n",
        "    loss.backward()\n",
        "    opt.step()\n",
        "    opt.zero_grad()\n",
        "    \n",
        "    hist.append(loss.data.numpy())\n",
        "    if (i + 1) % (n_iter * 0.1) == 0:\n",
        "        plot_loss(hist)\n",
        "\n",
        "#assert np.mean(history[:10]) > np.mean(history[-10:]), \"RNN didn't converge."
      ],
      "metadata": {
        "colab": {
          "base_uri": "https://localhost:8080/",
          "height": 279
        },
        "id": "k8GQ-iyi_Lwn",
        "outputId": "854563eb-35fc-4a4f-a5f1-be007f7bec8a"
      },
      "execution_count": 99,
      "outputs": [
        {
          "output_type": "display_data",
          "data": {
            "image/png": "[encoded data removed]",
            "text/plain": [
              "<Figure size 432x288 with 1 Axes>"
            ]
          },
          "metadata": {
            "needs_background": "light"
          }
        }
      ]
    },
    {
      "cell_type": "code",
      "source": [
        "print(np.mean(hist[2800:3000]))"
      ],
      "metadata": {
        "colab": {
          "base_uri": "https://localhost:8080/"
        },
        "id": "Mn08KV2ZyD0U",
        "outputId": "e25995bc-5b06-4e6a-d272-88cb9148106e"
      },
      "execution_count": 100,
      "outputs": [
        {
          "output_type": "stream",
          "name": "stdout",
          "text": [
            "1.2825229\n"
          ]
        }
      ]
    },
    {
      "cell_type": "code",
      "source": [
        "def generate_sample(char_rnn, seed_phrase='shall', max_length=56, temperature=1.0):\n",
        "    '''\n",
        "    ### Disclaimer: this is an example function for text generation.\n",
        "    ### You can either adapt it in your code or create your own function\n",
        "    \n",
        "    The function generates text given a phrase of length at least SEQ_LENGTH.\n",
        "    :param seed_phrase: prefix characters. The RNN is asked to continue the phrase\n",
        "    :param max_length: maximum output length, including seed_phrase\n",
        "    :param temperature: coefficient for sampling.  higher temperature produces more chaotic outputs, \n",
        "        smaller temperature converges to the single most likely output.\n",
        "        \n",
        "    Be careful with the model output. This model waits logits (not probabilities/log-probabilities)\n",
        "    of the next symbol.\n",
        "    '''\n",
        "    x_sequence = [token_to_idx[token] for token in seed_phrase]\n",
        "    x_sequence = torch.tensor([x_sequence], dtype=torch.int64)\n",
        "    \n",
        "    #initial hidden state: zero tensor shape=(1, batch_len, default rnn_num_units)\n",
        "    h_state = torch.zeros(1, 1, 64)\n",
        "    if len(seed_phrase) > 1:\n",
        "        _, h_state = char_rnn(x_sequence[:, :-1], h_state)\n",
        "    #start generating\n",
        "    for cur_id in range(max_length - len(seed_phrase)):\n",
        "        log, h_state = char_rnn(x_sequence[:, -1].view(1, 1), h_state)\n",
        "        p_next = F.softmax(log[:, -1]/ temperature, dim=-1).data.numpy()[0]\n",
        "        #print(p_next)\n",
        "        # sample next token and push it back into x_sequence\n",
        "        next_ix = np.random.choice(num_tokens,p=p_next)\n",
        "        next_ix = torch.tensor([[next_ix]], dtype=torch.int64)\n",
        "        x_sequence = torch.cat([x_sequence, next_ix], dim=1)\n",
        "        #print(cur_id, ''.join([tokens[ix] for ix in x_sequence.data.numpy()[0]]))\n",
        "        \n",
        "    return ''.join([tokens[ix] for ix in x_sequence.data.numpy()[0]])"
      ],
      "metadata": {
        "id": "AAkLLxHrAHxj"
      },
      "execution_count": 104,
      "outputs": []
    },
    {
      "cell_type": "markdown",
      "source": [
        "Romantic samples"
      ],
      "metadata": {
        "id": "e505RkP5gdkF"
      }
    },
    {
      "cell_type": "code",
      "source": [
        "for item in [\"love\", \"hope\", \"who\", \"pain\"]:\n",
        "    print(generate_sample(model, seed_phrase=item, temperature=0.5, max_length = 50))\n"
      ],
      "metadata": {
        "colab": {
          "base_uri": "https://localhost:8080/"
        },
        "id": "PcfVBeyhAHrF",
        "outputId": "897db5fc-a579-4a1f-dbf5-b2051ba86887"
      },
      "execution_count": null,
      "outputs": [
        {
          "output_type": "stream",
          "name": "stdout",
          "text": [
            "love heand thee my me leath to uncuar his filt my \n",
            "hope thou bost the me the by hear with of say the \n",
            "whon gave thin the will,\n",
            "                         \n",
            "pain shath proms the sould deares andent fait the \n"
          ]
        }
      ]
    },
    {
      "cell_type": "markdown",
      "source": [
        "Examples with different temperature parameters"
      ],
      "metadata": {
        "id": "Op67CCfggyMU"
      }
    },
    {
      "cell_type": "code",
      "source": [
        "generate_sample(model, seed_phrase=\"i \", temperature=0.5, max_length = 20)"
      ],
      "metadata": {
        "colab": {
          "base_uri": "https://localhost:8080/",
          "height": 1000
        },
        "id": "6l1n7NnNEpfz",
        "outputId": "550e1f5a-5a86-4c13-b352-1ae41e833398"
      },
      "execution_count": null,
      "outputs": [
        {
          "output_type": "stream",
          "name": "stdout",
          "text": [
            "[1.88378699e-08 1.05618592e-03 3.67795110e-07 5.63411413e-05\n",
            " 3.35934089e-08 2.68804801e-09 4.08919323e-06 3.07839940e-07\n",
            " 7.10523054e-08 6.75918628e-08 4.80705253e-08 2.18393943e-08\n",
            " 1.49400700e-02 1.30307138e-01 1.39702186e-02 4.48487550e-02\n",
            " 1.31549942e-03 1.01686165e-01 2.08789464e-02 5.11515662e-02\n",
            " 7.33350962e-03 6.36335346e-04 1.67545117e-03 2.57077999e-02\n",
            " 7.36390501e-02 1.83861889e-02 2.16379715e-03 6.42808378e-02\n",
            " 9.76252195e-05 4.39411541e-03 2.31237292e-01 1.33606955e-01\n",
            " 1.93507833e-04 9.53483221e-04 5.35878055e-02 3.51846445e-08\n",
            " 1.89027668e-03 3.31784840e-08]\n",
            "0 i t\n",
            "[5.8356942e-10 5.5046448e-06 3.7880072e-09 1.1918044e-08 1.2671154e-10\n",
            " 5.3336228e-11 1.0095848e-07 1.9708002e-09 1.7569328e-09 3.4408523e-09\n",
            " 4.5745954e-10 8.9097668e-10 3.8722463e-04 4.6879163e-09 7.1299617e-08\n",
            " 2.6479300e-11 1.0035062e-03 5.7169036e-08 8.5732776e-10 9.6384490e-01\n",
            " 1.0963907e-03 5.7143388e-09 3.4501532e-08 9.7250686e-06 1.2924805e-08\n",
            " 2.9343730e-07 3.0623943e-02 1.6094640e-07 5.9304459e-09 2.7752840e-03\n",
            " 3.5186896e-09 1.7640440e-06 5.8927530e-05 4.9070126e-09 1.9178253e-04\n",
            " 1.8031165e-10 3.0304201e-07 4.8314083e-12]\n",
            "1 i th\n",
            "[1.78827815e-08 1.11700274e-05 8.19443902e-10 2.19500969e-08\n",
            " 1.21457511e-10 8.75222811e-11 2.47757974e-08 1.63743330e-08\n",
            " 3.24333804e-09 1.68412739e-09 5.67896219e-09 4.25490171e-10\n",
            " 7.68231452e-02 6.76354039e-09 5.45522084e-07 6.87946500e-09\n",
            " 7.43634939e-01 1.58979574e-09 5.02753533e-11 2.27768282e-06\n",
            " 6.19229972e-02 1.42026533e-08 5.80428039e-10 3.78702384e-06\n",
            " 5.84573058e-07 1.21826542e-06 6.06741793e-02 6.62979982e-09\n",
            " 7.08131864e-09 4.69414081e-04 5.11663032e-08 4.64328053e-07\n",
            " 3.75261297e-03 4.41534365e-10 1.12901795e-07 2.23291563e-09\n",
            " 5.27024269e-02 6.79460377e-11]\n",
            "2 i the\n",
            "[1.09004850e-05 7.46971786e-01 5.30036139e-08 3.31578417e-06\n",
            " 1.31417918e-10 6.84116597e-10 1.28565764e-04 3.29516951e-07\n",
            " 1.08419545e-06 2.75387890e-07 6.86774285e-07 1.96356027e-07\n",
            " 9.47642315e-04 1.78002647e-05 4.81849493e-05 7.90999422e-07\n",
            " 1.98063299e-01 1.22327165e-05 4.04160801e-06 6.36335835e-06\n",
            " 5.63846808e-03 1.84739068e-08 6.64249029e-08 1.25393237e-03\n",
            " 6.41401066e-03 1.38526848e-02 1.99964634e-04 1.98466023e-06\n",
            " 2.62142805e-08 7.38346018e-03 8.63933377e-03 3.02354383e-05\n",
            " 1.38722171e-04 6.35467700e-07 4.14449933e-05 2.66461370e-07\n",
            " 1.01871975e-02 1.98858641e-09]\n",
            "3 i thee\n",
            "[5.21237489e-05 9.60796773e-01 1.86585876e-05 1.56833106e-04\n",
            " 6.46723022e-11 5.24050303e-10 3.46078537e-02 2.00518098e-05\n",
            " 4.05760802e-04 1.40261545e-04 1.52805660e-04 2.74543745e-05\n",
            " 3.70693101e-06 2.12283226e-06 1.87174101e-06 1.14365685e-05\n",
            " 5.61196066e-04 2.19756407e-06 1.28602214e-05 2.96219383e-07\n",
            " 5.42620546e-06 4.60638603e-08 4.02683717e-08 1.63608865e-06\n",
            " 5.93424875e-06 7.94949228e-05 3.41663792e-07 5.49201604e-06\n",
            " 2.64737512e-08 1.20320665e-05 2.86563090e-03 9.24274173e-06\n",
            " 1.44878584e-07 1.63184075e-06 1.76626043e-06 1.27242814e-07\n",
            " 3.66758759e-05 3.22354698e-10]\n",
            "4 i thee \n",
            "[4.46997888e-08 1.22001165e-05 2.26561223e-08 6.08122718e-05\n",
            " 1.25137607e-08 6.95632330e-10 8.73258955e-07 8.62267427e-07\n",
            " 1.98708278e-07 4.64779433e-08 2.18214623e-07 2.09688391e-08\n",
            " 7.16496259e-02 4.57477383e-02 8.90091620e-03 1.44747263e-02\n",
            " 8.55541788e-03 2.04769392e-02 3.97586823e-03 3.03645395e-02\n",
            " 7.67838433e-02 6.85854538e-05 4.14732553e-04 1.75214540e-02\n",
            " 5.07216007e-02 1.29315648e-02 3.12717892e-02 1.15555217e-02\n",
            " 3.26923873e-05 2.85280985e-03 8.79166052e-02 4.32830483e-01\n",
            " 7.76839326e-04 4.16164403e-04 6.21519238e-02 2.56342894e-08\n",
            " 7.53202848e-03 2.14198565e-07]\n",
            "5 i thee t\n",
            "[9.7456300e-11 1.1952641e-06 1.0378230e-09 5.3486026e-08 1.5379505e-10\n",
            " 6.4021746e-11 3.8197481e-08 6.6177630e-10 1.0250378e-09 2.1921238e-09\n",
            " 3.2441194e-10 6.7579214e-10 1.5712162e-03 2.1854454e-08 5.2552429e-07\n",
            " 3.1094191e-10 3.4804759e-03 9.5004232e-08 6.7911877e-08 9.4343489e-01\n",
            " 6.2424769e-03 2.7463736e-09 4.8221972e-07 3.1440435e-05 2.1427827e-08\n",
            " 2.7488593e-06 4.3828860e-02 7.3874912e-07 2.0394385e-08 1.1867635e-03\n",
            " 1.1936668e-08 1.2839678e-05 6.9780668e-05 1.4955011e-08 1.3154904e-04\n",
            " 2.7426728e-09 3.7202101e-06 4.0180106e-11]\n",
            "6 i thee th\n",
            "[8.19628532e-10 2.77949255e-07 2.85202806e-10 1.18753904e-08\n",
            " 1.42870785e-11 1.19768249e-11 1.31638016e-08 2.25381425e-09\n",
            " 1.77937731e-09 1.32490097e-09 2.67281797e-09 2.02418138e-10\n",
            " 7.97853917e-02 1.63868896e-09 3.87454335e-08 5.99726580e-09\n",
            " 7.92618334e-01 1.05106179e-09 3.01969248e-11 1.42378633e-06\n",
            " 2.76480578e-02 3.11479642e-09 9.54373594e-11 2.88165143e-06\n",
            " 1.67186425e-08 4.87794750e-07 6.52611181e-02 8.82621476e-10\n",
            " 8.05821687e-10 2.69800425e-04 2.08803161e-08 5.92013066e-07\n",
            " 3.50894843e-04 8.41841929e-10 3.88222965e-08 4.36839342e-10\n",
            " 3.40606309e-02 8.77464074e-12]\n",
            "7 i thee the\n",
            "[3.10315991e-05 9.06952024e-01 5.22776489e-08 2.47415960e-06\n",
            " 1.13199131e-10 3.99234618e-10 8.05314630e-05 3.76755338e-07\n",
            " 5.40388896e-07 1.76729429e-07 3.66865805e-07 1.04905624e-07\n",
            " 3.82495607e-04 2.97637393e-06 1.24247608e-05 5.49331070e-08\n",
            " 6.90566450e-02 5.05911612e-06 4.63881264e-07 5.50993809e-06\n",
            " 2.95245275e-03 6.74382861e-09 1.47575472e-08 4.62498894e-04\n",
            " 1.03778474e-03 4.50735120e-03 1.35229420e-04 7.32770445e-07\n",
            " 5.16735987e-09 5.08751022e-03 4.76635341e-03 3.73706862e-05\n",
            " 1.27435918e-03 2.08172239e-07 1.16029238e-04 9.60451771e-08\n",
            " 3.08870617e-03 4.76775286e-10]\n",
            "8 i thee the \n",
            "[1.35076931e-07 3.32104857e-04 1.04704370e-07 8.86981725e-05\n",
            " 1.68219714e-08 1.63511205e-09 9.84225881e-06 1.16843660e-06\n",
            " 5.02578587e-07 1.51976252e-07 3.35362159e-07 1.14835906e-07\n",
            " 4.84821461e-02 8.26366395e-02 1.27025843e-02 2.85965875e-02\n",
            " 1.19138265e-03 3.92723382e-02 8.61360505e-03 4.21619900e-02\n",
            " 3.25699784e-02 7.40684118e-05 3.75592703e-04 9.29259788e-03\n",
            " 4.35307138e-02 7.97793735e-03 1.01504484e-02 3.11466027e-02\n",
            " 4.26003244e-05 7.80006917e-03 3.70255053e-01 9.12583396e-02\n",
            " 2.69923883e-04 6.80610072e-04 1.16992116e-01 8.35523153e-08\n",
            " 1.34926597e-02 1.19871189e-07]\n",
            "9 i thee the s\n",
            "[1.0702289e-08 8.6531123e-05 1.1805888e-08 1.3997842e-05 1.5648787e-09\n",
            " 2.9026406e-10 6.1203505e-06 1.9872853e-07 1.4239703e-07 3.2072654e-07\n",
            " 2.4022579e-08 2.0163938e-08 5.9791546e-02 3.0944117e-05 4.1412681e-04\n",
            " 4.4605144e-07 3.2843983e-01 5.2088726e-06 3.6232374e-05 2.7020526e-01\n",
            " 4.0431570e-02 5.7611373e-07 1.7582228e-05 5.3053821e-04 6.0080802e-05\n",
            " 2.8882519e-04 1.4903343e-01 1.4886260e-02 3.2056832e-06 4.6890392e-04\n",
            " 6.7976340e-05 9.2699260e-02 2.5023621e-02 5.4697095e-05 1.7206177e-02\n",
            " 1.9728293e-06 1.9436797e-04 1.4536558e-09]\n",
            "10 i thee the so\n",
            "[1.59777002e-03 5.11031210e-01 1.17851159e-04 2.04190419e-05\n",
            " 6.87393751e-08 5.92630034e-09 2.15782886e-04 1.62125885e-04\n",
            " 1.20190625e-05 1.75007710e-06 2.81345365e-05 1.12308908e-06\n",
            " 5.40534274e-05 2.45495266e-06 3.04901361e-04 4.09847300e-04\n",
            " 2.72562937e-03 6.20825585e-06 7.28090163e-05 7.41526591e-08\n",
            " 2.84830428e-04 2.72930083e-06 4.00317140e-06 7.67663168e-03\n",
            " 1.33694895e-02 3.06498278e-02 3.42729711e-03 1.39367212e-05\n",
            " 2.07515086e-06 7.75014376e-03 6.03032950e-03 5.32298756e-04\n",
            " 4.12674576e-01 2.78973632e-04 3.71212693e-04 1.48157114e-05\n",
            " 1.51128319e-04 1.45901822e-06]\n",
            "11 i thee the so \n",
            "[2.74863101e-08 2.60208999e-05 9.64483604e-08 4.76671266e-05\n",
            " 2.78199650e-08 2.46596410e-09 2.13470776e-06 6.43210740e-07\n",
            " 3.66705791e-07 9.29888984e-08 2.39239796e-07 3.98623463e-08\n",
            " 7.23186582e-02 1.54240221e-01 1.24465367e-02 4.35855798e-02\n",
            " 4.56660986e-03 1.09541066e-01 2.81943157e-02 2.81154420e-02\n",
            " 1.24589000e-02 2.47781398e-04 3.25580314e-03 7.72939101e-02\n",
            " 1.29628807e-01 1.42322900e-02 5.08732861e-03 3.82366702e-02\n",
            " 1.40557968e-04 6.56087184e-03 1.13633007e-01 1.05730295e-01\n",
            " 1.41592158e-04 1.47977006e-03 3.81323025e-02 1.23282177e-07\n",
            " 6.53905561e-04 3.20465659e-07]\n",
            "12 i thee the so m\n",
            "[2.6637886e-10 1.5889138e-06 2.2173399e-10 2.6920368e-06 1.0159697e-11\n",
            " 1.3669880e-11 1.1590707e-07 3.8813250e-09 2.9853979e-09 1.5033587e-09\n",
            " 2.0638229e-09 1.0126585e-09 1.0312442e-01 2.2100166e-06 2.5093939e-07\n",
            " 1.0247676e-09 3.0574900e-01 7.6546648e-08 9.7954811e-10 1.3439117e-06\n",
            " 1.0107370e-01 1.2614290e-08 2.4258571e-09 4.1461946e-05 4.4234130e-06\n",
            " 3.9437637e-05 5.6182515e-02 1.8478813e-05 2.6900746e-09 1.3897507e-04\n",
            " 5.3969205e-07 7.5519697e-06 1.0814968e-02 5.4091839e-07 4.8199900e-06\n",
            " 5.9187659e-07 4.2279032e-01 8.2452982e-11]\n",
            "13 i thee the so ma\n",
            "[1.3260269e-08 5.0193703e-05 1.3842313e-07 4.8780857e-06 4.2162172e-09\n",
            " 6.4233341e-10 5.7066504e-06 2.3683981e-08 7.1171166e-07 9.7942014e-08\n",
            " 8.1912361e-07 6.4817385e-08 5.9841160e-04 2.8666027e-04 1.0783893e-01\n",
            " 3.8870193e-02 1.7394761e-03 2.7086434e-04 5.0723974e-02 2.8247639e-04\n",
            " 2.3209136e-02 4.4703484e-07 8.5571773e-02 5.7108491e-03 1.6680857e-03\n",
            " 5.2976710e-01 2.8682670e-03 1.0271791e-03 1.3003937e-05 1.8045126e-02\n",
            " 4.7759220e-02 3.0808467e-02 3.8985832e-05 1.9041574e-02 1.3814929e-04\n",
            " 5.5650012e-06 3.3427466e-02 2.2605527e-04]\n",
            "14 i thee the so mak\n",
            "[5.1024921e-07 3.7502463e-04 3.8271459e-08 1.1650074e-04 1.9846765e-11\n",
            " 9.3334881e-11 2.0449996e-05 2.8416332e-07 7.2288543e-07 2.8600991e-07\n",
            " 6.7986753e-07 8.7262379e-08 1.0442332e-04 1.6355636e-06 4.6496639e-06\n",
            " 4.5671445e-07 9.9467599e-01 2.2058515e-07 8.8225391e-07 5.9030808e-05\n",
            " 3.1668805e-03 5.1638175e-08 2.3369957e-05 3.8695776e-05 1.8737904e-06\n",
            " 3.6033519e-04 1.6898075e-04 2.2374188e-06 7.3799407e-09 4.2085126e-06\n",
            " 6.9876281e-05 2.5098909e-05 5.1647956e-05 1.8611509e-08 1.1136000e-07\n",
            " 1.1305725e-09 7.2463206e-04 2.3669991e-10]\n",
            "15 i thee the so make\n",
            "[1.01847341e-03 9.07227576e-01 2.39828732e-05 4.74536559e-04\n",
            " 1.19424290e-10 6.64559685e-10 5.60086295e-02 9.96366362e-06\n",
            " 2.15227669e-03 5.12072234e-04 1.91770785e-03 1.14811010e-04\n",
            " 4.48242390e-05 4.58045747e-07 1.63393543e-05 6.12667715e-03\n",
            " 3.51189556e-05 1.39441854e-05 4.12567460e-05 2.18397668e-06\n",
            " 5.24194402e-05 9.07107500e-10 2.12239911e-07 1.92581851e-04\n",
            " 8.37041807e-06 2.48701265e-03 1.97096451e-05 4.27850892e-07\n",
            " 1.15327495e-07 4.33921861e-03 1.65058002e-02 6.24531414e-04\n",
            " 6.93508241e-07 3.25132078e-06 1.85218289e-06 5.97843780e-07\n",
            " 2.22670878e-05 1.47401407e-08]\n",
            "16 i thee the so make \n",
            "[6.1880421e-08 1.2479809e-05 3.2541465e-08 7.7154153e-05 1.1576665e-08\n",
            " 7.4473017e-10 1.1643555e-06 7.6871174e-07 2.1780578e-07 5.6761706e-08\n",
            " 2.6202181e-07 2.8510131e-08 4.4420615e-02 3.2884289e-02 7.9820789e-03\n",
            " 1.6990399e-02 6.0885372e-03 1.9889047e-02 4.6807793e-03 2.6396330e-02\n",
            " 6.1456565e-02 4.9667793e-05 2.8391322e-04 1.5315404e-02 4.3661471e-02\n",
            " 1.4979546e-02 2.4234336e-02 8.9652361e-03 2.7840548e-05 2.5481668e-03\n",
            " 9.8101906e-02 5.1972342e-01 6.5914541e-04 4.9037795e-04 4.3115694e-02\n",
            " 3.4001708e-08 6.9627436e-03 2.2699250e-07]\n",
            "17 i thee the so make r\n"
          ]
        },
        {
          "output_type": "execute_result",
          "data": {
            "application/vnd.google.colaboratory.intrinsic+json": {
              "type": "string"
            },
            "text/plain": [
              "'i thee the so make r'"
            ]
          },
          "metadata": {},
          "execution_count": 56
        }
      ]
    },
    {
      "cell_type": "code",
      "source": [
        "generate_sample(model, seed_phrase=\"i \", temperature=1.0, max_length = 20)"
      ],
      "metadata": {
        "colab": {
          "base_uri": "https://localhost:8080/",
          "height": 1000
        },
        "id": "lJNzoqwUAHn5",
        "outputId": "8f3aea20-7f71-470e-a180-084ba9ca957a"
      },
      "execution_count": null,
      "outputs": [
        {
          "output_type": "stream",
          "name": "stdout",
          "text": [
            "[3.23682798e-05 9.58561711e-03 1.24097875e-04 1.98621559e-03\n",
            " 2.50852208e-05 6.71772295e-06 6.70923328e-04 1.10015520e-04\n",
            " 7.34028072e-05 5.43932183e-05 5.59086257e-05 3.17303566e-05\n",
            " 3.72452997e-02 6.73138127e-02 2.73220707e-02 4.77046780e-02\n",
            " 1.38040008e-02 5.63419014e-02 3.27850468e-02 6.98058903e-02\n",
            " 2.52948739e-02 4.40644799e-03 7.57265091e-03 4.84849699e-02\n",
            " 5.85976951e-02 3.32070999e-02 1.75375715e-02 6.61337972e-02\n",
            " 2.00720923e-03 2.88551673e-02 1.14922926e-01 1.24966629e-01\n",
            " 6.37885509e-03 5.56726335e-03 8.01919401e-02 4.36880109e-05\n",
            " 1.07091442e-02 4.29207066e-05]\n",
            "0 i p\n",
            "[1.2206257e-06 4.7567926e-05 2.0065020e-06 5.6885765e-05 1.7030766e-06\n",
            " 8.9786397e-07 1.3919187e-05 1.1152545e-05 2.4800563e-06 3.1208556e-06\n",
            " 1.7158349e-06 1.4228257e-06 1.7301150e-01 6.3165615e-04 4.2066895e-04\n",
            " 2.5878689e-05 9.8738208e-02 2.2479433e-04 1.1288669e-05 1.0336462e-02\n",
            " 7.1952634e-02 5.1504416e-05 8.9740439e-05 3.8671605e-02 4.1870595e-04\n",
            " 2.2385092e-03 1.3181992e-01 3.5936423e-03 6.9008121e-05 4.0052739e-01\n",
            " 1.7563724e-04 5.3242844e-04 5.2692283e-02 2.1594872e-04 1.4639655e-03\n",
            " 6.1646882e-05 1.1877770e-02 3.0687406e-06]\n",
            "1 i pe\n",
            "[7.1625051e-04 1.6097762e-02 2.5391288e-04 6.5885118e-04 1.3970496e-05\n",
            " 9.1121356e-06 4.1109412e-03 5.5397709e-04 1.4596662e-03 8.7480515e-04\n",
            " 1.0811584e-03 3.7845175e-04 2.6476327e-01 1.8860594e-03 8.8325292e-03\n",
            " 4.3879887e-03 1.2768927e-01 1.6543672e-03 5.7518156e-04 1.5188325e-02\n",
            " 4.1719448e-02 1.8535694e-04 3.1718926e-04 6.7765594e-02 1.0515369e-02\n",
            " 1.0540840e-01 2.5259376e-02 6.4265863e-03 9.2091173e-04 2.4883422e-01\n",
            " 2.1870192e-02 5.2658916e-03 4.4884584e-03 2.0140512e-03 4.7693257e-03\n",
            " 1.4904612e-03 1.4682777e-03 9.5010691e-05]\n",
            "2 i pea\n",
            "[1.69400853e-04 3.43712955e-03 4.98523004e-04 1.03890174e-03\n",
            " 1.61852658e-05 8.47330557e-06 2.18540616e-03 2.13848034e-04\n",
            " 3.48904490e-04 1.15658258e-04 6.44209562e-04 6.74111579e-05\n",
            " 2.34040525e-03 4.63281805e-03 9.88896471e-03 2.94376686e-02\n",
            " 1.13381315e-02 7.93044548e-03 2.15804367e-03 1.66989863e-04\n",
            " 1.23077892e-02 1.16273157e-04 1.91015750e-02 8.83575231e-02\n",
            " 1.47093199e-02 6.92526326e-02 8.10933672e-03 7.74260424e-03\n",
            " 5.42876311e-04 3.36322278e-01 7.06074461e-02 2.04741880e-01\n",
            " 4.00685221e-02 3.70489247e-02 3.93267302e-03 4.36957605e-04\n",
            " 9.35831852e-03 6.05599780e-04]\n",
            "3 i pean\n",
            "[3.9775488e-03 1.3783102e-01 1.7865330e-03 3.9848216e-02 1.0101543e-05\n",
            " 2.3843417e-05 3.1330481e-02 1.0187977e-03 7.1341479e-03 2.4674702e-03\n",
            " 7.5364267e-03 1.0379292e-03 5.8355331e-03 2.6626766e-03 1.5874276e-02\n",
            " 5.8113188e-02 1.0256504e-01 4.7287587e-03 1.4056762e-02 3.9756619e-03\n",
            " 3.2923803e-02 6.0616923e-04 7.7151591e-03 4.6702251e-03 3.9292243e-03\n",
            " 1.5242770e-02 1.5223522e-02 7.3752254e-03 4.8233633e-04 1.0925551e-03\n",
            " 1.8176769e-01 2.5513938e-01 5.2369353e-03 3.0155771e-03 1.4857706e-03\n",
            " 8.4043524e-05 2.2121014e-02 7.4206779e-05]\n",
            "4 i peane\n",
            "[2.14108247e-02 1.15242407e-01 1.40976277e-03 1.83514915e-02\n",
            " 1.03083403e-05 2.02974843e-05 6.76114634e-02 4.32686880e-03\n",
            " 1.51781328e-02 9.10519995e-03 1.76855829e-02 4.85542789e-03\n",
            " 6.13531610e-03 9.80139361e-04 7.71729276e-04 1.70442518e-02\n",
            " 1.20808259e-02 1.64819148e-03 6.14513585e-04 2.36442662e-03\n",
            " 1.44008575e-02 1.97040335e-05 1.50418418e-04 2.96479575e-02\n",
            " 2.92078150e-03 7.97901601e-02 9.76850372e-03 4.48223349e-04\n",
            " 1.56007300e-04 4.43896323e-01 7.84000978e-02 2.01448309e-03\n",
            " 1.91506790e-03 1.00805354e-03 1.00213848e-03 4.17581585e-04\n",
            " 1.71338059e-02 6.26997789e-05]\n",
            "5 i peane \n",
            "[1.13136215e-04 3.20210122e-03 8.68321149e-05 3.82233178e-03\n",
            " 4.23538404e-05 1.39951344e-05 6.09169598e-04 4.06474777e-04\n",
            " 2.19938593e-04 1.27228923e-04 2.68010452e-04 8.91128948e-05\n",
            " 5.04066087e-02 5.01570553e-02 3.04553434e-02 2.92118508e-02\n",
            " 1.88666787e-02 2.97428258e-02 1.40627874e-02 4.42111008e-02\n",
            " 7.14560747e-02 3.28532886e-03 5.04161790e-03 3.08118872e-02\n",
            " 6.63283318e-02 2.93964222e-02 3.92520726e-02 2.75756568e-02\n",
            " 1.35754142e-03 8.57744738e-03 8.44563171e-02 2.48728156e-01\n",
            " 7.91934505e-03 5.70283458e-03 6.83039725e-02 4.53046014e-05\n",
            " 2.54982319e-02 1.48455016e-04]\n",
            "6 i peane f\n",
            "[8.3909044e-06 6.3314219e-05 2.7235978e-06 1.5705955e-04 3.6762874e-06\n",
            " 2.9351261e-06 1.1739217e-05 1.9192872e-05 2.5409756e-06 2.3685018e-06\n",
            " 1.7079750e-06 1.6409543e-06 2.0011157e-01 3.1087385e-04 4.4600663e-04\n",
            " 2.4727851e-05 1.7644861e-01 1.0901495e-03 8.7485110e-05 2.7981233e-03\n",
            " 1.5505613e-01 5.4947010e-05 8.3763094e-05 4.2698018e-02 4.3212186e-04\n",
            " 2.8398302e-03 3.1972158e-01 2.8256999e-04 7.8831232e-05 7.6352067e-02\n",
            " 5.7965801e-05 5.1200448e-04 1.3295581e-02 1.4794973e-04 1.1502893e-03\n",
            " 9.2100920e-05 5.5450103e-03 4.3690811e-06]\n",
            "7 i peane fe\n",
            "[1.6204452e-03 2.7995927e-02 4.4539006e-04 7.1297720e-04 3.1163516e-05\n",
            " 3.3995850e-05 4.3962779e-03 8.0311240e-04 2.3524906e-03 1.3282429e-03\n",
            " 2.1311364e-03 1.0099922e-03 2.0776215e-01 1.2442396e-03 4.6905996e-03\n",
            " 9.2153857e-03 1.7979223e-01 3.8078376e-03 1.2207907e-03 1.4737973e-03\n",
            " 5.6245495e-02 1.5826849e-04 1.9547204e-04 2.0640934e-01 5.3374069e-03\n",
            " 8.8708721e-02 2.1559831e-02 1.5599416e-03 6.9420249e-04 1.1514503e-01\n",
            " 2.6852723e-02 1.5478360e-03 6.7296991e-04 7.3098214e-03 9.9088706e-04\n",
            " 9.4436929e-03 4.8660366e-03 2.3420902e-04]\n",
            "8 i peane fee\n",
            "[1.5547039e-03 6.5802529e-02 1.5790100e-03 2.8568998e-03 1.1669629e-05\n",
            " 2.1326416e-05 1.3118823e-02 1.4661961e-03 4.4247075e-03 1.2875202e-03\n",
            " 3.6317457e-03 4.1679983e-04 2.2798315e-02 6.7119994e-03 1.3524414e-02\n",
            " 4.4205207e-02 3.5189316e-02 1.0183219e-01 1.1953815e-03 4.8047426e-04\n",
            " 9.6648093e-03 9.1831078e-04 1.6603329e-03 1.1116198e-01 3.7509568e-02\n",
            " 1.0003764e-02 6.8658213e-03 5.6603119e-02 9.6680899e-04 2.6606932e-02\n",
            " 1.1256766e-01 2.2631168e-01 5.0302949e-03 6.2812604e-02 6.7553651e-03\n",
            " 5.4431520e-04 1.7662989e-03 1.4116133e-04]\n",
            "9 i peane feel\n",
            "[1.1119223e-01 2.8196102e-01 2.1209889e-03 4.7840711e-02 1.1955899e-05\n",
            " 4.8985119e-05 1.0012099e-01 2.3118662e-02 2.6138930e-02 1.3264977e-02\n",
            " 2.4955409e-02 5.6886384e-03 1.0530924e-02 6.0345046e-04 1.9342513e-03\n",
            " 1.1035926e-02 1.2475854e-01 2.8460913e-03 8.1186416e-04 3.8266506e-03\n",
            " 3.1227805e-02 1.3506482e-04 4.1102211e-04 2.4372958e-02 8.1200234e-04\n",
            " 1.0773429e-02 3.1624530e-02 3.9943389e-04 1.3109735e-04 2.1958716e-02\n",
            " 5.6787927e-02 1.1194198e-02 3.5926155e-03 7.2392373e-04 7.0826773e-04\n",
            " 9.3167400e-05 1.2215737e-02 2.6847389e-05]\n",
            "10 i peane feel\n",
            "\n",
            "[2.6954676e-03 9.2322022e-01 2.5085459e-04 5.9044515e-03 1.2994005e-05\n",
            " 1.7096203e-05 1.1756719e-02 2.3237891e-03 2.3728453e-03 2.0700716e-03\n",
            " 2.4704495e-03 1.4192377e-03 2.0904380e-03 5.0251966e-04 2.7716855e-04\n",
            " 9.9907746e-04 2.4617454e-03 3.5762461e-04 1.8527983e-04 1.6542878e-03\n",
            " 4.2304331e-03 7.3225841e-05 1.5792055e-05 6.3737156e-04 7.0071302e-04\n",
            " 2.0514987e-03 2.1035280e-03 9.0003625e-05 2.5324012e-05 1.5055016e-03\n",
            " 2.0119883e-02 1.1652957e-03 2.4999911e-04 1.7368444e-05 1.2614729e-03\n",
            " 5.6634235e-06 2.6994627e-03 5.2370015e-06]\n",
            "11 i peane feel\n",
            " \n",
            "[1.7354083e-04 9.9630284e-01 9.1323873e-06 5.8537171e-05 2.2962663e-06\n",
            " 1.3547867e-06 1.9252501e-04 3.0961499e-04 2.8215038e-05 1.1346065e-05\n",
            " 2.3577155e-05 8.2102533e-06 7.9784069e-05 4.3959921e-05 3.6051737e-05\n",
            " 2.4710919e-06 4.9033304e-05 2.4169406e-04 1.6660340e-05 3.3030400e-04\n",
            " 8.7388144e-05 1.7336697e-06 4.9446280e-06 7.0089496e-05 1.1922499e-04\n",
            " 2.2761228e-04 1.4783593e-04 9.6624808e-06 3.6533015e-06 5.4841093e-04\n",
            " 1.2655465e-04 7.6010423e-05 1.0766880e-04 1.5374894e-06 5.1488128e-04\n",
            " 1.0963688e-06 3.0073301e-05 2.6818574e-07]\n",
            "12 i peane feel\n",
            "  \n",
            "[5.7644929e-06 9.9969757e-01 2.5760623e-06 5.9151057e-06 3.4963364e-07\n",
            " 2.1001189e-07 2.4943907e-05 2.8906976e-05 1.9972460e-06 1.4927986e-06\n",
            " 1.7918929e-06 9.6244992e-07 3.2011342e-06 7.7260538e-06 4.9285400e-06\n",
            " 6.0413470e-07 2.4201090e-06 1.0041803e-05 1.6760760e-06 9.2735545e-06\n",
            " 4.7329281e-06 5.3039884e-07 2.4636498e-07 7.8656967e-06 1.6538963e-05\n",
            " 5.2201543e-05 6.8474051e-06 2.3211476e-06 5.0349644e-07 4.8579295e-05\n",
            " 1.6796002e-05 1.3663637e-05 3.2452313e-06 8.4123926e-08 1.1418357e-05\n",
            " 9.7949098e-08 1.9664935e-06 2.3737931e-08]\n",
            "13 i peane feel\n",
            "   \n",
            "[2.90176968e-06 9.99919891e-01 2.94306733e-06 2.00803515e-06\n",
            " 1.25112976e-07 7.48086180e-08 7.97875964e-06 1.02588720e-05\n",
            " 8.14532257e-07 7.34681464e-07 7.48548928e-07 4.19602060e-07\n",
            " 1.18947980e-06 9.85558700e-07 1.20277355e-06 7.50885533e-07\n",
            " 5.13872408e-07 1.94064410e-06 5.82036705e-07 1.53892552e-06\n",
            " 1.75336800e-06 2.27878189e-07 3.90972836e-08 7.45672594e-07\n",
            " 2.26778729e-06 1.52176190e-05 2.98232067e-06 1.64164732e-07\n",
            " 1.13360812e-07 4.46523745e-06 5.32409103e-06 5.68245696e-06\n",
            " 3.60600922e-07 1.06791065e-08 2.71874524e-06 1.17308518e-08\n",
            " 2.16148621e-07 4.32833280e-09]\n",
            "14 i peane feel\n",
            "    \n",
            "[1.8410328e-05 9.9982041e-01 2.9619823e-06 1.9018761e-06 1.5849444e-07\n",
            " 1.1336824e-07 3.0298754e-05 3.7804839e-05 3.7024533e-06 1.0331451e-06\n",
            " 3.1186378e-06 7.5171641e-07 1.3124227e-06 1.9741144e-06 2.7365736e-06\n",
            " 1.9018779e-06 1.6613093e-06 6.1110995e-06 1.2124112e-06 5.4782282e-07\n",
            " 1.2795422e-06 6.4425933e-07 6.5627518e-08 4.7511526e-06 1.6400241e-05\n",
            " 8.2488641e-06 4.4538301e-06 2.3738731e-07 2.9589629e-07 1.1321039e-05\n",
            " 4.6511104e-06 4.2460783e-06 1.1150908e-06 6.2614575e-08 3.4171958e-06\n",
            " 7.7082781e-08 6.1453204e-07 2.1152834e-08]\n",
            "15 i peane feel\n",
            "     \n",
            "[3.6402437e-06 9.9985647e-01 3.3776898e-06 6.9889848e-06 8.2996394e-08\n",
            " 9.5559606e-08 1.0976964e-05 8.0450773e-06 7.0321778e-07 3.8219360e-07\n",
            " 3.8085790e-07 2.7718946e-07 2.2539996e-06 1.3791189e-06 6.9362324e-07\n",
            " 5.4017189e-08 3.5926255e-06 1.7587219e-05 8.2916137e-07 1.3029136e-06\n",
            " 2.9827713e-06 2.8477075e-07 9.8902831e-08 2.4153376e-06 7.3421843e-06\n",
            " 1.2842530e-05 6.1365618e-06 3.3029417e-07 9.8888677e-08 2.8996175e-05\n",
            " 1.9107131e-06 3.4035061e-06 4.5558108e-06 1.3228295e-08 8.5363636e-06\n",
            " 2.3879311e-08 7.4588485e-07 2.9779150e-09]\n",
            "16 i peane feel\n",
            "      \n",
            "[4.9681485e-06 9.9990177e-01 1.7572467e-06 2.3052885e-06 1.4742066e-07\n",
            " 8.5514898e-08 1.2605770e-05 1.8004504e-05 9.9105080e-07 9.8239536e-07\n",
            " 7.4293689e-07 5.9900594e-07 7.0329259e-07 1.8265522e-06 1.6560629e-06\n",
            " 3.3050799e-07 2.7264582e-07 2.0558505e-06 4.7418268e-07 5.1892694e-06\n",
            " 1.0079063e-06 2.1652515e-07 7.7446444e-08 8.0099227e-07 3.1756631e-06\n",
            " 1.0744144e-05 1.4946206e-06 5.4786113e-07 1.3714109e-07 7.9130150e-06\n",
            " 6.4359911e-06 5.0566273e-06 5.7032196e-07 1.5648245e-08 3.8694634e-06\n",
            " 1.7004034e-08 4.6199344e-07 5.2895217e-09]\n",
            "17 i peane feel\n",
            "       \n"
          ]
        },
        {
          "output_type": "execute_result",
          "data": {
            "application/vnd.google.colaboratory.intrinsic+json": {
              "type": "string"
            },
            "text/plain": [
              "'i peane feel\\n       '"
            ]
          },
          "metadata": {},
          "execution_count": 59
        }
      ]
    },
    {
      "cell_type": "markdown",
      "source": [
        "As the temperature parameter increases, probas for diff tokens become closer (max : min for temperature=0.5 >> max:min for temperature=1.0 ) after applying softmax and model can generate more diverse samples"
      ],
      "metadata": {
        "id": "IJGYUZE3m3mC"
      }
    },
    {
      "cell_type": "code",
      "source": [
        ""
      ],
      "metadata": {
        "id": "QeeaKiziAHky"
      },
      "execution_count": null,
      "outputs": []
    },
    {
      "cell_type": "code",
      "source": [
        ""
      ],
      "metadata": {
        "id": "IrLGNTKeAHh0"
      },
      "execution_count": null,
      "outputs": []
    },
    {
      "cell_type": "markdown",
      "metadata": {
        "id": "927WiKQo3xWs"
      },
      "source": [
        "### More poetic model\n",
        "\n",
        "Let's use LSTM instead of vanilla RNN and compare the results."
      ]
    },
    {
      "cell_type": "markdown",
      "metadata": {
        "id": "JiEKcpkO3xWs"
      },
      "source": [
        "Plot the loss function of the number of epochs. Does the final loss become better?"
      ]
    },
    {
      "cell_type": "code",
      "execution_count": 110,
      "metadata": {
        "collapsed": true,
        "id": "JGRgWdBl3xWs"
      },
      "outputs": [],
      "source": [
        "# Your beautiful code here\n",
        "class LSTMLoop(nn.Module):\n",
        "    def __init__(self, num_tokens=num_tokens, emb_size=24, rnn_num_units=64):\n",
        "        super(self.__class__, self).__init__()\n",
        "        self.emb = nn.Embedding(num_tokens, emb_size)\n",
        "        self.rnn = nn.LSTM(emb_size, rnn_num_units, batch_first=True, num_layers=2)\n",
        "        self.hid_to_logits = nn.Linear(rnn_num_units, num_tokens)\n",
        "        \n",
        "    def forward(self, x, h_n, c_n):\n",
        "        #print(x.data)\n",
        "        assert isinstance(x.data, torch.LongTensor)\n",
        "        h_seq, (h_n, c_n) = self.rnn(self.emb(x), (h_n, c_n))\n",
        "        logits = self.hid_to_logits(h_seq)\n",
        "        next_logp = F.log_softmax(logits, dim=-1)\n",
        "        return next_logp, (h_n, c_n)"
      ]
    },
    {
      "cell_type": "code",
      "source": [
        "adv_model = LSTMLoop()\n",
        "criterion = nn.NLLLoss()\n",
        "opt = torch.optim.Adam(adv_model.parameters())"
      ],
      "metadata": {
        "id": "ErMlgqippzU6"
      },
      "execution_count": 111,
      "outputs": []
    },
    {
      "cell_type": "code",
      "source": [
        "hist = []\n",
        "max_len = 56\n",
        "n_iter = 3000\n",
        "batch_len = 20\n",
        "\n",
        "for i in range(n_iter):\n",
        "    batch_ix = to_matrix(sample(lines, batch_len), max_len)\n",
        "    batch_ix = torch.tensor(batch_ix, dtype=torch.int64)\n",
        "\n",
        "    #initial hidden state: zero tensor shape=(2, batch_len, default rnn_num_units)\n",
        "    h_0 = torch.zeros(2, batch_len, 64)\n",
        "    c_0 = h_0\n",
        "    logp_seq = adv_model(batch_ix, h_0, c_0)[0]\n",
        "    \n",
        "    loss = criterion(logp_seq[:, :-1].contiguous().view(-1, num_tokens),\n",
        "                 batch_ix[:, 1:].contiguous().view(-1))\n",
        "    \n",
        "    loss.backward()\n",
        "    opt.step()\n",
        "    opt.zero_grad()\n",
        "    \n",
        "    hist.append(loss.data.numpy())\n",
        "    if (i + 1) % (n_iter * 0.1) == 0:\n",
        "        plot_loss(hist)\n",
        "\n",
        "#assert np.mean(history[:10]) > np.mean(history[-10:]), \"RNN didn't converge."
      ],
      "metadata": {
        "colab": {
          "base_uri": "https://localhost:8080/",
          "height": 279
        },
        "id": "RrSu3AGNp_NT",
        "outputId": "7c7d5c85-0a6e-49da-bd36-26a8b41ad374"
      },
      "execution_count": 112,
      "outputs": [
        {
          "output_type": "display_data",
          "data": {
            "image/png": "[encoded data removed]",
            "text/plain": [
              "<Figure size 432x288 with 1 Axes>"
            ]
          },
          "metadata": {
            "needs_background": "light"
          }
        }
      ]
    },
    {
      "cell_type": "code",
      "source": [
        "print(np.mean(hist[2800:3000]))"
      ],
      "metadata": {
        "colab": {
          "base_uri": "https://localhost:8080/"
        },
        "id": "NDD5miNbxY_y",
        "outputId": "18c027c6-b6b3-4604-970b-a2fe5a00a882"
      },
      "execution_count": 113,
      "outputs": [
        {
          "output_type": "stream",
          "name": "stdout",
          "text": [
            "1.187109\n"
          ]
        }
      ]
    },
    {
      "cell_type": "markdown",
      "source": [
        "Final loss improved by 10% comparing with vanilla RNN for 3000 iterations, but I changed some other hyperparameters, for example, number of layers which causes better performance for second model"
      ],
      "metadata": {
        "id": "MbWMvrSBw-wP"
      }
    },
    {
      "cell_type": "markdown",
      "source": [
        ""
      ],
      "metadata": {
        "id": "hRcHQNO8p4jo"
      }
    },
    {
      "cell_type": "markdown",
      "metadata": {
        "id": "9wK3dsOu3xWs"
      },
      "source": [
        "Generate text using the trained net with different `temperature` parameter: `[0.1, 0.2, 0.5, 1.0, 2.0]`.\n",
        "\n",
        "Evaluate the results visually, try to interpret them."
      ]
    },
    {
      "cell_type": "code",
      "source": [
        "def generate_sample(char_rnn, seed_phrase='shall', max_length=56, temperature=1.0):\n",
        "    '''\n",
        "    ### Disclaimer: this is an example function for text generation.\n",
        "    ### You can either adapt it in your code or create your own function\n",
        "    \n",
        "    The function generates text given a phrase of length at least SEQ_LENGTH.\n",
        "    :param seed_phrase: prefix characters. The RNN is asked to continue the phrase\n",
        "    :param max_length: maximum output length, including seed_phrase\n",
        "    :param temperature: coefficient for sampling.  higher temperature produces more chaotic outputs, \n",
        "        smaller temperature converges to the single most likely output.\n",
        "        \n",
        "    Be careful with the model output. This model waits logits (not probabilities/log-probabilities)\n",
        "    of the next symbol.\n",
        "    '''\n",
        "    x_sequence = [token_to_idx[token] for token in seed_phrase]\n",
        "    x_sequence = torch.tensor([x_sequence], dtype=torch.int64)\n",
        "    \n",
        "    #initial hidden state: zero tensor shape=(1, batch_len, default rnn_num_units)\n",
        "    h_n = torch.zeros(2, 1, 64)\n",
        "    c_n = h_n\n",
        "    if len(seed_phrase) > 1:\n",
        "        _, (h_n, c_n) = char_rnn(x_sequence[:, :-1], h_n, c_n)\n",
        "    #start generating\n",
        "    for cur_id in range(max_length - len(seed_phrase)):\n",
        "        log, (h_n, c_n) = char_rnn(x_sequence[:, -1].view(1, 1), h_n, c_n)\n",
        "        p_next = F.softmax(log[:, -1]/ temperature, dim=-1).data.numpy()[0]\n",
        "        #print(p_next)\n",
        "        # sample next token and push it back into x_sequence\n",
        "        next_ix = np.random.choice(num_tokens,p=p_next)\n",
        "        next_ix = torch.tensor([[next_ix]], dtype=torch.int64)\n",
        "        x_sequence = torch.cat([x_sequence, next_ix], dim=1)\n",
        "        #print(cur_id, ''.join([tokens[ix] for ix in x_sequence.data.numpy()[0]]))\n",
        "        \n",
        "    return ''.join([tokens[ix] for ix in x_sequence.data.numpy()[0]])"
      ],
      "metadata": {
        "id": "8a1KYYji0jsA"
      },
      "execution_count": 118,
      "outputs": []
    },
    {
      "cell_type": "code",
      "execution_count": 120,
      "metadata": {
        "collapsed": true,
        "id": "5R8lm27P3xWt",
        "colab": {
          "base_uri": "https://localhost:8080/"
        },
        "outputId": "80f1a5c0-16ab-4533-b10a-cd1701ee57c3"
      },
      "outputs": [
        {
          "output_type": "stream",
          "name": "stdout",
          "text": [
            "0.1 : i shall the see the strange the will shall still,\n",
            "\n",
            "0.2 : i my summer that heart the praise thee be thee,\n",
            "  \n",
            "0.5 : i love than the a virdet be though time thy stray,\n",
            "1.0 : i suill his my love onober-and fieved,\n",
            "           \n",
            "2.0 : i ad, mest oof ount the hive a droofs,\n",
            " t  ,      \n"
          ]
        }
      ],
      "source": [
        "# Text generation with different temperature values here\n",
        "for item in [0.1, 0.2, 0.5, 1.0, 2.0]:\n",
        "    print(item, \":\", generate_sample(adv_model, seed_phrase=\"i \", temperature=item, max_length = 50))"
      ]
    },
    {
      "cell_type": "markdown",
      "source": [
        "Small temperature: model almost repeats training data not produce poetry itself, high temperature: model generates diverse samples, it gains \"imagination\" but it is less similar to real language. Temperature 0.5 is optimal"
      ],
      "metadata": {
        "id": "_7vFa2w01jGz"
      }
    },
    {
      "cell_type": "markdown",
      "metadata": {
        "id": "bh9VV4pf3xWt"
      },
      "source": [
        "### Saving and loading models"
      ]
    },
    {
      "cell_type": "markdown",
      "metadata": {
        "id": "VbNWhScF3xWt"
      },
      "source": [
        "Save the model to the disk, then load it and generate text. Examples are available [here](https://pytorch.org/tutorials/beginner/saving_loading_models.html])."
      ]
    },
    {
      "cell_type": "code",
      "execution_count": 54,
      "metadata": {
        "collapsed": true,
        "id": "T53sDzth3xWt"
      },
      "outputs": [],
      "source": [
        "# Saving and loading code here\n",
        "torch.save(model.state_dict(), 'vanilla_rnn')"
      ]
    },
    {
      "cell_type": "code",
      "source": [
        "model1 = CharRNNLoop()\n",
        "model1.load_state_dict(torch.load('vanilla_rnn'))\n",
        "model1.eval()\n",
        "print(generate_sample(model1, seed_phrase=\"you\", temperature=0.5, max_length = 50))"
      ],
      "metadata": {
        "colab": {
          "base_uri": "https://localhost:8080/"
        },
        "id": "U4VVE9_Akh5x",
        "outputId": "32865ffa-3a28-4d35-f466-e5a5b1a031bc"
      },
      "execution_count": 61,
      "outputs": [
        {
          "output_type": "stream",
          "name": "stdout",
          "text": [
            "youn thy death my love thou make wais in the deart\n"
          ]
        }
      ]
    },
    {
      "cell_type": "markdown",
      "metadata": {
        "id": "zXVVBqza3xWt"
      },
      "source": [
        "### References\n",
        "1. <a href='http://karpathy.github.io/2015/05/21/rnn-effectiveness/'> Andrew Karpathy blog post about RNN. </a> \n",
        "There are several examples of genration: Shakespeare texts, Latex formulas, Linux Sourse Code and children names.\n",
        "2. <a href='https://github.com/karpathy/char-rnn'> Repo with char-rnn code </a>\n",
        "3. Cool repo with PyTorch examples: [link](https://github.com/spro/practical-pytorch`)"
      ]
    }
  ],
  "metadata": {
    "anaconda-cloud": {},
    "kernelspec": {
      "display_name": "Python 3",
      "language": "python",
      "name": "python3"
    },
    "language_info": {
      "codemirror_mode": {
        "name": "ipython",
        "version": 3
      },
      "file_extension": ".py",
      "mimetype": "text/x-python",
      "name": "python",
      "nbconvert_exporter": "python",
      "pygments_lexer": "ipython3",
      "version": "3.7.7"
    },
    "colab": {
      "name": "Lab2_DL_part3_poetry.ipynb",
      "provenance": [],
      "collapsed_sections": []
    }
  },
  "nbformat": 4,
  "nbformat_minor": 0
}